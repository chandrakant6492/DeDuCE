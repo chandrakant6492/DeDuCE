{
 "cells": [
  {
   "cell_type": "code",
   "execution_count": 2,
   "id": "635aa304-20cb-4d47-9a4c-254b39d73f72",
   "metadata": {},
   "outputs": [],
   "source": [
    "# Import packages\n",
    "import pandas as pd\n",
    "import numpy as np\n",
    "import os\n",
    "import matplotlib.pyplot as plt\n",
    "from tqdm import tqdm\n",
    "import datetime"
   ]
  },
  {
   "cell_type": "code",
   "execution_count": 3,
   "id": "80afdf6c-226c-40af-911e-f3394117edac",
   "metadata": {},
   "outputs": [],
   "source": [
    "# For tracking changes in data generated through script and GEE attribution dataset\n",
    "Dataset_version = 1\n",
    "GEE_data_version = 0\n",
    "Python_script_version = 1\n",
    "Year = '(2001-2022)'\n",
    "\n",
    "home_folder = '/home/chandra/backup/Chalmers/'\n",
    "Simulation_version = 'DeDuCE v'+str(Dataset_version)+'.'+str(GEE_data_version)+'.'+str(Python_script_version)+' ' + Year"
   ]
  },
  {
   "cell_type": "code",
   "execution_count": 4,
   "id": "adf20674-a706-40c4-ac17-d63627b46228",
   "metadata": {},
   "outputs": [],
   "source": [
    "home_folder = '/home/chandra/backup/Chalmers/'\n",
    "Simulation_version = 'DeDuCE v'+str(Dataset_version)+'.'+str(GEE_data_version)+'.'+str(Python_script_version)+' ' + Year"
   ]
  },
  {
   "cell_type": "code",
   "execution_count": 5,
   "id": "2f70e7c4-f779-4b0c-b233-0003c6b50803",
   "metadata": {},
   "outputs": [],
   "source": [
    "# Custom function to calculate the weighted mean\n",
    "def weighted_mean(group):\n",
    "    quality_index = group['Quality Index']\n",
    "    weights = group['Deforestation attribution, unamortized (ha)']\n",
    "    try:\n",
    "        return (quality_index * weights).sum() / weights.sum()\n",
    "    except ZeroDivisionError:\n",
    "        return np.nan"
   ]
  },
  {
   "cell_type": "code",
   "execution_count": null,
   "id": "dd694dce-dff1-4bd2-bceb-202bcd6ee79c",
   "metadata": {},
   "outputs": [],
   "source": []
  },
  {
   "cell_type": "markdown",
   "id": "96f3e1c4-60d6-4c32-af7e-f01bf7a0cb2c",
   "metadata": {},
   "source": [
    "## Reference"
   ]
  },
  {
   "cell_type": "code",
   "execution_count": 5,
   "id": "5c9ed417-d065-48e3-b2d2-25cbccd0a06b",
   "metadata": {},
   "outputs": [],
   "source": [
    "Reference = pd.read_excel(f'{home_folder}{Simulation_version}/Generated_results/DeDuCE_Deforestation_attribution_v{Dataset_version}.{GEE_data_version}.{Python_script_version} {Year}.xlsx')"
   ]
  },
  {
   "cell_type": "code",
   "execution_count": 6,
   "id": "8f34bb34-e6c8-40e2-82c3-80c85ac0d6e4",
   "metadata": {},
   "outputs": [],
   "source": [
    "Reference['Group'] = 1\n",
    "Agg_results = Reference.groupby(['Group']).apply(\n",
    "                lambda group: pd.Series({\n",
    "                    'Deforestation attribution, unamortized (ha)': group['Deforestation attribution, unamortized (ha)'].sum(),\n",
    "                    'Deforestation emissions excl. peat drainage, unamortized (MtCO2)': group['Deforestation emissions excl. peat drainage, unamortized (MtCO2)'].sum(),\n",
    "                    'Peatland drainage emissions (MtCO2)': group['Peatland drainage emissions (MtCO2)'].sum(),\n",
    "                    'Quality Index': weighted_mean(group)})\n",
    "                ).reset_index()\n",
    "\n",
    "# Add a new column for the total emissions\n",
    "Agg_results['Total emissions (MtCO2)'] = (\n",
    "    Agg_results['Deforestation emissions excl. peat drainage, unamortized (MtCO2)'] +\n",
    "    Agg_results['Peatland drainage emissions (MtCO2)']\n",
    ")"
   ]
  },
  {
   "cell_type": "code",
   "execution_count": 7,
   "id": "9011f2cb-2017-4226-8253-badeaeb50e25",
   "metadata": {},
   "outputs": [
    {
     "data": {
      "text/html": [
       "<style type=\"text/css\">\n",
       "</style>\n",
       "<table id=\"T_afc5c\">\n",
       "  <thead>\n",
       "    <tr>\n",
       "      <th class=\"blank level0\" >&nbsp;</th>\n",
       "      <th id=\"T_afc5c_level0_col0\" class=\"col_heading level0 col0\" >Deforestation attribution, unamortized (ha)</th>\n",
       "      <th id=\"T_afc5c_level0_col1\" class=\"col_heading level0 col1\" >Total emissions (MtCO2)</th>\n",
       "      <th id=\"T_afc5c_level0_col2\" class=\"col_heading level0 col2\" >Quality Index</th>\n",
       "    </tr>\n",
       "  </thead>\n",
       "  <tbody>\n",
       "    <tr>\n",
       "      <th id=\"T_afc5c_level0_row0\" class=\"row_heading level0 row0\" >0</th>\n",
       "      <td id=\"T_afc5c_row0_col0\" class=\"data row0 col0\" >121794096.28</td>\n",
       "      <td id=\"T_afc5c_row0_col1\" class=\"data row0 col1\" >44117.68</td>\n",
       "      <td id=\"T_afc5c_row0_col2\" class=\"data row0 col2\" >0.49</td>\n",
       "    </tr>\n",
       "  </tbody>\n",
       "</table>\n"
      ],
      "text/plain": [
       "<pandas.io.formats.style.Styler at 0x7fde77b38160>"
      ]
     },
     "execution_count": 7,
     "metadata": {},
     "output_type": "execute_result"
    }
   ],
   "source": [
    "Agg_results[['Deforestation attribution, unamortized (ha)', 'Total emissions (MtCO2)', 'Quality Index']].style.format({\n",
    "    'Deforestation attribution, unamortized (ha)': '{:.2f}',\n",
    "    'Total emissions (MtCO2)': '{:.2f}',\n",
    "    'Quality Index': '{:.2f}'\n",
    "})"
   ]
  },
  {
   "cell_type": "markdown",
   "id": "5855bb14-c4e0-4e12-b439-3540d554213e",
   "metadata": {},
   "source": [
    "### Reference (post-2020)"
   ]
  },
  {
   "cell_type": "code",
   "execution_count": 41,
   "id": "4c851372-6b38-4466-ae27-6981f83c1233",
   "metadata": {},
   "outputs": [],
   "source": [
    "Agg_results = Reference.loc[Reference.Year >= 2020].groupby(['Group']).apply(\n",
    "                lambda group: pd.Series({\n",
    "                    'Deforestation attribution, unamortized (ha)': group['Deforestation attribution, unamortized (ha)'].sum(),\n",
    "                    'Deforestation emissions excl. peat drainage, unamortized (MtCO2)': group['Deforestation emissions excl. peat drainage, unamortized (MtCO2)'].sum(),\n",
    "                    'Peatland drainage emissions (MtCO2)': group['Peatland drainage emissions (MtCO2)'].sum(),\n",
    "                    'Quality Index': weighted_mean(group)})\n",
    "                ).reset_index()\n",
    "\n",
    "# Add a new column for the total emissions\n",
    "Agg_results['Total emissions (MtCO2)'] = (\n",
    "    Agg_results['Deforestation emissions excl. peat drainage, unamortized (MtCO2)'] +\n",
    "    Agg_results['Peatland drainage emissions (MtCO2)']\n",
    ")"
   ]
  },
  {
   "cell_type": "code",
   "execution_count": 42,
   "id": "22f899cd-ef77-4303-a2e3-1b48f76a952a",
   "metadata": {},
   "outputs": [
    {
     "data": {
      "text/html": [
       "<style type=\"text/css\">\n",
       "</style>\n",
       "<table id=\"T_0408b\">\n",
       "  <thead>\n",
       "    <tr>\n",
       "      <th class=\"blank level0\" >&nbsp;</th>\n",
       "      <th id=\"T_0408b_level0_col0\" class=\"col_heading level0 col0\" >Deforestation attribution, unamortized (ha)</th>\n",
       "      <th id=\"T_0408b_level0_col1\" class=\"col_heading level0 col1\" >Total emissions (MtCO2)</th>\n",
       "      <th id=\"T_0408b_level0_col2\" class=\"col_heading level0 col2\" >Quality Index</th>\n",
       "    </tr>\n",
       "  </thead>\n",
       "  <tbody>\n",
       "    <tr>\n",
       "      <th id=\"T_0408b_level0_row0\" class=\"row_heading level0 row0\" >0</th>\n",
       "      <td id=\"T_0408b_row0_col0\" class=\"data row0 col0\" >13605957.26</td>\n",
       "      <td id=\"T_0408b_row0_col1\" class=\"data row0 col1\" >5576.80</td>\n",
       "      <td id=\"T_0408b_row0_col2\" class=\"data row0 col2\" >0.38</td>\n",
       "    </tr>\n",
       "  </tbody>\n",
       "</table>\n"
      ],
      "text/plain": [
       "<pandas.io.formats.style.Styler at 0x7f0ca697b970>"
      ]
     },
     "execution_count": 42,
     "metadata": {},
     "output_type": "execute_result"
    }
   ],
   "source": [
    "Agg_results[['Deforestation attribution, unamortized (ha)', 'Total emissions (MtCO2)', 'Quality Index']].style.format({\n",
    "    'Deforestation attribution, unamortized (ha)': '{:.2f}',\n",
    "    'Total emissions (MtCO2)': '{:.2f}',\n",
    "    'Quality Index': '{:.2f}'\n",
    "})"
   ]
  },
  {
   "cell_type": "markdown",
   "id": "cf88a2a7-d143-4e2e-943d-88f71fe78fee",
   "metadata": {},
   "source": [
    "### Reference (Only TMF countries)"
   ]
  },
  {
   "cell_type": "code",
   "execution_count": 51,
   "id": "e2a7f92b-0b1b-4778-99a5-c58c2823fdd7",
   "metadata": {},
   "outputs": [],
   "source": [
    "Agg_results = Reference.loc[Reference['Producer country'].isin(S4['Producer country'].unique())].groupby(['Group']).apply(\n",
    "                lambda group: pd.Series({\n",
    "                    'Deforestation attribution, unamortized (ha)': group['Deforestation attribution, unamortized (ha)'].sum(),\n",
    "                    'Deforestation emissions excl. peat drainage, unamortized (MtCO2)': group['Deforestation emissions excl. peat drainage, unamortized (MtCO2)'].sum(),\n",
    "                    'Peatland drainage emissions (MtCO2)': group['Peatland drainage emissions (MtCO2)'].sum(),\n",
    "                    'Quality Index': weighted_mean(group)})\n",
    "                ).reset_index()\n",
    "\n",
    "# Add a new column for the total emissions\n",
    "Agg_results['Total emissions (MtCO2)'] = (\n",
    "    Agg_results['Deforestation emissions excl. peat drainage, unamortized (MtCO2)'] +\n",
    "    Agg_results['Peatland drainage emissions (MtCO2)']\n",
    ")"
   ]
  },
  {
   "cell_type": "code",
   "execution_count": 52,
   "id": "aa42b2ed-ac58-46fc-a0ee-0e5f27ec0cdf",
   "metadata": {},
   "outputs": [
    {
     "data": {
      "text/html": [
       "<style type=\"text/css\">\n",
       "</style>\n",
       "<table id=\"T_35af9\">\n",
       "  <thead>\n",
       "    <tr>\n",
       "      <th class=\"blank level0\" >&nbsp;</th>\n",
       "      <th id=\"T_35af9_level0_col0\" class=\"col_heading level0 col0\" >Deforestation attribution, unamortized (ha)</th>\n",
       "      <th id=\"T_35af9_level0_col1\" class=\"col_heading level0 col1\" >Total emissions (MtCO2)</th>\n",
       "      <th id=\"T_35af9_level0_col2\" class=\"col_heading level0 col2\" >Quality Index</th>\n",
       "    </tr>\n",
       "  </thead>\n",
       "  <tbody>\n",
       "    <tr>\n",
       "      <th id=\"T_35af9_level0_row0\" class=\"row_heading level0 row0\" >0</th>\n",
       "      <td id=\"T_35af9_row0_col0\" class=\"data row0 col0\" >100460663.30</td>\n",
       "      <td id=\"T_35af9_row0_col1\" class=\"data row0 col1\" >42824.52</td>\n",
       "      <td id=\"T_35af9_row0_col2\" class=\"data row0 col2\" >0.52</td>\n",
       "    </tr>\n",
       "  </tbody>\n",
       "</table>\n"
      ],
      "text/plain": [
       "<pandas.io.formats.style.Styler at 0x7f0ca69839d0>"
      ]
     },
     "execution_count": 52,
     "metadata": {},
     "output_type": "execute_result"
    }
   ],
   "source": [
    "Agg_results[['Deforestation attribution, unamortized (ha)', 'Total emissions (MtCO2)', 'Quality Index']].style.format({\n",
    "    'Deforestation attribution, unamortized (ha)': '{:.2f}',\n",
    "    'Total emissions (MtCO2)': '{:.2f}',\n",
    "    'Quality Index': '{:.2f}'\n",
    "})"
   ]
  },
  {
   "cell_type": "markdown",
   "id": "ee5729c2-7ab8-4c1f-b231-1182bd656652",
   "metadata": {},
   "source": [
    "### Reference (Forest plantation)"
   ]
  },
  {
   "cell_type": "code",
   "execution_count": 19,
   "id": "b812f4e9-c83f-4687-89f4-fdd8f59263b2",
   "metadata": {},
   "outputs": [],
   "source": [
    "Agg_results = Reference.loc[Reference['Commodity group'] == 'Forest plantation'].groupby(['Group']).apply(\n",
    "                lambda group: pd.Series({\n",
    "                    'Deforestation attribution, unamortized (ha)': group['Deforestation attribution, unamortized (ha)'].sum(),\n",
    "                    'Deforestation emissions excl. peat drainage, unamortized (MtCO2)': group['Deforestation emissions excl. peat drainage, unamortized (MtCO2)'].sum(),\n",
    "                    'Peatland drainage emissions (MtCO2)': group['Peatland drainage emissions (MtCO2)'].sum(),\n",
    "                    'Quality Index': weighted_mean(group)})\n",
    "                ).reset_index()\n",
    "\n",
    "# Add a new column for the total emissions\n",
    "Agg_results['Total emissions (MtCO2)'] = (\n",
    "    Agg_results['Deforestation emissions excl. peat drainage, unamortized (MtCO2)'] +\n",
    "    Agg_results['Peatland drainage emissions (MtCO2)']\n",
    ")"
   ]
  },
  {
   "cell_type": "code",
   "execution_count": 20,
   "id": "73bb55cb-2597-4424-82b9-3a511ecb1e5a",
   "metadata": {},
   "outputs": [
    {
     "data": {
      "text/html": [
       "<style type=\"text/css\">\n",
       "</style>\n",
       "<table id=\"T_31227\">\n",
       "  <thead>\n",
       "    <tr>\n",
       "      <th class=\"blank level0\" >&nbsp;</th>\n",
       "      <th id=\"T_31227_level0_col0\" class=\"col_heading level0 col0\" >Deforestation attribution, unamortized (ha)</th>\n",
       "      <th id=\"T_31227_level0_col1\" class=\"col_heading level0 col1\" >Total emissions (MtCO2)</th>\n",
       "      <th id=\"T_31227_level0_col2\" class=\"col_heading level0 col2\" >Quality Index</th>\n",
       "    </tr>\n",
       "  </thead>\n",
       "  <tbody>\n",
       "    <tr>\n",
       "      <th id=\"T_31227_level0_row0\" class=\"row_heading level0 row0\" >0</th>\n",
       "      <td id=\"T_31227_row0_col0\" class=\"data row0 col0\" >16989601.04</td>\n",
       "      <td id=\"T_31227_row0_col1\" class=\"data row0 col1\" >-248.09</td>\n",
       "      <td id=\"T_31227_row0_col2\" class=\"data row0 col2\" >0.33</td>\n",
       "    </tr>\n",
       "  </tbody>\n",
       "</table>\n"
      ],
      "text/plain": [
       "<pandas.io.formats.style.Styler at 0x7fde73941e10>"
      ]
     },
     "execution_count": 20,
     "metadata": {},
     "output_type": "execute_result"
    }
   ],
   "source": [
    "Agg_results[['Deforestation attribution, unamortized (ha)', 'Total emissions (MtCO2)', 'Quality Index']].style.format({\n",
    "    'Deforestation attribution, unamortized (ha)': '{:.2f}',\n",
    "    'Total emissions (MtCO2)': '{:.2f}',\n",
    "    'Quality Index': '{:.2f}'\n",
    "})"
   ]
  },
  {
   "cell_type": "code",
   "execution_count": 70,
   "id": "ddf9f048-f4a4-4119-a8da-f0e8d56733e8",
   "metadata": {},
   "outputs": [],
   "source": [
    "Agg_results = Reference.loc[Reference['Producer country'].isin(S6['Producer country'].unique())].groupby(['Group']).apply(\n",
    "                lambda group: pd.Series({\n",
    "                    'Deforestation attribution, unamortized (ha)': group['Deforestation attribution, unamortized (ha)'].sum(),\n",
    "                    'Deforestation emissions excl. peat drainage, unamortized (MtCO2)': group['Deforestation emissions excl. peat drainage, unamortized (MtCO2)'].sum(),\n",
    "                    'Peatland drainage emissions (MtCO2)': group['Peatland drainage emissions (MtCO2)'].sum(),\n",
    "                    'Quality Index': weighted_mean(group)})\n",
    "                ).reset_index()\n",
    "\n",
    "# Add a new column for the total emissions\n",
    "Agg_results['Total emissions (MtCO2)'] = (\n",
    "    Agg_results['Deforestation emissions excl. peat drainage, unamortized (MtCO2)'] +\n",
    "    Agg_results['Peatland drainage emissions (MtCO2)']\n",
    ")"
   ]
  },
  {
   "cell_type": "code",
   "execution_count": 71,
   "id": "38d4862c-64d6-452e-8d93-05c05ed4dce6",
   "metadata": {},
   "outputs": [
    {
     "data": {
      "text/html": [
       "<style type=\"text/css\">\n",
       "</style>\n",
       "<table id=\"T_bdd70\">\n",
       "  <thead>\n",
       "    <tr>\n",
       "      <th class=\"blank level0\" >&nbsp;</th>\n",
       "      <th id=\"T_bdd70_level0_col0\" class=\"col_heading level0 col0\" >Deforestation attribution, unamortized (ha)</th>\n",
       "      <th id=\"T_bdd70_level0_col1\" class=\"col_heading level0 col1\" >Total emissions (MtCO2)</th>\n",
       "      <th id=\"T_bdd70_level0_col2\" class=\"col_heading level0 col2\" >Quality Index</th>\n",
       "    </tr>\n",
       "  </thead>\n",
       "  <tbody>\n",
       "    <tr>\n",
       "      <th id=\"T_bdd70_level0_row0\" class=\"row_heading level0 row0\" >0</th>\n",
       "      <td id=\"T_bdd70_row0_col0\" class=\"data row0 col0\" >67161919.12</td>\n",
       "      <td id=\"T_bdd70_row0_col1\" class=\"data row0 col1\" >28469.42</td>\n",
       "      <td id=\"T_bdd70_row0_col2\" class=\"data row0 col2\" >0.64</td>\n",
       "    </tr>\n",
       "  </tbody>\n",
       "</table>\n"
      ],
      "text/plain": [
       "<pandas.io.formats.style.Styler at 0x7f0ca840e560>"
      ]
     },
     "execution_count": 71,
     "metadata": {},
     "output_type": "execute_result"
    }
   ],
   "source": [
    "Agg_results[['Deforestation attribution, unamortized (ha)', 'Total emissions (MtCO2)', 'Quality Index']].style.format({\n",
    "    'Deforestation attribution, unamortized (ha)': '{:.2f}',\n",
    "    'Total emissions (MtCO2)': '{:.2f}',\n",
    "    'Quality Index': '{:.2f}'\n",
    "})"
   ]
  },
  {
   "cell_type": "markdown",
   "id": "46acfef2-d372-4a6b-a9f9-566e328a9f31",
   "metadata": {},
   "source": [
    "### Individual commodities"
   ]
  },
  {
   "cell_type": "code",
   "execution_count": 46,
   "id": "baeebaef-d389-4eea-a854-2f1b6f1ca1e8",
   "metadata": {},
   "outputs": [
    {
     "data": {
      "text/html": [
       "<style type=\"text/css\">\n",
       "</style>\n",
       "<table id=\"T_fbfcb\">\n",
       "  <thead>\n",
       "    <tr>\n",
       "      <th class=\"blank level0\" >&nbsp;</th>\n",
       "      <th id=\"T_fbfcb_level0_col0\" class=\"col_heading level0 col0\" >Deforestation attribution, unamortized (ha)</th>\n",
       "      <th id=\"T_fbfcb_level0_col1\" class=\"col_heading level0 col1\" >Total emissions (MtCO2)</th>\n",
       "      <th id=\"T_fbfcb_level0_col2\" class=\"col_heading level0 col2\" >Quality Index</th>\n",
       "    </tr>\n",
       "  </thead>\n",
       "  <tbody>\n",
       "    <tr>\n",
       "      <th id=\"T_fbfcb_level0_row0\" class=\"row_heading level0 row0\" >0</th>\n",
       "      <td id=\"T_fbfcb_row0_col0\" class=\"data row0 col0\" >7790477.41</td>\n",
       "      <td id=\"T_fbfcb_row0_col1\" class=\"data row0 col1\" >4249.87</td>\n",
       "      <td id=\"T_fbfcb_row0_col2\" class=\"data row0 col2\" >0.93</td>\n",
       "    </tr>\n",
       "  </tbody>\n",
       "</table>\n"
      ],
      "text/plain": [
       "<pandas.io.formats.style.Styler at 0x7fde72a5e110>"
      ]
     },
     "execution_count": 46,
     "metadata": {},
     "output_type": "execute_result"
    }
   ],
   "source": [
    "Agg_results = Reference.loc[(Reference['Commodity'] == 'Oil palm fruit') & (Reference['Producer country'] == 'Indonesia')].groupby(['Group']).apply(\n",
    "                lambda group: pd.Series({\n",
    "                    'Deforestation attribution, unamortized (ha)': group['Deforestation attribution, unamortized (ha)'].sum(),\n",
    "                    'Deforestation emissions excl. peat drainage, unamortized (MtCO2)': group['Deforestation emissions excl. peat drainage, unamortized (MtCO2)'].sum(),\n",
    "                    'Peatland drainage emissions (MtCO2)': group['Peatland drainage emissions (MtCO2)'].sum(),\n",
    "                    'Quality Index': weighted_mean(group)})\n",
    "                ).reset_index()\n",
    "\n",
    "# Add a new column for the total emissions\n",
    "Agg_results['Total emissions (MtCO2)'] = (\n",
    "    Agg_results['Deforestation emissions excl. peat drainage, unamortized (MtCO2)'] +\n",
    "    Agg_results['Peatland drainage emissions (MtCO2)']\n",
    ")\n",
    "\n",
    "Agg_results[['Deforestation attribution, unamortized (ha)', 'Total emissions (MtCO2)', 'Quality Index']].style.format({\n",
    "    'Deforestation attribution, unamortized (ha)': '{:.2f}',\n",
    "    'Total emissions (MtCO2)': '{:.2f}',\n",
    "    'Quality Index': '{:.2f}'\n",
    "})"
   ]
  },
  {
   "cell_type": "code",
   "execution_count": 47,
   "id": "b82e89eb-4e4a-4551-b638-54da0d025f86",
   "metadata": {},
   "outputs": [
    {
     "data": {
      "text/html": [
       "<style type=\"text/css\">\n",
       "</style>\n",
       "<table id=\"T_8b926\">\n",
       "  <thead>\n",
       "    <tr>\n",
       "      <th class=\"blank level0\" >&nbsp;</th>\n",
       "      <th id=\"T_8b926_level0_col0\" class=\"col_heading level0 col0\" >Deforestation attribution, unamortized (ha)</th>\n",
       "      <th id=\"T_8b926_level0_col1\" class=\"col_heading level0 col1\" >Total emissions (MtCO2)</th>\n",
       "      <th id=\"T_8b926_level0_col2\" class=\"col_heading level0 col2\" >Quality Index</th>\n",
       "    </tr>\n",
       "  </thead>\n",
       "  <tbody>\n",
       "    <tr>\n",
       "      <th id=\"T_8b926_level0_row0\" class=\"row_heading level0 row0\" >0</th>\n",
       "      <td id=\"T_8b926_row0_col0\" class=\"data row0 col0\" >896994.10</td>\n",
       "      <td id=\"T_8b926_row0_col1\" class=\"data row0 col1\" >238.16</td>\n",
       "      <td id=\"T_8b926_row0_col2\" class=\"data row0 col2\" >0.79</td>\n",
       "    </tr>\n",
       "  </tbody>\n",
       "</table>\n"
      ],
      "text/plain": [
       "<pandas.io.formats.style.Styler at 0x7fde72a5c760>"
      ]
     },
     "execution_count": 47,
     "metadata": {},
     "output_type": "execute_result"
    }
   ],
   "source": [
    "Agg_results = Reference.loc[(Reference['Commodity'] == 'Cocoa beans') & (Reference['Producer country'] == 'Côte d\\'Ivoire')].groupby(['Group']).apply(\n",
    "                lambda group: pd.Series({\n",
    "                    'Deforestation attribution, unamortized (ha)': group['Deforestation attribution, unamortized (ha)'].sum(),\n",
    "                    'Deforestation emissions excl. peat drainage, unamortized (MtCO2)': group['Deforestation emissions excl. peat drainage, unamortized (MtCO2)'].sum(),\n",
    "                    'Peatland drainage emissions (MtCO2)': group['Peatland drainage emissions (MtCO2)'].sum(),\n",
    "                    'Quality Index': weighted_mean(group)})\n",
    "                ).reset_index()\n",
    "\n",
    "# Add a new column for the total emissions\n",
    "Agg_results['Total emissions (MtCO2)'] = (\n",
    "    Agg_results['Deforestation emissions excl. peat drainage, unamortized (MtCO2)'] +\n",
    "    Agg_results['Peatland drainage emissions (MtCO2)']\n",
    ")\n",
    "\n",
    "Agg_results[['Deforestation attribution, unamortized (ha)', 'Total emissions (MtCO2)', 'Quality Index']].style.format({\n",
    "    'Deforestation attribution, unamortized (ha)': '{:.2f}',\n",
    "    'Total emissions (MtCO2)': '{:.2f}',\n",
    "    'Quality Index': '{:.2f}'\n",
    "})"
   ]
  },
  {
   "cell_type": "code",
   "execution_count": 48,
   "id": "b260af67-18c4-421a-a949-111686ee1be5",
   "metadata": {},
   "outputs": [
    {
     "data": {
      "text/html": [
       "<style type=\"text/css\">\n",
       "</style>\n",
       "<table id=\"T_3e5c9\">\n",
       "  <thead>\n",
       "    <tr>\n",
       "      <th class=\"blank level0\" >&nbsp;</th>\n",
       "      <th id=\"T_3e5c9_level0_col0\" class=\"col_heading level0 col0\" >Deforestation attribution, unamortized (ha)</th>\n",
       "      <th id=\"T_3e5c9_level0_col1\" class=\"col_heading level0 col1\" >Total emissions (MtCO2)</th>\n",
       "      <th id=\"T_3e5c9_level0_col2\" class=\"col_heading level0 col2\" >Quality Index</th>\n",
       "    </tr>\n",
       "  </thead>\n",
       "  <tbody>\n",
       "    <tr>\n",
       "      <th id=\"T_3e5c9_level0_row0\" class=\"row_heading level0 row0\" >0</th>\n",
       "      <td id=\"T_3e5c9_row0_col0\" class=\"data row0 col0\" >3461413.18</td>\n",
       "      <td id=\"T_3e5c9_row0_col1\" class=\"data row0 col1\" >1020.95</td>\n",
       "      <td id=\"T_3e5c9_row0_col2\" class=\"data row0 col2\" >0.85</td>\n",
       "    </tr>\n",
       "  </tbody>\n",
       "</table>\n"
      ],
      "text/plain": [
       "<pandas.io.formats.style.Styler at 0x7fde72a5c3a0>"
      ]
     },
     "execution_count": 48,
     "metadata": {},
     "output_type": "execute_result"
    }
   ],
   "source": [
    "Agg_results = Reference.loc[(Reference['Commodity'] == 'Soya beans') & (Reference['Producer country'] == 'Brazil')].groupby(['Group']).apply(\n",
    "                lambda group: pd.Series({\n",
    "                    'Deforestation attribution, unamortized (ha)': group['Deforestation attribution, unamortized (ha)'].sum(),\n",
    "                    'Deforestation emissions excl. peat drainage, unamortized (MtCO2)': group['Deforestation emissions excl. peat drainage, unamortized (MtCO2)'].sum(),\n",
    "                    'Peatland drainage emissions (MtCO2)': group['Peatland drainage emissions (MtCO2)'].sum(),\n",
    "                    'Quality Index': weighted_mean(group)})\n",
    "                ).reset_index()\n",
    "\n",
    "# Add a new column for the total emissions\n",
    "Agg_results['Total emissions (MtCO2)'] = (\n",
    "    Agg_results['Deforestation emissions excl. peat drainage, unamortized (MtCO2)'] +\n",
    "    Agg_results['Peatland drainage emissions (MtCO2)']\n",
    ")\n",
    "\n",
    "Agg_results[['Deforestation attribution, unamortized (ha)', 'Total emissions (MtCO2)', 'Quality Index']].style.format({\n",
    "    'Deforestation attribution, unamortized (ha)': '{:.2f}',\n",
    "    'Total emissions (MtCO2)': '{:.2f}',\n",
    "    'Quality Index': '{:.2f}'\n",
    "})"
   ]
  },
  {
   "cell_type": "code",
   "execution_count": null,
   "id": "e34d127c-4791-46f1-a623-395c6e1ee4c4",
   "metadata": {},
   "outputs": [],
   "source": []
  },
  {
   "cell_type": "code",
   "execution_count": null,
   "id": "0fcfe5b0-3fbb-48f7-b17a-c0f9a125fac5",
   "metadata": {},
   "outputs": [],
   "source": []
  },
  {
   "cell_type": "code",
   "execution_count": null,
   "id": "e45fd1a6-9d86-487d-a048-0c491df41249",
   "metadata": {},
   "outputs": [],
   "source": []
  },
  {
   "cell_type": "markdown",
   "id": "1ad6036a-a351-468c-b80d-fbcd068c779b",
   "metadata": {},
   "source": [
    "### Reference (Amortised 2020)"
   ]
  },
  {
   "cell_type": "code",
   "execution_count": 81,
   "id": "9cd034b7-728f-47f4-900f-8ca10801fc53",
   "metadata": {},
   "outputs": [
    {
     "name": "stderr",
     "output_type": "stream",
     "text": [
      "/tmp/user/1011/ipykernel_526682/2950878273.py:1: FutureWarning: The default value of numeric_only in DataFrameGroupBy.sum is deprecated. In a future version, numeric_only will default to False. Either specify numeric_only or select only columns which should be valid for the function.\n",
      "  Agg_results = Reference.loc[Reference['Year'] == 2020].groupby(['Group']).sum().reset_index()\n"
     ]
    }
   ],
   "source": [
    "Agg_results = Reference.loc[Reference['Year'] == 2020].groupby(['Group']).sum().reset_index()"
   ]
  },
  {
   "cell_type": "code",
   "execution_count": 82,
   "id": "b47283c1-dea5-409f-82a7-5571258efaeb",
   "metadata": {},
   "outputs": [
    {
     "data": {
      "text/html": [
       "<style type=\"text/css\">\n",
       "</style>\n",
       "<table id=\"T_6e003\">\n",
       "  <thead>\n",
       "    <tr>\n",
       "      <th class=\"blank level0\" >&nbsp;</th>\n",
       "      <th id=\"T_6e003_level0_col0\" class=\"col_heading level0 col0\" >Deforestation risk, amortized (ha)</th>\n",
       "      <th id=\"T_6e003_level0_col1\" class=\"col_heading level0 col1\" >Deforestation emissions incl. peat drainage, amortized (MtCO2)</th>\n",
       "    </tr>\n",
       "  </thead>\n",
       "  <tbody>\n",
       "    <tr>\n",
       "      <th id=\"T_6e003_level0_row0\" class=\"row_heading level0 row0\" >0</th>\n",
       "      <td id=\"T_6e003_row0_col0\" class=\"data row0 col0\" >5644532.32</td>\n",
       "      <td id=\"T_6e003_row0_col1\" class=\"data row0 col1\" >2112.966089</td>\n",
       "    </tr>\n",
       "  </tbody>\n",
       "</table>\n"
      ],
      "text/plain": [
       "<pandas.io.formats.style.Styler at 0x7f0ca529c7c0>"
      ]
     },
     "execution_count": 82,
     "metadata": {},
     "output_type": "execute_result"
    }
   ],
   "source": [
    "Agg_results[['Deforestation risk, amortized (ha)', 'Deforestation emissions incl. peat drainage, amortized (MtCO2)']].style.format({\n",
    "    'Deforestation risk, amortized (ha)': '{:.2f}',\n",
    "    'Deforestation emissions incl. peat drainage, amortized (MtCO2': '{:.2f}',\n",
    "})"
   ]
  },
  {
   "cell_type": "markdown",
   "id": "76cc2f88-af94-4a38-a7fa-81bb10a02fc8",
   "metadata": {},
   "source": [
    "### Reference (Only Brazil)"
   ]
  },
  {
   "cell_type": "code",
   "execution_count": 127,
   "id": "dad7c9fc-6f88-4150-901b-dad2e5b83187",
   "metadata": {},
   "outputs": [],
   "source": [
    "Agg_results = Reference.loc[Reference['Producer country'] == 'Brazil'].groupby(['Group']).apply(\n",
    "                lambda group: pd.Series({\n",
    "                    'Deforestation attribution, unamortized (ha)': group['Deforestation attribution, unamortized (ha)'].sum(),\n",
    "                    'Deforestation emissions excl. peat drainage, unamortized (MtCO2)': group['Deforestation emissions excl. peat drainage, unamortized (MtCO2)'].sum(),\n",
    "                    'Peatland drainage emissions (MtCO2)': group['Peatland drainage emissions (MtCO2)'].sum(),\n",
    "                    'Quality Index': weighted_mean(group)})\n",
    "                ).reset_index()\n",
    "\n",
    "# Add a new column for the total emissions\n",
    "Agg_results['Total emissions (MtCO2)'] = (\n",
    "    Agg_results['Deforestation emissions excl. peat drainage, unamortized (MtCO2)'] +\n",
    "    Agg_results['Peatland drainage emissions (MtCO2)']\n",
    ")"
   ]
  },
  {
   "cell_type": "code",
   "execution_count": 128,
   "id": "811196b8-5d1e-40ce-a850-855d756a73fa",
   "metadata": {},
   "outputs": [
    {
     "data": {
      "text/html": [
       "<style type=\"text/css\">\n",
       "</style>\n",
       "<table id=\"T_22035\">\n",
       "  <thead>\n",
       "    <tr>\n",
       "      <th class=\"blank level0\" >&nbsp;</th>\n",
       "      <th id=\"T_22035_level0_col0\" class=\"col_heading level0 col0\" >Deforestation attribution, unamortized (ha)</th>\n",
       "      <th id=\"T_22035_level0_col1\" class=\"col_heading level0 col1\" >Total emissions (MtCO2)</th>\n",
       "      <th id=\"T_22035_level0_col2\" class=\"col_heading level0 col2\" >Quality Index</th>\n",
       "    </tr>\n",
       "  </thead>\n",
       "  <tbody>\n",
       "    <tr>\n",
       "      <th id=\"T_22035_level0_row0\" class=\"row_heading level0 row0\" >0</th>\n",
       "      <td id=\"T_22035_row0_col0\" class=\"data row0 col0\" >38329215.65</td>\n",
       "      <td id=\"T_22035_row0_col1\" class=\"data row0 col1\" >16996.50</td>\n",
       "      <td id=\"T_22035_row0_col2\" class=\"data row0 col2\" >0.61</td>\n",
       "    </tr>\n",
       "  </tbody>\n",
       "</table>\n"
      ],
      "text/plain": [
       "<pandas.io.formats.style.Styler at 0x7f0ca30fe650>"
      ]
     },
     "execution_count": 128,
     "metadata": {},
     "output_type": "execute_result"
    }
   ],
   "source": [
    "Agg_results[['Deforestation attribution, unamortized (ha)', 'Total emissions (MtCO2)', 'Quality Index']].style.format({\n",
    "    'Deforestation attribution, unamortized (ha)': '{:.2f}',\n",
    "    'Total emissions (MtCO2)': '{:.2f}',\n",
    "    'Quality Index': '{:.2f}'\n",
    "})"
   ]
  },
  {
   "cell_type": "code",
   "execution_count": null,
   "id": "5a72eb5d-a873-418e-9d21-f99d833c4c92",
   "metadata": {},
   "outputs": [],
   "source": []
  },
  {
   "cell_type": "code",
   "execution_count": null,
   "id": "29befdf5-2067-451d-9cd7-ed31809f432f",
   "metadata": {},
   "outputs": [],
   "source": []
  },
  {
   "cell_type": "markdown",
   "id": "f6807364-49fa-403b-992a-bf155b1eccfb",
   "metadata": {},
   "source": [
    "## S1 (Treecover 10)"
   ]
  },
  {
   "cell_type": "code",
   "execution_count": 25,
   "id": "d2d6d3c0-9158-41a3-a42e-e43e265e4335",
   "metadata": {},
   "outputs": [],
   "source": [
    "Sensitivity = 'Sensitivity analyses/S1 (Treecover 10)'\n",
    "S1 = pd.read_excel(f'{home_folder}{Simulation_version}/{Sensitivity}/Generated_results/DeDuCE_Deforestation_attribution_v{Dataset_version}.{GEE_data_version}.{Python_script_version} {Year}.xlsx')"
   ]
  },
  {
   "cell_type": "code",
   "execution_count": 28,
   "id": "5cac1b82-1362-400a-95d4-e9754fadd5af",
   "metadata": {},
   "outputs": [],
   "source": [
    "S1['Group'] = 1\n",
    "Agg_results = S1.groupby(['Group']).apply(\n",
    "                lambda group: pd.Series({\n",
    "                    'Deforestation attribution, unamortized (ha)': group['Deforestation attribution, unamortized (ha)'].sum(),\n",
    "                    'Deforestation emissions excl. peat drainage, unamortized (MtCO2)': group['Deforestation emissions excl. peat drainage, unamortized (MtCO2)'].sum(),\n",
    "                    'Peatland drainage emissions (MtCO2)': group['Peatland drainage emissions (MtCO2)'].sum(),\n",
    "                    'Quality Index': weighted_mean(group)})\n",
    "                ).reset_index()\n",
    "\n",
    "# Add a new column for the total emissions\n",
    "Agg_results['Total emissions (MtCO2)'] = (\n",
    "    Agg_results['Deforestation emissions excl. peat drainage, unamortized (MtCO2)'] +\n",
    "    Agg_results['Peatland drainage emissions (MtCO2)']\n",
    ")"
   ]
  },
  {
   "cell_type": "code",
   "execution_count": 29,
   "id": "d64c4f4b-99e2-42ea-8c26-fa13d5473848",
   "metadata": {},
   "outputs": [
    {
     "data": {
      "text/html": [
       "<style type=\"text/css\">\n",
       "</style>\n",
       "<table id=\"T_fb539\">\n",
       "  <thead>\n",
       "    <tr>\n",
       "      <th class=\"blank level0\" >&nbsp;</th>\n",
       "      <th id=\"T_fb539_level0_col0\" class=\"col_heading level0 col0\" >Deforestation attribution, unamortized (ha)</th>\n",
       "      <th id=\"T_fb539_level0_col1\" class=\"col_heading level0 col1\" >Total emissions (MtCO2)</th>\n",
       "      <th id=\"T_fb539_level0_col2\" class=\"col_heading level0 col2\" >Quality Index</th>\n",
       "    </tr>\n",
       "  </thead>\n",
       "  <tbody>\n",
       "    <tr>\n",
       "      <th id=\"T_fb539_level0_row0\" class=\"row_heading level0 row0\" >0</th>\n",
       "      <td id=\"T_fb539_row0_col0\" class=\"data row0 col0\" >129821625.71</td>\n",
       "      <td id=\"T_fb539_row0_col1\" class=\"data row0 col1\" >44742.28</td>\n",
       "      <td id=\"T_fb539_row0_col2\" class=\"data row0 col2\" >0.49</td>\n",
       "    </tr>\n",
       "  </tbody>\n",
       "</table>\n"
      ],
      "text/plain": [
       "<pandas.io.formats.style.Styler at 0x7f0ca5587e50>"
      ]
     },
     "execution_count": 29,
     "metadata": {},
     "output_type": "execute_result"
    }
   ],
   "source": [
    "Agg_results[['Deforestation attribution, unamortized (ha)', 'Total emissions (MtCO2)', 'Quality Index']].style.format({\n",
    "    'Deforestation attribution, unamortized (ha)': '{:.2f}',\n",
    "    'Total emissions (MtCO2)': '{:.2f}',\n",
    "    'Quality Index': '{:.2f}'\n",
    "})"
   ]
  },
  {
   "cell_type": "code",
   "execution_count": null,
   "id": "3cc3b8b2-c04a-44c9-b1e8-eb8f14037c0b",
   "metadata": {},
   "outputs": [],
   "source": []
  },
  {
   "cell_type": "code",
   "execution_count": null,
   "id": "1f0b6aef-6d11-4395-9eab-5d0335c7612c",
   "metadata": {},
   "outputs": [],
   "source": []
  },
  {
   "cell_type": "markdown",
   "id": "c7c858b0-0814-46cd-8557-2e12e93d5e17",
   "metadata": {},
   "source": [
    "## S2 (Treecover 75)"
   ]
  },
  {
   "cell_type": "code",
   "execution_count": 30,
   "id": "25aab2e9-aa4b-488b-9596-54798efd30a3",
   "metadata": {},
   "outputs": [],
   "source": [
    "Sensitivity = 'Sensitivity analyses/S2 (Treecover 75)'\n",
    "S2 = pd.read_excel(f'{home_folder}{Simulation_version}/{Sensitivity}/Generated_results/DeDuCE_Deforestation_attribution_v{Dataset_version}.{GEE_data_version}.{Python_script_version} {Year}.xlsx')"
   ]
  },
  {
   "cell_type": "code",
   "execution_count": 33,
   "id": "6233f9d1-bbe8-493e-a187-25545654ee09",
   "metadata": {},
   "outputs": [],
   "source": [
    "S2['Group'] = 1\n",
    "Agg_results = S2.groupby(['Group']).apply(\n",
    "                lambda group: pd.Series({\n",
    "                    'Deforestation attribution, unamortized (ha)': group['Deforestation attribution, unamortized (ha)'].sum(),\n",
    "                    'Deforestation emissions excl. peat drainage, unamortized (MtCO2)': group['Deforestation emissions excl. peat drainage, unamortized (MtCO2)'].sum(),\n",
    "                    'Peatland drainage emissions (MtCO2)': group['Peatland drainage emissions (MtCO2)'].sum(),\n",
    "                    'Quality Index': weighted_mean(group)})\n",
    "                ).reset_index()\n",
    "\n",
    "# Add a new column for the total emissions\n",
    "Agg_results['Total emissions (MtCO2)'] = (\n",
    "    Agg_results['Deforestation emissions excl. peat drainage, unamortized (MtCO2)'] +\n",
    "    Agg_results['Peatland drainage emissions (MtCO2)']\n",
    ")"
   ]
  },
  {
   "cell_type": "code",
   "execution_count": 34,
   "id": "c9bf9b3d-c071-4f7f-84d5-517f5b6da560",
   "metadata": {},
   "outputs": [
    {
     "data": {
      "text/html": [
       "<style type=\"text/css\">\n",
       "</style>\n",
       "<table id=\"T_fa7e5\">\n",
       "  <thead>\n",
       "    <tr>\n",
       "      <th class=\"blank level0\" >&nbsp;</th>\n",
       "      <th id=\"T_fa7e5_level0_col0\" class=\"col_heading level0 col0\" >Deforestation attribution, unamortized (ha)</th>\n",
       "      <th id=\"T_fa7e5_level0_col1\" class=\"col_heading level0 col1\" >Total emissions (MtCO2)</th>\n",
       "      <th id=\"T_fa7e5_level0_col2\" class=\"col_heading level0 col2\" >Quality Index</th>\n",
       "    </tr>\n",
       "  </thead>\n",
       "  <tbody>\n",
       "    <tr>\n",
       "      <th id=\"T_fa7e5_level0_row0\" class=\"row_heading level0 row0\" >0</th>\n",
       "      <td id=\"T_fa7e5_row0_col0\" class=\"data row0 col0\" >85276875.32</td>\n",
       "      <td id=\"T_fa7e5_row0_col1\" class=\"data row0 col1\" >39279.85</td>\n",
       "      <td id=\"T_fa7e5_row0_col2\" class=\"data row0 col2\" >0.50</td>\n",
       "    </tr>\n",
       "  </tbody>\n",
       "</table>\n"
      ],
      "text/plain": [
       "<pandas.io.formats.style.Styler at 0x7f0ca4fccd60>"
      ]
     },
     "execution_count": 34,
     "metadata": {},
     "output_type": "execute_result"
    }
   ],
   "source": [
    "Agg_results[['Deforestation attribution, unamortized (ha)', 'Total emissions (MtCO2)', 'Quality Index']].style.format({\n",
    "    'Deforestation attribution, unamortized (ha)': '{:.2f}',\n",
    "    'Total emissions (MtCO2)': '{:.2f}',\n",
    "    'Quality Index': '{:.2f}'\n",
    "})"
   ]
  },
  {
   "cell_type": "code",
   "execution_count": null,
   "id": "0f8b021c-a41f-45c7-a638-02c5558ded2e",
   "metadata": {},
   "outputs": [],
   "source": []
  },
  {
   "cell_type": "code",
   "execution_count": null,
   "id": "4da480fa-9be3-487e-ba7b-62c920e2f50a",
   "metadata": {},
   "outputs": [],
   "source": []
  },
  {
   "cell_type": "markdown",
   "id": "3b2aad32-d6db-4e35-9451-97f12f560f62",
   "metadata": {},
   "source": [
    "## S3 (JRC Forest cover)"
   ]
  },
  {
   "cell_type": "code",
   "execution_count": 35,
   "id": "93a78319-9c47-42ed-84d2-cb8a8f1fbac0",
   "metadata": {},
   "outputs": [],
   "source": [
    "Sensitivity = 'Sensitivity analyses/S3 (JRC Forest cover)'\n",
    "S3 = pd.read_excel(f'{home_folder}{Simulation_version}/{Sensitivity}/Generated_results/DeDuCE_Deforestation_attribution_v{Dataset_version}.{GEE_data_version}.{Python_script_version} {Year}.xlsx')"
   ]
  },
  {
   "cell_type": "code",
   "execution_count": 36,
   "id": "abcbdba7-8dae-4d49-aef4-92702e3b9562",
   "metadata": {},
   "outputs": [],
   "source": [
    "S3['Group'] = 1\n",
    "Agg_results = S3.groupby(['Group']).apply(\n",
    "                lambda group: pd.Series({\n",
    "                    'Deforestation attribution, unamortized (ha)': group['Deforestation attribution, unamortized (ha)'].sum(),\n",
    "                    'Deforestation emissions excl. peat drainage, unamortized (MtCO2)': group['Deforestation emissions excl. peat drainage, unamortized (MtCO2)'].sum(),\n",
    "                    'Peatland drainage emissions (MtCO2)': group['Peatland drainage emissions (MtCO2)'].sum(),\n",
    "                    'Quality Index': weighted_mean(group)})\n",
    "                ).reset_index()\n",
    "\n",
    "# Add a new column for the total emissions\n",
    "Agg_results['Total emissions (MtCO2)'] = (\n",
    "    Agg_results['Deforestation emissions excl. peat drainage, unamortized (MtCO2)'] +\n",
    "    Agg_results['Peatland drainage emissions (MtCO2)']\n",
    ")"
   ]
  },
  {
   "cell_type": "code",
   "execution_count": 37,
   "id": "5b03cde4-6274-422f-8a6b-5a875d3bdc80",
   "metadata": {},
   "outputs": [
    {
     "data": {
      "text/html": [
       "<style type=\"text/css\">\n",
       "</style>\n",
       "<table id=\"T_8ea1f\">\n",
       "  <thead>\n",
       "    <tr>\n",
       "      <th class=\"blank level0\" >&nbsp;</th>\n",
       "      <th id=\"T_8ea1f_level0_col0\" class=\"col_heading level0 col0\" >Deforestation attribution, unamortized (ha)</th>\n",
       "      <th id=\"T_8ea1f_level0_col1\" class=\"col_heading level0 col1\" >Total emissions (MtCO2)</th>\n",
       "      <th id=\"T_8ea1f_level0_col2\" class=\"col_heading level0 col2\" >Quality Index</th>\n",
       "    </tr>\n",
       "  </thead>\n",
       "  <tbody>\n",
       "    <tr>\n",
       "      <th id=\"T_8ea1f_level0_row0\" class=\"row_heading level0 row0\" >0</th>\n",
       "      <td id=\"T_8ea1f_row0_col0\" class=\"data row0 col0\" >12088808.04</td>\n",
       "      <td id=\"T_8ea1f_row0_col1\" class=\"data row0 col1\" >3361.76</td>\n",
       "      <td id=\"T_8ea1f_row0_col2\" class=\"data row0 col2\" >0.34</td>\n",
       "    </tr>\n",
       "  </tbody>\n",
       "</table>\n"
      ],
      "text/plain": [
       "<pandas.io.formats.style.Styler at 0x7f0cad1781c0>"
      ]
     },
     "execution_count": 37,
     "metadata": {},
     "output_type": "execute_result"
    }
   ],
   "source": [
    "Agg_results[['Deforestation attribution, unamortized (ha)', 'Total emissions (MtCO2)', 'Quality Index']].style.format({\n",
    "    'Deforestation attribution, unamortized (ha)': '{:.2f}',\n",
    "    'Total emissions (MtCO2)': '{:.2f}',\n",
    "    'Quality Index': '{:.2f}'\n",
    "})"
   ]
  },
  {
   "cell_type": "code",
   "execution_count": null,
   "id": "7ec45b03-c6bf-43ca-9875-7b2a1d9a43e2",
   "metadata": {},
   "outputs": [],
   "source": []
  },
  {
   "cell_type": "markdown",
   "id": "2e908bdb-05f1-4bd1-aef4-86ce4cc45a80",
   "metadata": {},
   "source": [
    "## S4 (TMF Deforestation)"
   ]
  },
  {
   "cell_type": "code",
   "execution_count": 6,
   "id": "eb6ffb06-6020-48db-b83a-04c4ebdcf0b4",
   "metadata": {},
   "outputs": [],
   "source": [
    "Sensitivity = 'Sensitivity analyses/S4 (Deforestation)'\n",
    "S4 = pd.read_excel(f'{home_folder}{Simulation_version}/{Sensitivity}/Generated_results/DeDuCE_Deforestation_attribution_v{Dataset_version}.{GEE_data_version}.{Python_script_version} {Year}.xlsx')"
   ]
  },
  {
   "cell_type": "code",
   "execution_count": 7,
   "id": "d5f69b63-f3bd-4843-89c5-ca4f180cc64d",
   "metadata": {},
   "outputs": [],
   "source": [
    "S4['Group'] = 1\n",
    "Agg_results = S4.groupby(['Group']).apply(\n",
    "                lambda group: pd.Series({\n",
    "                    'Deforestation attribution, unamortized (ha)': group['Deforestation attribution, unamortized (ha)'].sum(),\n",
    "                    'Deforestation emissions excl. peat drainage, unamortized (MtCO2)': group['Deforestation emissions excl. peat drainage, unamortized (MtCO2)'].sum(),\n",
    "                    'Peatland drainage emissions (MtCO2)': group['Peatland drainage emissions (MtCO2)'].sum(),\n",
    "                    'Quality Index': weighted_mean(group)})\n",
    "                ).reset_index()\n",
    "\n",
    "# Add a new column for the total emissions\n",
    "Agg_results['Total emissions (MtCO2)'] = (\n",
    "    Agg_results['Deforestation emissions excl. peat drainage, unamortized (MtCO2)'] +\n",
    "    Agg_results['Peatland drainage emissions (MtCO2)']\n",
    ")"
   ]
  },
  {
   "cell_type": "code",
   "execution_count": 8,
   "id": "cfaad87a-4b27-4329-8d25-8970aa4986c9",
   "metadata": {},
   "outputs": [
    {
     "data": {
      "text/html": [
       "<style type=\"text/css\">\n",
       "</style>\n",
       "<table id=\"T_f9cf0\">\n",
       "  <thead>\n",
       "    <tr>\n",
       "      <th class=\"blank level0\" >&nbsp;</th>\n",
       "      <th id=\"T_f9cf0_level0_col0\" class=\"col_heading level0 col0\" >Deforestation attribution, unamortized (ha)</th>\n",
       "      <th id=\"T_f9cf0_level0_col1\" class=\"col_heading level0 col1\" >Total emissions (MtCO2)</th>\n",
       "      <th id=\"T_f9cf0_level0_col2\" class=\"col_heading level0 col2\" >Quality Index</th>\n",
       "    </tr>\n",
       "  </thead>\n",
       "  <tbody>\n",
       "    <tr>\n",
       "      <th id=\"T_f9cf0_level0_row0\" class=\"row_heading level0 row0\" >0</th>\n",
       "      <td id=\"T_f9cf0_row0_col0\" class=\"data row0 col0\" >72163857.91</td>\n",
       "      <td id=\"T_f9cf0_row0_col1\" class=\"data row0 col1\" >34756.79</td>\n",
       "      <td id=\"T_f9cf0_row0_col2\" class=\"data row0 col2\" >0.52</td>\n",
       "    </tr>\n",
       "  </tbody>\n",
       "</table>\n"
      ],
      "text/plain": [
       "<pandas.io.formats.style.Styler at 0x7fe1bb3a0310>"
      ]
     },
     "execution_count": 8,
     "metadata": {},
     "output_type": "execute_result"
    }
   ],
   "source": [
    "Agg_results[['Deforestation attribution, unamortized (ha)', 'Total emissions (MtCO2)', 'Quality Index']].style.format({\n",
    "    'Deforestation attribution, unamortized (ha)': '{:.2f}',\n",
    "    'Total emissions (MtCO2)': '{:.2f}',\n",
    "    'Quality Index': '{:.2f}'\n",
    "})"
   ]
  },
  {
   "cell_type": "code",
   "execution_count": null,
   "id": "248c4544-a20f-4fc6-abe8-ab26e65aaa44",
   "metadata": {},
   "outputs": [],
   "source": []
  },
  {
   "cell_type": "code",
   "execution_count": 9,
   "id": "3c8086b2-347f-46d5-966c-8ec41dd95b05",
   "metadata": {},
   "outputs": [
    {
     "data": {
      "text/html": [
       "<style type=\"text/css\">\n",
       "</style>\n",
       "<table id=\"T_4f1b9\">\n",
       "  <thead>\n",
       "    <tr>\n",
       "      <th class=\"blank level0\" >&nbsp;</th>\n",
       "      <th id=\"T_4f1b9_level0_col0\" class=\"col_heading level0 col0\" >Deforestation attribution, unamortized (ha)</th>\n",
       "      <th id=\"T_4f1b9_level0_col1\" class=\"col_heading level0 col1\" >Total emissions (MtCO2)</th>\n",
       "      <th id=\"T_4f1b9_level0_col2\" class=\"col_heading level0 col2\" >Quality Index</th>\n",
       "    </tr>\n",
       "  </thead>\n",
       "  <tbody>\n",
       "    <tr>\n",
       "      <th id=\"T_4f1b9_level0_row0\" class=\"row_heading level0 row0\" >0</th>\n",
       "      <td id=\"T_4f1b9_row0_col0\" class=\"data row0 col0\" >1298211.43</td>\n",
       "      <td id=\"T_4f1b9_row0_col1\" class=\"data row0 col1\" >302.18</td>\n",
       "      <td id=\"T_4f1b9_row0_col2\" class=\"data row0 col2\" >0.79</td>\n",
       "    </tr>\n",
       "  </tbody>\n",
       "</table>\n"
      ],
      "text/plain": [
       "<pandas.io.formats.style.Styler at 0x7fe1ba2834f0>"
      ]
     },
     "execution_count": 9,
     "metadata": {},
     "output_type": "execute_result"
    }
   ],
   "source": [
    "Agg_results = S4.loc[(S4['Commodity'] == 'Cocoa beans') & (S4['Producer country'] == 'Côte d\\'Ivoire')].groupby(['Group']).apply(\n",
    "                lambda group: pd.Series({\n",
    "                    'Deforestation attribution, unamortized (ha)': group['Deforestation attribution, unamortized (ha)'].sum(),\n",
    "                    'Deforestation emissions excl. peat drainage, unamortized (MtCO2)': group['Deforestation emissions excl. peat drainage, unamortized (MtCO2)'].sum(),\n",
    "                    'Peatland drainage emissions (MtCO2)': group['Peatland drainage emissions (MtCO2)'].sum(),\n",
    "                    'Quality Index': weighted_mean(group)})\n",
    "                ).reset_index()\n",
    "\n",
    "# Add a new column for the total emissions\n",
    "Agg_results['Total emissions (MtCO2)'] = (\n",
    "    Agg_results['Deforestation emissions excl. peat drainage, unamortized (MtCO2)'] +\n",
    "    Agg_results['Peatland drainage emissions (MtCO2)']\n",
    ")\n",
    "\n",
    "Agg_results[['Deforestation attribution, unamortized (ha)', 'Total emissions (MtCO2)', 'Quality Index']].style.format({\n",
    "    'Deforestation attribution, unamortized (ha)': '{:.2f}',\n",
    "    'Total emissions (MtCO2)': '{:.2f}',\n",
    "    'Quality Index': '{:.2f}'\n",
    "})"
   ]
  },
  {
   "cell_type": "markdown",
   "id": "c65accd7-ab09-4b77-856f-e8056ebfafcb",
   "metadata": {},
   "source": [
    "## S5 (No forest plantation)"
   ]
  },
  {
   "cell_type": "code",
   "execution_count": 21,
   "id": "dd20c380-9ca2-4237-9ce9-293395901253",
   "metadata": {},
   "outputs": [],
   "source": [
    "Sensitivity = 'Sensitivity analyses/S5 (No forest plantation)'\n",
    "S5 = pd.read_excel(f'{home_folder}{Simulation_version}/{Sensitivity}/Generated_results/DeDuCE_Deforestation_attribution_v{Dataset_version}.{GEE_data_version}.{Python_script_version} {Year}.xlsx')"
   ]
  },
  {
   "cell_type": "code",
   "execution_count": 22,
   "id": "48d503b5-f615-46c8-8157-af5e30f6d950",
   "metadata": {},
   "outputs": [],
   "source": [
    "S5['Group'] = 1\n",
    "Agg_results = S5.groupby(['Group']).apply(\n",
    "                lambda group: pd.Series({\n",
    "                    'Deforestation attribution, unamortized (ha)': group['Deforestation attribution, unamortized (ha)'].sum(),\n",
    "                    'Deforestation emissions excl. peat drainage, unamortized (MtCO2)': group['Deforestation emissions excl. peat drainage, unamortized (MtCO2)'].sum(),\n",
    "                    'Peatland drainage emissions (MtCO2)': group['Peatland drainage emissions (MtCO2)'].sum(),\n",
    "                    'Quality Index': weighted_mean(group)})\n",
    "                ).reset_index()\n",
    "\n",
    "# Add a new column for the total emissions\n",
    "Agg_results['Total emissions (MtCO2)'] = (\n",
    "    Agg_results['Deforestation emissions excl. peat drainage, unamortized (MtCO2)'] +\n",
    "    Agg_results['Peatland drainage emissions (MtCO2)']\n",
    ")"
   ]
  },
  {
   "cell_type": "code",
   "execution_count": 23,
   "id": "5e76861f-3c30-41c2-a395-e0b0a40b0a3f",
   "metadata": {},
   "outputs": [
    {
     "data": {
      "text/html": [
       "<style type=\"text/css\">\n",
       "</style>\n",
       "<table id=\"T_d6454\">\n",
       "  <thead>\n",
       "    <tr>\n",
       "      <th class=\"blank level0\" >&nbsp;</th>\n",
       "      <th id=\"T_d6454_level0_col0\" class=\"col_heading level0 col0\" >Deforestation attribution, unamortized (ha)</th>\n",
       "      <th id=\"T_d6454_level0_col1\" class=\"col_heading level0 col1\" >Total emissions (MtCO2)</th>\n",
       "      <th id=\"T_d6454_level0_col2\" class=\"col_heading level0 col2\" >Quality Index</th>\n",
       "    </tr>\n",
       "  </thead>\n",
       "  <tbody>\n",
       "    <tr>\n",
       "      <th id=\"T_d6454_level0_row0\" class=\"row_heading level0 row0\" >0</th>\n",
       "      <td id=\"T_d6454_row0_col0\" class=\"data row0 col0\" >121756873.72</td>\n",
       "      <td id=\"T_d6454_row0_col1\" class=\"data row0 col1\" >44116.42</td>\n",
       "      <td id=\"T_d6454_row0_col2\" class=\"data row0 col2\" >0.49</td>\n",
       "    </tr>\n",
       "  </tbody>\n",
       "</table>\n"
      ],
      "text/plain": [
       "<pandas.io.formats.style.Styler at 0x7fde7619a4d0>"
      ]
     },
     "execution_count": 23,
     "metadata": {},
     "output_type": "execute_result"
    }
   ],
   "source": [
    "Agg_results[['Deforestation attribution, unamortized (ha)', 'Total emissions (MtCO2)', 'Quality Index']].style.format({\n",
    "    'Deforestation attribution, unamortized (ha)': '{:.2f}',\n",
    "    'Total emissions (MtCO2)': '{:.2f}',\n",
    "    'Quality Index': '{:.2f}'\n",
    "})"
   ]
  },
  {
   "cell_type": "code",
   "execution_count": 24,
   "id": "41bc0e0f-b1b4-41e1-9375-d1bf247c3e1c",
   "metadata": {},
   "outputs": [],
   "source": [
    "S5['Group'] = 1\n",
    "Agg_results = S5.loc[S5['Commodity group'] == 'Forest plantation'].groupby(['Group']).apply(\n",
    "                lambda group: pd.Series({\n",
    "                    'Deforestation attribution, unamortized (ha)': group['Deforestation attribution, unamortized (ha)'].sum(),\n",
    "                    'Deforestation emissions excl. peat drainage, unamortized (MtCO2)': group['Deforestation emissions excl. peat drainage, unamortized (MtCO2)'].sum(),\n",
    "                    'Peatland drainage emissions (MtCO2)': group['Peatland drainage emissions (MtCO2)'].sum(),\n",
    "                    'Quality Index': weighted_mean(group)})\n",
    "                ).reset_index()\n",
    "\n",
    "# Add a new column for the total emissions\n",
    "Agg_results['Total emissions (MtCO2)'] = (\n",
    "    Agg_results['Deforestation emissions excl. peat drainage, unamortized (MtCO2)'] +\n",
    "    Agg_results['Peatland drainage emissions (MtCO2)']\n",
    ")"
   ]
  },
  {
   "cell_type": "code",
   "execution_count": 25,
   "id": "8c79f97e-d8b6-40af-aac9-bd36dc82578d",
   "metadata": {},
   "outputs": [
    {
     "data": {
      "text/html": [
       "<style type=\"text/css\">\n",
       "</style>\n",
       "<table id=\"T_ea7be\">\n",
       "  <thead>\n",
       "    <tr>\n",
       "      <th class=\"blank level0\" >&nbsp;</th>\n",
       "      <th id=\"T_ea7be_level0_col0\" class=\"col_heading level0 col0\" >Deforestation attribution, unamortized (ha)</th>\n",
       "      <th id=\"T_ea7be_level0_col1\" class=\"col_heading level0 col1\" >Total emissions (MtCO2)</th>\n",
       "      <th id=\"T_ea7be_level0_col2\" class=\"col_heading level0 col2\" >Quality Index</th>\n",
       "    </tr>\n",
       "  </thead>\n",
       "  <tbody>\n",
       "    <tr>\n",
       "      <th id=\"T_ea7be_level0_row0\" class=\"row_heading level0 row0\" >0</th>\n",
       "      <td id=\"T_ea7be_row0_col0\" class=\"data row0 col0\" >16961349.80</td>\n",
       "      <td id=\"T_ea7be_row0_col1\" class=\"data row0 col1\" >-247.08</td>\n",
       "      <td id=\"T_ea7be_row0_col2\" class=\"data row0 col2\" >0.32</td>\n",
       "    </tr>\n",
       "  </tbody>\n",
       "</table>\n"
      ],
      "text/plain": [
       "<pandas.io.formats.style.Styler at 0x7fde6dbfc8e0>"
      ]
     },
     "execution_count": 25,
     "metadata": {},
     "output_type": "execute_result"
    }
   ],
   "source": [
    "Agg_results[['Deforestation attribution, unamortized (ha)', 'Total emissions (MtCO2)', 'Quality Index']].style.format({\n",
    "    'Deforestation attribution, unamortized (ha)': '{:.2f}',\n",
    "    'Total emissions (MtCO2)': '{:.2f}',\n",
    "    'Quality Index': '{:.2f}'\n",
    "})"
   ]
  },
  {
   "cell_type": "code",
   "execution_count": null,
   "id": "c5fcee5c-2585-4bb4-857e-c81f633d7011",
   "metadata": {},
   "outputs": [],
   "source": []
  },
  {
   "cell_type": "code",
   "execution_count": null,
   "id": "0a105f7e-09d3-436c-bee3-f086e1beaad2",
   "metadata": {},
   "outputs": [],
   "source": []
  },
  {
   "cell_type": "markdown",
   "id": "48c4a68d-7cef-4d65-a933-a38175f37ba4",
   "metadata": {},
   "source": [
    "## S6 (Spatial lag 1)"
   ]
  },
  {
   "cell_type": "code",
   "execution_count": 66,
   "id": "f7f9af94-a818-4d14-8eea-183df077b196",
   "metadata": {},
   "outputs": [],
   "source": [
    "Sensitivity = 'Sensitivity analyses/S6 (Spatial lag 1)'\n",
    "S6 = pd.read_excel(f'{home_folder}{Simulation_version}/{Sensitivity}/Generated_results/DeDuCE_Deforestation_attribution_v{Dataset_version}.{GEE_data_version}.{Python_script_version} {Year}.xlsx')"
   ]
  },
  {
   "cell_type": "code",
   "execution_count": 67,
   "id": "2c8f4e2f-679e-4c80-aa4d-5050326744b1",
   "metadata": {},
   "outputs": [],
   "source": [
    "S6['Group'] = 1\n",
    "Agg_results = S6.groupby(['Group']).apply(\n",
    "                lambda group: pd.Series({\n",
    "                    'Deforestation attribution, unamortized (ha)': group['Deforestation attribution, unamortized (ha)'].sum(),\n",
    "                    'Deforestation emissions excl. peat drainage, unamortized (MtCO2)': group['Deforestation emissions excl. peat drainage, unamortized (MtCO2)'].sum(),\n",
    "                    'Peatland drainage emissions (MtCO2)': group['Peatland drainage emissions (MtCO2)'].sum(),\n",
    "                    'Quality Index': weighted_mean(group)})\n",
    "                ).reset_index()\n",
    "\n",
    "# Add a new column for the total emissions\n",
    "Agg_results['Total emissions (MtCO2)'] = (\n",
    "    Agg_results['Deforestation emissions excl. peat drainage, unamortized (MtCO2)'] +\n",
    "    Agg_results['Peatland drainage emissions (MtCO2)']\n",
    ")"
   ]
  },
  {
   "cell_type": "code",
   "execution_count": 68,
   "id": "c9839e9e-1d69-4fbd-b247-856366fea781",
   "metadata": {},
   "outputs": [
    {
     "data": {
      "text/html": [
       "<style type=\"text/css\">\n",
       "</style>\n",
       "<table id=\"T_2c2ed\">\n",
       "  <thead>\n",
       "    <tr>\n",
       "      <th class=\"blank level0\" >&nbsp;</th>\n",
       "      <th id=\"T_2c2ed_level0_col0\" class=\"col_heading level0 col0\" >Deforestation attribution, unamortized (ha)</th>\n",
       "      <th id=\"T_2c2ed_level0_col1\" class=\"col_heading level0 col1\" >Total emissions (MtCO2)</th>\n",
       "      <th id=\"T_2c2ed_level0_col2\" class=\"col_heading level0 col2\" >Quality Index</th>\n",
       "    </tr>\n",
       "  </thead>\n",
       "  <tbody>\n",
       "    <tr>\n",
       "      <th id=\"T_2c2ed_level0_row0\" class=\"row_heading level0 row0\" >0</th>\n",
       "      <td id=\"T_2c2ed_row0_col0\" class=\"data row0 col0\" >60479552.47</td>\n",
       "      <td id=\"T_2c2ed_row0_col1\" class=\"data row0 col1\" >25915.43</td>\n",
       "      <td id=\"T_2c2ed_row0_col2\" class=\"data row0 col2\" >0.62</td>\n",
       "    </tr>\n",
       "  </tbody>\n",
       "</table>\n"
      ],
      "text/plain": [
       "<pandas.io.formats.style.Styler at 0x7f0ca55985b0>"
      ]
     },
     "execution_count": 68,
     "metadata": {},
     "output_type": "execute_result"
    }
   ],
   "source": [
    "Agg_results[['Deforestation attribution, unamortized (ha)', 'Total emissions (MtCO2)', 'Quality Index']].style.format({\n",
    "    'Deforestation attribution, unamortized (ha)': '{:.2f}',\n",
    "    'Total emissions (MtCO2)': '{:.2f}',\n",
    "    'Quality Index': '{:.2f}'\n",
    "})"
   ]
  },
  {
   "cell_type": "code",
   "execution_count": null,
   "id": "1545dfd1-c949-449e-9597-b3c688664195",
   "metadata": {},
   "outputs": [],
   "source": []
  },
  {
   "cell_type": "markdown",
   "id": "e487a894-aeec-4693-b58e-453210263c76",
   "metadata": {},
   "source": [
    "## S7 (Spatial lag 5)"
   ]
  },
  {
   "cell_type": "code",
   "execution_count": 72,
   "id": "3a450ea6-ac22-433f-b5f6-ffb0eb37a69e",
   "metadata": {},
   "outputs": [],
   "source": [
    "Sensitivity = 'Sensitivity analyses/S7 (Spatial lag 5)'\n",
    "S7 = pd.read_excel(f'{home_folder}{Simulation_version}/{Sensitivity}/Generated_results/DeDuCE_Deforestation_attribution_v{Dataset_version}.{GEE_data_version}.{Python_script_version} {Year}.xlsx')"
   ]
  },
  {
   "cell_type": "code",
   "execution_count": 73,
   "id": "1f6dbe4f-244d-4fd4-8680-e8829fba728b",
   "metadata": {},
   "outputs": [],
   "source": [
    "S7['Group'] = 1\n",
    "Agg_results = S7.groupby(['Group']).apply(\n",
    "                lambda group: pd.Series({\n",
    "                    'Deforestation attribution, unamortized (ha)': group['Deforestation attribution, unamortized (ha)'].sum(),\n",
    "                    'Deforestation emissions excl. peat drainage, unamortized (MtCO2)': group['Deforestation emissions excl. peat drainage, unamortized (MtCO2)'].sum(),\n",
    "                    'Peatland drainage emissions (MtCO2)': group['Peatland drainage emissions (MtCO2)'].sum(),\n",
    "                    'Quality Index': weighted_mean(group)})\n",
    "                ).reset_index()\n",
    "\n",
    "# Add a new column for the total emissions\n",
    "Agg_results['Total emissions (MtCO2)'] = (\n",
    "    Agg_results['Deforestation emissions excl. peat drainage, unamortized (MtCO2)'] +\n",
    "    Agg_results['Peatland drainage emissions (MtCO2)']\n",
    ")"
   ]
  },
  {
   "cell_type": "code",
   "execution_count": 74,
   "id": "0f94ee5b-8489-4c08-874b-c53220ceb42f",
   "metadata": {},
   "outputs": [
    {
     "data": {
      "text/html": [
       "<style type=\"text/css\">\n",
       "</style>\n",
       "<table id=\"T_0503d\">\n",
       "  <thead>\n",
       "    <tr>\n",
       "      <th class=\"blank level0\" >&nbsp;</th>\n",
       "      <th id=\"T_0503d_level0_col0\" class=\"col_heading level0 col0\" >Deforestation attribution, unamortized (ha)</th>\n",
       "      <th id=\"T_0503d_level0_col1\" class=\"col_heading level0 col1\" >Total emissions (MtCO2)</th>\n",
       "      <th id=\"T_0503d_level0_col2\" class=\"col_heading level0 col2\" >Quality Index</th>\n",
       "    </tr>\n",
       "  </thead>\n",
       "  <tbody>\n",
       "    <tr>\n",
       "      <th id=\"T_0503d_level0_row0\" class=\"row_heading level0 row0\" >0</th>\n",
       "      <td id=\"T_0503d_row0_col0\" class=\"data row0 col0\" >70013040.31</td>\n",
       "      <td id=\"T_0503d_row0_col1\" class=\"data row0 col1\" >29556.75</td>\n",
       "      <td id=\"T_0503d_row0_col2\" class=\"data row0 col2\" >0.64</td>\n",
       "    </tr>\n",
       "  </tbody>\n",
       "</table>\n"
      ],
      "text/plain": [
       "<pandas.io.formats.style.Styler at 0x7f0ca84e8b50>"
      ]
     },
     "execution_count": 74,
     "metadata": {},
     "output_type": "execute_result"
    }
   ],
   "source": [
    "Agg_results[['Deforestation attribution, unamortized (ha)', 'Total emissions (MtCO2)', 'Quality Index']].style.format({\n",
    "    'Deforestation attribution, unamortized (ha)': '{:.2f}',\n",
    "    'Total emissions (MtCO2)': '{:.2f}',\n",
    "    'Quality Index': '{:.2f}'\n",
    "})"
   ]
  },
  {
   "cell_type": "code",
   "execution_count": null,
   "id": "d7981ae2-2fbf-4007-8b5d-cd84e61d008d",
   "metadata": {},
   "outputs": [],
   "source": []
  },
  {
   "cell_type": "code",
   "execution_count": null,
   "id": "df3d74be-9a1c-4144-ad5d-f897cd32e610",
   "metadata": {},
   "outputs": [],
   "source": []
  },
  {
   "cell_type": "markdown",
   "id": "1057766a-675d-403c-ba57-c555124a7c53",
   "metadata": {},
   "source": [
    "## S8 (Statistical lag 1)"
   ]
  },
  {
   "cell_type": "code",
   "execution_count": 113,
   "id": "b9838f57-4361-419f-b319-be4c60f1dc71",
   "metadata": {},
   "outputs": [],
   "source": [
    "Sensitivity = 'Sensitivity analyses/S8 (Statistical lag 1)'\n",
    "S8 = pd.read_excel(f'{home_folder}{Simulation_version}/{Sensitivity}/Generated_results/DeDuCE_Deforestation_attribution_v{Dataset_version}.{GEE_data_version}.{Python_script_version} {Year}.xlsx')"
   ]
  },
  {
   "cell_type": "code",
   "execution_count": 114,
   "id": "53f46906-ea1b-475a-aba6-941f9b723b54",
   "metadata": {},
   "outputs": [],
   "source": [
    "S8['Group'] = 1\n",
    "Agg_results = S8.groupby(['Group']).apply(\n",
    "                lambda group: pd.Series({\n",
    "                    'Deforestation attribution, unamortized (ha)': group['Deforestation attribution, unamortized (ha)'].sum(),\n",
    "                    'Deforestation emissions excl. peat drainage, unamortized (MtCO2)': group['Deforestation emissions excl. peat drainage, unamortized (MtCO2)'].sum(),\n",
    "                    'Peatland drainage emissions (MtCO2)': group['Peatland drainage emissions (MtCO2)'].sum(),\n",
    "                    'Quality Index': weighted_mean(group)})\n",
    "                ).reset_index()\n",
    "\n",
    "# Add a new column for the total emissions\n",
    "Agg_results['Total emissions (MtCO2)'] = (\n",
    "    Agg_results['Deforestation emissions excl. peat drainage, unamortized (MtCO2)'] +\n",
    "    Agg_results['Peatland drainage emissions (MtCO2)']\n",
    ")"
   ]
  },
  {
   "cell_type": "code",
   "execution_count": 115,
   "id": "55e71d00-90d4-4b41-b4b7-cb1bbda15b05",
   "metadata": {},
   "outputs": [
    {
     "data": {
      "text/html": [
       "<style type=\"text/css\">\n",
       "</style>\n",
       "<table id=\"T_7f2a8\">\n",
       "  <thead>\n",
       "    <tr>\n",
       "      <th class=\"blank level0\" >&nbsp;</th>\n",
       "      <th id=\"T_7f2a8_level0_col0\" class=\"col_heading level0 col0\" >Deforestation attribution, unamortized (ha)</th>\n",
       "      <th id=\"T_7f2a8_level0_col1\" class=\"col_heading level0 col1\" >Total emissions (MtCO2)</th>\n",
       "      <th id=\"T_7f2a8_level0_col2\" class=\"col_heading level0 col2\" >Quality Index</th>\n",
       "    </tr>\n",
       "  </thead>\n",
       "  <tbody>\n",
       "    <tr>\n",
       "      <th id=\"T_7f2a8_level0_row0\" class=\"row_heading level0 row0\" >0</th>\n",
       "      <td id=\"T_7f2a8_row0_col0\" class=\"data row0 col0\" >120912240.99</td>\n",
       "      <td id=\"T_7f2a8_row0_col1\" class=\"data row0 col1\" >43749.29</td>\n",
       "      <td id=\"T_7f2a8_row0_col2\" class=\"data row0 col2\" >0.49</td>\n",
       "    </tr>\n",
       "  </tbody>\n",
       "</table>\n"
      ],
      "text/plain": [
       "<pandas.io.formats.style.Styler at 0x7f0ca3175480>"
      ]
     },
     "execution_count": 115,
     "metadata": {},
     "output_type": "execute_result"
    }
   ],
   "source": [
    "Agg_results[['Deforestation attribution, unamortized (ha)', 'Total emissions (MtCO2)', 'Quality Index']].style.format({\n",
    "    'Deforestation attribution, unamortized (ha)': '{:.2f}',\n",
    "    'Total emissions (MtCO2)': '{:.2f}',\n",
    "    'Quality Index': '{:.2f}'\n",
    "})"
   ]
  },
  {
   "cell_type": "code",
   "execution_count": null,
   "id": "9555f3a9-f535-4850-911c-1eed0570287f",
   "metadata": {},
   "outputs": [],
   "source": []
  },
  {
   "cell_type": "markdown",
   "id": "168eea97-61ec-4ccd-b501-debfdf527b2f",
   "metadata": {},
   "source": [
    "## S9 (Statistical lag 5)"
   ]
  },
  {
   "cell_type": "code",
   "execution_count": 116,
   "id": "ee7980d7-0ab8-4484-8a68-36a70fae2543",
   "metadata": {},
   "outputs": [],
   "source": [
    "Sensitivity = 'Sensitivity analyses/S9 (Statistical lag 5)'\n",
    "S9 = pd.read_excel(f'{home_folder}{Simulation_version}/{Sensitivity}/Generated_results/DeDuCE_Deforestation_attribution_v{Dataset_version}.{GEE_data_version}.{Python_script_version} {Year}.xlsx')"
   ]
  },
  {
   "cell_type": "code",
   "execution_count": 117,
   "id": "b5151bf7-2441-46f8-b7f3-bedd62ca84b0",
   "metadata": {},
   "outputs": [],
   "source": [
    "S9['Group'] = 1\n",
    "Agg_results = S9.groupby(['Group']).apply(\n",
    "                lambda group: pd.Series({\n",
    "                    'Deforestation attribution, unamortized (ha)': group['Deforestation attribution, unamortized (ha)'].sum(),\n",
    "                    'Deforestation emissions excl. peat drainage, unamortized (MtCO2)': group['Deforestation emissions excl. peat drainage, unamortized (MtCO2)'].sum(),\n",
    "                    'Peatland drainage emissions (MtCO2)': group['Peatland drainage emissions (MtCO2)'].sum(),\n",
    "                    'Quality Index': weighted_mean(group)})\n",
    "                ).reset_index()\n",
    "\n",
    "# Add a new column for the total emissions\n",
    "Agg_results['Total emissions (MtCO2)'] = (\n",
    "    Agg_results['Deforestation emissions excl. peat drainage, unamortized (MtCO2)'] +\n",
    "    Agg_results['Peatland drainage emissions (MtCO2)']\n",
    ")"
   ]
  },
  {
   "cell_type": "code",
   "execution_count": 118,
   "id": "f8a795d9-701b-4b18-896c-9cf56dd03742",
   "metadata": {},
   "outputs": [
    {
     "data": {
      "text/html": [
       "<style type=\"text/css\">\n",
       "</style>\n",
       "<table id=\"T_e58be\">\n",
       "  <thead>\n",
       "    <tr>\n",
       "      <th class=\"blank level0\" >&nbsp;</th>\n",
       "      <th id=\"T_e58be_level0_col0\" class=\"col_heading level0 col0\" >Deforestation attribution, unamortized (ha)</th>\n",
       "      <th id=\"T_e58be_level0_col1\" class=\"col_heading level0 col1\" >Total emissions (MtCO2)</th>\n",
       "      <th id=\"T_e58be_level0_col2\" class=\"col_heading level0 col2\" >Quality Index</th>\n",
       "    </tr>\n",
       "  </thead>\n",
       "  <tbody>\n",
       "    <tr>\n",
       "      <th id=\"T_e58be_level0_row0\" class=\"row_heading level0 row0\" >0</th>\n",
       "      <td id=\"T_e58be_row0_col0\" class=\"data row0 col0\" >121909645.23</td>\n",
       "      <td id=\"T_e58be_row0_col1\" class=\"data row0 col1\" >44353.82</td>\n",
       "      <td id=\"T_e58be_row0_col2\" class=\"data row0 col2\" >0.49</td>\n",
       "    </tr>\n",
       "  </tbody>\n",
       "</table>\n"
      ],
      "text/plain": [
       "<pandas.io.formats.style.Styler at 0x7f0ca6f38250>"
      ]
     },
     "execution_count": 118,
     "metadata": {},
     "output_type": "execute_result"
    }
   ],
   "source": [
    "Agg_results[['Deforestation attribution, unamortized (ha)', 'Total emissions (MtCO2)', 'Quality Index']].style.format({\n",
    "    'Deforestation attribution, unamortized (ha)': '{:.2f}',\n",
    "    'Total emissions (MtCO2)': '{:.2f}',\n",
    "    'Quality Index': '{:.2f}'\n",
    "})"
   ]
  },
  {
   "cell_type": "code",
   "execution_count": null,
   "id": "7e11e15e-9115-4b67-a021-f165b0ad3ce0",
   "metadata": {},
   "outputs": [],
   "source": []
  },
  {
   "cell_type": "code",
   "execution_count": null,
   "id": "227fcb3c-68e5-41a8-93a6-53a989ea28c3",
   "metadata": {},
   "outputs": [],
   "source": []
  },
  {
   "cell_type": "markdown",
   "id": "cc801376-3691-4b22-8933-501c61cfcfef",
   "metadata": {},
   "source": [
    "## S10 (Universal lag 1)"
   ]
  },
  {
   "cell_type": "code",
   "execution_count": 119,
   "id": "a2614406-3202-4cff-b12e-62ff94d891e0",
   "metadata": {},
   "outputs": [],
   "source": [
    "Sensitivity = 'Sensitivity analyses/S10 (Universal lag 1)'\n",
    "S10 = pd.read_excel(f'{home_folder}{Simulation_version}/{Sensitivity}/Generated_results/DeDuCE_Deforestation_attribution_v{Dataset_version}.{GEE_data_version}.{Python_script_version} {Year}.xlsx')"
   ]
  },
  {
   "cell_type": "code",
   "execution_count": 120,
   "id": "5bd815ee-59ba-4f72-9026-2aca23534f6b",
   "metadata": {},
   "outputs": [],
   "source": [
    "S10['Group'] = 1\n",
    "Agg_results = S10.groupby(['Group']).apply(\n",
    "                lambda group: pd.Series({\n",
    "                    'Deforestation attribution, unamortized (ha)': group['Deforestation attribution, unamortized (ha)'].sum(),\n",
    "                    'Deforestation emissions excl. peat drainage, unamortized (MtCO2)': group['Deforestation emissions excl. peat drainage, unamortized (MtCO2)'].sum(),\n",
    "                    'Peatland drainage emissions (MtCO2)': group['Peatland drainage emissions (MtCO2)'].sum(),\n",
    "                    'Quality Index': weighted_mean(group)})\n",
    "                ).reset_index()\n",
    "\n",
    "# Add a new column for the total emissions\n",
    "Agg_results['Total emissions (MtCO2)'] = (\n",
    "    Agg_results['Deforestation emissions excl. peat drainage, unamortized (MtCO2)'] +\n",
    "    Agg_results['Peatland drainage emissions (MtCO2)']\n",
    ")"
   ]
  },
  {
   "cell_type": "code",
   "execution_count": 121,
   "id": "0a007b34-19a9-489a-a2f5-2ec10ac65aa1",
   "metadata": {},
   "outputs": [
    {
     "data": {
      "text/html": [
       "<style type=\"text/css\">\n",
       "</style>\n",
       "<table id=\"T_bf664\">\n",
       "  <thead>\n",
       "    <tr>\n",
       "      <th class=\"blank level0\" >&nbsp;</th>\n",
       "      <th id=\"T_bf664_level0_col0\" class=\"col_heading level0 col0\" >Deforestation attribution, unamortized (ha)</th>\n",
       "      <th id=\"T_bf664_level0_col1\" class=\"col_heading level0 col1\" >Total emissions (MtCO2)</th>\n",
       "      <th id=\"T_bf664_level0_col2\" class=\"col_heading level0 col2\" >Quality Index</th>\n",
       "    </tr>\n",
       "  </thead>\n",
       "  <tbody>\n",
       "    <tr>\n",
       "      <th id=\"T_bf664_level0_row0\" class=\"row_heading level0 row0\" >0</th>\n",
       "      <td id=\"T_bf664_row0_col0\" class=\"data row0 col0\" >60454479.29</td>\n",
       "      <td id=\"T_bf664_row0_col1\" class=\"data row0 col1\" >25953.81</td>\n",
       "      <td id=\"T_bf664_row0_col2\" class=\"data row0 col2\" >0.62</td>\n",
       "    </tr>\n",
       "  </tbody>\n",
       "</table>\n"
      ],
      "text/plain": [
       "<pandas.io.formats.style.Styler at 0x7f0ca6fafe20>"
      ]
     },
     "execution_count": 121,
     "metadata": {},
     "output_type": "execute_result"
    }
   ],
   "source": [
    "Agg_results[['Deforestation attribution, unamortized (ha)', 'Total emissions (MtCO2)', 'Quality Index']].style.format({\n",
    "    'Deforestation attribution, unamortized (ha)': '{:.2f}',\n",
    "    'Total emissions (MtCO2)': '{:.2f}',\n",
    "    'Quality Index': '{:.2f}'\n",
    "})"
   ]
  },
  {
   "cell_type": "code",
   "execution_count": null,
   "id": "a2458700-e57f-4fc0-8138-e3c0c605f329",
   "metadata": {},
   "outputs": [],
   "source": []
  },
  {
   "cell_type": "code",
   "execution_count": null,
   "id": "0fe6665e-65c9-479e-ae82-2eeeeee76320",
   "metadata": {},
   "outputs": [],
   "source": []
  },
  {
   "cell_type": "markdown",
   "id": "c73dffc0-bbd5-4c7f-b058-51da5200a2f2",
   "metadata": {},
   "source": [
    "## S11 (Universal lag 5)"
   ]
  },
  {
   "cell_type": "code",
   "execution_count": 124,
   "id": "df83b1be-2265-4503-9539-3c1166ac6059",
   "metadata": {},
   "outputs": [],
   "source": [
    "Sensitivity = 'Sensitivity analyses/S11 (Universal lag 5)'\n",
    "S11 = pd.read_excel(f'{home_folder}{Simulation_version}/{Sensitivity}/Generated_results/DeDuCE_Deforestation_attribution_v{Dataset_version}.{GEE_data_version}.{Python_script_version} {Year}.xlsx')"
   ]
  },
  {
   "cell_type": "code",
   "execution_count": 125,
   "id": "aa0a9185-b35a-4cfc-ab4a-f98f48529f35",
   "metadata": {},
   "outputs": [],
   "source": [
    "S11['Group'] = 1\n",
    "Agg_results = S11.groupby(['Group']).apply(\n",
    "                lambda group: pd.Series({\n",
    "                    'Deforestation attribution, unamortized (ha)': group['Deforestation attribution, unamortized (ha)'].sum(),\n",
    "                    'Deforestation emissions excl. peat drainage, unamortized (MtCO2)': group['Deforestation emissions excl. peat drainage, unamortized (MtCO2)'].sum(),\n",
    "                    'Peatland drainage emissions (MtCO2)': group['Peatland drainage emissions (MtCO2)'].sum(),\n",
    "                    'Quality Index': weighted_mean(group)})\n",
    "                ).reset_index()\n",
    "\n",
    "# Add a new column for the total emissions\n",
    "Agg_results['Total emissions (MtCO2)'] = (\n",
    "    Agg_results['Deforestation emissions excl. peat drainage, unamortized (MtCO2)'] +\n",
    "    Agg_results['Peatland drainage emissions (MtCO2)']\n",
    ")"
   ]
  },
  {
   "cell_type": "code",
   "execution_count": 126,
   "id": "df818000-e247-4a92-8f72-43cf8adfe3ea",
   "metadata": {},
   "outputs": [
    {
     "data": {
      "text/html": [
       "<style type=\"text/css\">\n",
       "</style>\n",
       "<table id=\"T_15787\">\n",
       "  <thead>\n",
       "    <tr>\n",
       "      <th class=\"blank level0\" >&nbsp;</th>\n",
       "      <th id=\"T_15787_level0_col0\" class=\"col_heading level0 col0\" >Deforestation attribution, unamortized (ha)</th>\n",
       "      <th id=\"T_15787_level0_col1\" class=\"col_heading level0 col1\" >Total emissions (MtCO2)</th>\n",
       "      <th id=\"T_15787_level0_col2\" class=\"col_heading level0 col2\" >Quality Index</th>\n",
       "    </tr>\n",
       "  </thead>\n",
       "  <tbody>\n",
       "    <tr>\n",
       "      <th id=\"T_15787_level0_row0\" class=\"row_heading level0 row0\" >0</th>\n",
       "      <td id=\"T_15787_row0_col0\" class=\"data row0 col0\" >70017034.14</td>\n",
       "      <td id=\"T_15787_row0_col1\" class=\"data row0 col1\" >29538.10</td>\n",
       "      <td id=\"T_15787_row0_col2\" class=\"data row0 col2\" >0.64</td>\n",
       "    </tr>\n",
       "  </tbody>\n",
       "</table>\n"
      ],
      "text/plain": [
       "<pandas.io.formats.style.Styler at 0x7f0ca529e5c0>"
      ]
     },
     "execution_count": 126,
     "metadata": {},
     "output_type": "execute_result"
    }
   ],
   "source": [
    "Agg_results[['Deforestation attribution, unamortized (ha)', 'Total emissions (MtCO2)', 'Quality Index']].style.format({\n",
    "    'Deforestation attribution, unamortized (ha)': '{:.2f}',\n",
    "    'Total emissions (MtCO2)': '{:.2f}',\n",
    "    'Quality Index': '{:.2f}'\n",
    "})"
   ]
  },
  {
   "cell_type": "code",
   "execution_count": null,
   "id": "89d5eee1-a978-4493-8acf-f2a51397fb9d",
   "metadata": {},
   "outputs": [],
   "source": []
  },
  {
   "cell_type": "code",
   "execution_count": null,
   "id": "18d7dfc7-eaed-4303-8630-826b84ef5310",
   "metadata": {},
   "outputs": [],
   "source": []
  },
  {
   "cell_type": "markdown",
   "id": "4de79fd1-7e1d-451f-ae1b-8409cb962668",
   "metadata": {},
   "source": [
    "## S12 (Dominant driver)"
   ]
  },
  {
   "cell_type": "code",
   "execution_count": 49,
   "id": "70ed6a08-e297-48e3-96ae-0749902366cd",
   "metadata": {},
   "outputs": [],
   "source": [
    "Sensitivity = 'Sensitivity analyses/S12 (Dominant driver)'\n",
    "S12 = pd.read_excel(f'{home_folder}{Simulation_version}/{Sensitivity}/Generated_results/DeDuCE_Deforestation_attribution_v{Dataset_version}.{GEE_data_version}.{Python_script_version} {Year}.xlsx')"
   ]
  },
  {
   "cell_type": "code",
   "execution_count": 50,
   "id": "8f5b68c5-aa5d-42e4-b66b-8198f6978a2f",
   "metadata": {},
   "outputs": [],
   "source": [
    "S12['Group'] = 1\n",
    "Agg_results = S12.groupby(['Group']).apply(\n",
    "                lambda group: pd.Series({\n",
    "                    'Deforestation attribution, unamortized (ha)': group['Deforestation attribution, unamortized (ha)'].sum(),\n",
    "                    'Deforestation emissions excl. peat drainage, unamortized (MtCO2)': group['Deforestation emissions excl. peat drainage, unamortized (MtCO2)'].sum(),\n",
    "                    'Peatland drainage emissions (MtCO2)': group['Peatland drainage emissions (MtCO2)'].sum(),\n",
    "                    'Quality Index': weighted_mean(group)})\n",
    "                ).reset_index()\n",
    "\n",
    "# Add a new column for the total emissions\n",
    "Agg_results['Total emissions (MtCO2)'] = (\n",
    "    Agg_results['Deforestation emissions excl. peat drainage, unamortized (MtCO2)'] +\n",
    "    Agg_results['Peatland drainage emissions (MtCO2)']\n",
    ")"
   ]
  },
  {
   "cell_type": "code",
   "execution_count": 51,
   "id": "91d4e712-6c93-4587-be51-617d26290554",
   "metadata": {},
   "outputs": [
    {
     "data": {
      "text/html": [
       "<style type=\"text/css\">\n",
       "</style>\n",
       "<table id=\"T_29217\">\n",
       "  <thead>\n",
       "    <tr>\n",
       "      <th class=\"blank level0\" >&nbsp;</th>\n",
       "      <th id=\"T_29217_level0_col0\" class=\"col_heading level0 col0\" >Deforestation attribution, unamortized (ha)</th>\n",
       "      <th id=\"T_29217_level0_col1\" class=\"col_heading level0 col1\" >Total emissions (MtCO2)</th>\n",
       "      <th id=\"T_29217_level0_col2\" class=\"col_heading level0 col2\" >Quality Index</th>\n",
       "    </tr>\n",
       "  </thead>\n",
       "  <tbody>\n",
       "    <tr>\n",
       "      <th id=\"T_29217_level0_row0\" class=\"row_heading level0 row0\" >0</th>\n",
       "      <td id=\"T_29217_row0_col0\" class=\"data row0 col0\" >171153029.01</td>\n",
       "      <td id=\"T_29217_row0_col1\" class=\"data row0 col1\" >61534.10</td>\n",
       "      <td id=\"T_29217_row0_col2\" class=\"data row0 col2\" >0.29</td>\n",
       "    </tr>\n",
       "  </tbody>\n",
       "</table>\n"
      ],
      "text/plain": [
       "<pandas.io.formats.style.Styler at 0x7fde75379660>"
      ]
     },
     "execution_count": 51,
     "metadata": {},
     "output_type": "execute_result"
    }
   ],
   "source": [
    "Agg_results[['Deforestation attribution, unamortized (ha)', 'Total emissions (MtCO2)', 'Quality Index']].style.format({\n",
    "    'Deforestation attribution, unamortized (ha)': '{:.2f}',\n",
    "    'Total emissions (MtCO2)': '{:.2f}',\n",
    "    'Quality Index': '{:.2f}'\n",
    "})"
   ]
  },
  {
   "cell_type": "code",
   "execution_count": 52,
   "id": "a23c6cef-f427-4115-aa1b-066eddb76c6c",
   "metadata": {},
   "outputs": [
    {
     "data": {
      "text/html": [
       "<style type=\"text/css\">\n",
       "</style>\n",
       "<table id=\"T_4decc\">\n",
       "  <thead>\n",
       "    <tr>\n",
       "      <th class=\"blank level0\" >&nbsp;</th>\n",
       "      <th id=\"T_4decc_level0_col0\" class=\"col_heading level0 col0\" >Deforestation attribution, unamortized (ha)</th>\n",
       "      <th id=\"T_4decc_level0_col1\" class=\"col_heading level0 col1\" >Total emissions (MtCO2)</th>\n",
       "      <th id=\"T_4decc_level0_col2\" class=\"col_heading level0 col2\" >Quality Index</th>\n",
       "    </tr>\n",
       "  </thead>\n",
       "  <tbody>\n",
       "    <tr>\n",
       "      <th id=\"T_4decc_level0_row0\" class=\"row_heading level0 row0\" >0</th>\n",
       "      <td id=\"T_4decc_row0_col0\" class=\"data row0 col0\" >9326754.36</td>\n",
       "      <td id=\"T_4decc_row0_col1\" class=\"data row0 col1\" >5899.88</td>\n",
       "      <td id=\"T_4decc_row0_col2\" class=\"data row0 col2\" >0.27</td>\n",
       "    </tr>\n",
       "  </tbody>\n",
       "</table>\n"
      ],
      "text/plain": [
       "<pandas.io.formats.style.Styler at 0x7fde7383f4f0>"
      ]
     },
     "execution_count": 52,
     "metadata": {},
     "output_type": "execute_result"
    }
   ],
   "source": [
    "Agg_results = S12.loc[(S12['Commodity'] == 'Oil palm fruit') & (S12['Producer country'] == 'Indonesia')].groupby(['Group']).apply(\n",
    "                lambda group: pd.Series({\n",
    "                    'Deforestation attribution, unamortized (ha)': group['Deforestation attribution, unamortized (ha)'].sum(),\n",
    "                    'Deforestation emissions excl. peat drainage, unamortized (MtCO2)': group['Deforestation emissions excl. peat drainage, unamortized (MtCO2)'].sum(),\n",
    "                    'Peatland drainage emissions (MtCO2)': group['Peatland drainage emissions (MtCO2)'].sum(),\n",
    "                    'Quality Index': weighted_mean(group)})\n",
    "                ).reset_index()\n",
    "\n",
    "# Add a new column for the total emissions\n",
    "Agg_results['Total emissions (MtCO2)'] = (\n",
    "    Agg_results['Deforestation emissions excl. peat drainage, unamortized (MtCO2)'] +\n",
    "    Agg_results['Peatland drainage emissions (MtCO2)']\n",
    ")\n",
    "\n",
    "Agg_results[['Deforestation attribution, unamortized (ha)', 'Total emissions (MtCO2)', 'Quality Index']].style.format({\n",
    "    'Deforestation attribution, unamortized (ha)': '{:.2f}',\n",
    "    'Total emissions (MtCO2)': '{:.2f}',\n",
    "    'Quality Index': '{:.2f}'\n",
    "})"
   ]
  },
  {
   "cell_type": "code",
   "execution_count": 53,
   "id": "0a6c6b2c-fed0-4477-90d0-6b08fa428f39",
   "metadata": {},
   "outputs": [
    {
     "data": {
      "text/html": [
       "<style type=\"text/css\">\n",
       "</style>\n",
       "<table id=\"T_d0177\">\n",
       "  <thead>\n",
       "    <tr>\n",
       "      <th class=\"blank level0\" >&nbsp;</th>\n",
       "      <th id=\"T_d0177_level0_col0\" class=\"col_heading level0 col0\" >Deforestation attribution, unamortized (ha)</th>\n",
       "      <th id=\"T_d0177_level0_col1\" class=\"col_heading level0 col1\" >Total emissions (MtCO2)</th>\n",
       "      <th id=\"T_d0177_level0_col2\" class=\"col_heading level0 col2\" >Quality Index</th>\n",
       "    </tr>\n",
       "  </thead>\n",
       "  <tbody>\n",
       "    <tr>\n",
       "      <th id=\"T_d0177_level0_row0\" class=\"row_heading level0 row0\" >0</th>\n",
       "      <td id=\"T_d0177_row0_col0\" class=\"data row0 col0\" >634953.02</td>\n",
       "      <td id=\"T_d0177_row0_col1\" class=\"data row0 col1\" >136.79</td>\n",
       "      <td id=\"T_d0177_row0_col2\" class=\"data row0 col2\" >0.25</td>\n",
       "    </tr>\n",
       "  </tbody>\n",
       "</table>\n"
      ],
      "text/plain": [
       "<pandas.io.formats.style.Styler at 0x7fde75381870>"
      ]
     },
     "execution_count": 53,
     "metadata": {},
     "output_type": "execute_result"
    }
   ],
   "source": [
    "Agg_results = S12.loc[(S12['Commodity'] == 'Cocoa beans') & (S12['Producer country'] == 'Côte d\\'Ivoire')].groupby(['Group']).apply(\n",
    "                lambda group: pd.Series({\n",
    "                    'Deforestation attribution, unamortized (ha)': group['Deforestation attribution, unamortized (ha)'].sum(),\n",
    "                    'Deforestation emissions excl. peat drainage, unamortized (MtCO2)': group['Deforestation emissions excl. peat drainage, unamortized (MtCO2)'].sum(),\n",
    "                    'Peatland drainage emissions (MtCO2)': group['Peatland drainage emissions (MtCO2)'].sum(),\n",
    "                    'Quality Index': weighted_mean(group)})\n",
    "                ).reset_index()\n",
    "\n",
    "# Add a new column for the total emissions\n",
    "Agg_results['Total emissions (MtCO2)'] = (\n",
    "    Agg_results['Deforestation emissions excl. peat drainage, unamortized (MtCO2)'] +\n",
    "    Agg_results['Peatland drainage emissions (MtCO2)']\n",
    ")\n",
    "\n",
    "Agg_results[['Deforestation attribution, unamortized (ha)', 'Total emissions (MtCO2)', 'Quality Index']].style.format({\n",
    "    'Deforestation attribution, unamortized (ha)': '{:.2f}',\n",
    "    'Total emissions (MtCO2)': '{:.2f}',\n",
    "    'Quality Index': '{:.2f}'\n",
    "})"
   ]
  },
  {
   "cell_type": "code",
   "execution_count": 54,
   "id": "f2e681cf-c406-4159-90b3-5e771edfef91",
   "metadata": {},
   "outputs": [
    {
     "data": {
      "text/html": [
       "<style type=\"text/css\">\n",
       "</style>\n",
       "<table id=\"T_d9221\">\n",
       "  <thead>\n",
       "    <tr>\n",
       "      <th class=\"blank level0\" >&nbsp;</th>\n",
       "      <th id=\"T_d9221_level0_col0\" class=\"col_heading level0 col0\" >Deforestation attribution, unamortized (ha)</th>\n",
       "      <th id=\"T_d9221_level0_col1\" class=\"col_heading level0 col1\" >Total emissions (MtCO2)</th>\n",
       "      <th id=\"T_d9221_level0_col2\" class=\"col_heading level0 col2\" >Quality Index</th>\n",
       "    </tr>\n",
       "  </thead>\n",
       "  <tbody>\n",
       "    <tr>\n",
       "      <th id=\"T_d9221_level0_row0\" class=\"row_heading level0 row0\" >0</th>\n",
       "      <td id=\"T_d9221_row0_col0\" class=\"data row0 col0\" >11589175.05</td>\n",
       "      <td id=\"T_d9221_row0_col1\" class=\"data row0 col1\" >4834.79</td>\n",
       "      <td id=\"T_d9221_row0_col2\" class=\"data row0 col2\" >0.31</td>\n",
       "    </tr>\n",
       "  </tbody>\n",
       "</table>\n"
      ],
      "text/plain": [
       "<pandas.io.formats.style.Styler at 0x7fde731bdba0>"
      ]
     },
     "execution_count": 54,
     "metadata": {},
     "output_type": "execute_result"
    }
   ],
   "source": [
    "Agg_results = S12.loc[(S12['Commodity'] == 'Soya beans') & (S12['Producer country'] == 'Brazil')].groupby(['Group']).apply(\n",
    "                lambda group: pd.Series({\n",
    "                    'Deforestation attribution, unamortized (ha)': group['Deforestation attribution, unamortized (ha)'].sum(),\n",
    "                    'Deforestation emissions excl. peat drainage, unamortized (MtCO2)': group['Deforestation emissions excl. peat drainage, unamortized (MtCO2)'].sum(),\n",
    "                    'Peatland drainage emissions (MtCO2)': group['Peatland drainage emissions (MtCO2)'].sum(),\n",
    "                    'Quality Index': weighted_mean(group)})\n",
    "                ).reset_index()\n",
    "\n",
    "# Add a new column for the total emissions\n",
    "Agg_results['Total emissions (MtCO2)'] = (\n",
    "    Agg_results['Deforestation emissions excl. peat drainage, unamortized (MtCO2)'] +\n",
    "    Agg_results['Peatland drainage emissions (MtCO2)']\n",
    ")\n",
    "\n",
    "Agg_results[['Deforestation attribution, unamortized (ha)', 'Total emissions (MtCO2)', 'Quality Index']].style.format({\n",
    "    'Deforestation attribution, unamortized (ha)': '{:.2f}',\n",
    "    'Total emissions (MtCO2)': '{:.2f}',\n",
    "    'Quality Index': '{:.2f}'\n",
    "})"
   ]
  },
  {
   "cell_type": "code",
   "execution_count": 61,
   "id": "25341ce9-b8f3-4f85-8180-feb300e90d2f",
   "metadata": {},
   "outputs": [
    {
     "data": {
      "text/html": [
       "<div>\n",
       "<style scoped>\n",
       "    .dataframe tbody tr th:only-of-type {\n",
       "        vertical-align: middle;\n",
       "    }\n",
       "\n",
       "    .dataframe tbody tr th {\n",
       "        vertical-align: top;\n",
       "    }\n",
       "\n",
       "    .dataframe thead th {\n",
       "        text-align: right;\n",
       "    }\n",
       "</style>\n",
       "<table border=\"1\" class=\"dataframe\">\n",
       "  <thead>\n",
       "    <tr style=\"text-align: right;\">\n",
       "      <th></th>\n",
       "      <th>Continent/Country group</th>\n",
       "      <th>ISO</th>\n",
       "      <th>Producer country</th>\n",
       "      <th>Year</th>\n",
       "      <th>Commodity group</th>\n",
       "      <th>Commodity</th>\n",
       "      <th>Deforestation attribution, unamortized (ha)</th>\n",
       "      <th>Deforestation risk, amortized (ha)</th>\n",
       "      <th>Deforestation emissions excl. peat drainage, unamortized (MtCO2)</th>\n",
       "      <th>Deforestation emissions excl. peat drainage, amortized (MtCO2)</th>\n",
       "      <th>Peatland drainage emissions (MtCO2)</th>\n",
       "      <th>Deforestation emissions incl. peat drainage, amortized (MtCO2)</th>\n",
       "      <th>Quality Index</th>\n",
       "      <th>Group</th>\n",
       "    </tr>\n",
       "  </thead>\n",
       "  <tbody>\n",
       "    <tr>\n",
       "      <th>46838</th>\n",
       "      <td>Africa</td>\n",
       "      <td>CIV</td>\n",
       "      <td>Côte d'Ivoire</td>\n",
       "      <td>2001</td>\n",
       "      <td>Stimulant, spice and aromatic crops</td>\n",
       "      <td>Cocoa beans</td>\n",
       "      <td>20419.557810</td>\n",
       "      <td>NaN</td>\n",
       "      <td>5.382733</td>\n",
       "      <td>NaN</td>\n",
       "      <td>0.002704</td>\n",
       "      <td>0.002704</td>\n",
       "      <td>0.293751</td>\n",
       "      <td>1</td>\n",
       "    </tr>\n",
       "    <tr>\n",
       "      <th>46839</th>\n",
       "      <td>Africa</td>\n",
       "      <td>CIV</td>\n",
       "      <td>Côte d'Ivoire</td>\n",
       "      <td>2002</td>\n",
       "      <td>Stimulant, spice and aromatic crops</td>\n",
       "      <td>Cocoa beans</td>\n",
       "      <td>31035.055365</td>\n",
       "      <td>NaN</td>\n",
       "      <td>8.062092</td>\n",
       "      <td>NaN</td>\n",
       "      <td>0.006570</td>\n",
       "      <td>0.006570</td>\n",
       "      <td>0.293839</td>\n",
       "      <td>1</td>\n",
       "    </tr>\n",
       "    <tr>\n",
       "      <th>46840</th>\n",
       "      <td>Africa</td>\n",
       "      <td>CIV</td>\n",
       "      <td>Côte d'Ivoire</td>\n",
       "      <td>2003</td>\n",
       "      <td>Stimulant, spice and aromatic crops</td>\n",
       "      <td>Cocoa beans</td>\n",
       "      <td>13062.831452</td>\n",
       "      <td>NaN</td>\n",
       "      <td>3.271978</td>\n",
       "      <td>NaN</td>\n",
       "      <td>0.008204</td>\n",
       "      <td>0.008204</td>\n",
       "      <td>0.293855</td>\n",
       "      <td>1</td>\n",
       "    </tr>\n",
       "    <tr>\n",
       "      <th>46841</th>\n",
       "      <td>Africa</td>\n",
       "      <td>CIV</td>\n",
       "      <td>Côte d'Ivoire</td>\n",
       "      <td>2004</td>\n",
       "      <td>Stimulant, spice and aromatic crops</td>\n",
       "      <td>Cocoa beans</td>\n",
       "      <td>15829.238392</td>\n",
       "      <td>NaN</td>\n",
       "      <td>3.860061</td>\n",
       "      <td>NaN</td>\n",
       "      <td>0.009742</td>\n",
       "      <td>0.009742</td>\n",
       "      <td>0.293757</td>\n",
       "      <td>1</td>\n",
       "    </tr>\n",
       "    <tr>\n",
       "      <th>46842</th>\n",
       "      <td>Africa</td>\n",
       "      <td>CIV</td>\n",
       "      <td>Côte d'Ivoire</td>\n",
       "      <td>2005</td>\n",
       "      <td>Stimulant, spice and aromatic crops</td>\n",
       "      <td>Cocoa beans</td>\n",
       "      <td>9844.744974</td>\n",
       "      <td>18038.285599</td>\n",
       "      <td>2.095676</td>\n",
       "      <td>4.534508</td>\n",
       "      <td>0.010687</td>\n",
       "      <td>4.545195</td>\n",
       "      <td>0.293753</td>\n",
       "      <td>1</td>\n",
       "    </tr>\n",
       "    <tr>\n",
       "      <th>46843</th>\n",
       "      <td>Africa</td>\n",
       "      <td>CIV</td>\n",
       "      <td>Côte d'Ivoire</td>\n",
       "      <td>2006</td>\n",
       "      <td>Stimulant, spice and aromatic crops</td>\n",
       "      <td>Cocoa beans</td>\n",
       "      <td>0.000000</td>\n",
       "      <td>13954.374037</td>\n",
       "      <td>0.000000</td>\n",
       "      <td>3.457961</td>\n",
       "      <td>0.010687</td>\n",
       "      <td>3.468648</td>\n",
       "      <td>NaN</td>\n",
       "      <td>1</td>\n",
       "    </tr>\n",
       "    <tr>\n",
       "      <th>46844</th>\n",
       "      <td>Africa</td>\n",
       "      <td>CIV</td>\n",
       "      <td>Côte d'Ivoire</td>\n",
       "      <td>2007</td>\n",
       "      <td>Stimulant, spice and aromatic crops</td>\n",
       "      <td>Cocoa beans</td>\n",
       "      <td>0.000000</td>\n",
       "      <td>7747.362964</td>\n",
       "      <td>0.000000</td>\n",
       "      <td>1.845543</td>\n",
       "      <td>0.010687</td>\n",
       "      <td>1.856230</td>\n",
       "      <td>NaN</td>\n",
       "      <td>1</td>\n",
       "    </tr>\n",
       "    <tr>\n",
       "      <th>46845</th>\n",
       "      <td>Africa</td>\n",
       "      <td>CIV</td>\n",
       "      <td>Côte d'Ivoire</td>\n",
       "      <td>2008</td>\n",
       "      <td>Stimulant, spice and aromatic crops</td>\n",
       "      <td>Cocoa beans</td>\n",
       "      <td>0.000000</td>\n",
       "      <td>5134.796673</td>\n",
       "      <td>0.000000</td>\n",
       "      <td>1.191147</td>\n",
       "      <td>0.010687</td>\n",
       "      <td>1.201834</td>\n",
       "      <td>NaN</td>\n",
       "      <td>1</td>\n",
       "    </tr>\n",
       "    <tr>\n",
       "      <th>46846</th>\n",
       "      <td>Africa</td>\n",
       "      <td>CIV</td>\n",
       "      <td>Côte d'Ivoire</td>\n",
       "      <td>2009</td>\n",
       "      <td>Stimulant, spice and aromatic crops</td>\n",
       "      <td>Cocoa beans</td>\n",
       "      <td>13209.801429</td>\n",
       "      <td>4610.909281</td>\n",
       "      <td>3.591121</td>\n",
       "      <td>1.137359</td>\n",
       "      <td>0.021218</td>\n",
       "      <td>1.158577</td>\n",
       "      <td>0.293700</td>\n",
       "      <td>1</td>\n",
       "    </tr>\n",
       "    <tr>\n",
       "      <th>46847</th>\n",
       "      <td>Africa</td>\n",
       "      <td>CIV</td>\n",
       "      <td>Côte d'Ivoire</td>\n",
       "      <td>2010</td>\n",
       "      <td>Stimulant, spice and aromatic crops</td>\n",
       "      <td>Cocoa beans</td>\n",
       "      <td>24485.112475</td>\n",
       "      <td>7538.982781</td>\n",
       "      <td>6.284509</td>\n",
       "      <td>1.975126</td>\n",
       "      <td>0.024664</td>\n",
       "      <td>1.999790</td>\n",
       "      <td>0.233683</td>\n",
       "      <td>1</td>\n",
       "    </tr>\n",
       "    <tr>\n",
       "      <th>46848</th>\n",
       "      <td>Africa</td>\n",
       "      <td>CIV</td>\n",
       "      <td>Côte d'Ivoire</td>\n",
       "      <td>2011</td>\n",
       "      <td>Stimulant, spice and aromatic crops</td>\n",
       "      <td>Cocoa beans</td>\n",
       "      <td>19909.966226</td>\n",
       "      <td>11520.976026</td>\n",
       "      <td>5.297877</td>\n",
       "      <td>3.034701</td>\n",
       "      <td>0.028212</td>\n",
       "      <td>3.062914</td>\n",
       "      <td>0.233689</td>\n",
       "      <td>1</td>\n",
       "    </tr>\n",
       "    <tr>\n",
       "      <th>46849</th>\n",
       "      <td>Africa</td>\n",
       "      <td>CIV</td>\n",
       "      <td>Côte d'Ivoire</td>\n",
       "      <td>2012</td>\n",
       "      <td>Stimulant, spice and aromatic crops</td>\n",
       "      <td>Cocoa beans</td>\n",
       "      <td>23831.614914</td>\n",
       "      <td>16287.299009</td>\n",
       "      <td>6.377852</td>\n",
       "      <td>4.310272</td>\n",
       "      <td>0.033458</td>\n",
       "      <td>4.343730</td>\n",
       "      <td>0.233680</td>\n",
       "      <td>1</td>\n",
       "    </tr>\n",
       "    <tr>\n",
       "      <th>46850</th>\n",
       "      <td>Africa</td>\n",
       "      <td>CIV</td>\n",
       "      <td>Côte d'Ivoire</td>\n",
       "      <td>2013</td>\n",
       "      <td>Stimulant, spice and aromatic crops</td>\n",
       "      <td>Cocoa beans</td>\n",
       "      <td>41475.072057</td>\n",
       "      <td>24582.313420</td>\n",
       "      <td>9.124553</td>\n",
       "      <td>6.135182</td>\n",
       "      <td>0.046295</td>\n",
       "      <td>6.181477</td>\n",
       "      <td>0.233682</td>\n",
       "      <td>1</td>\n",
       "    </tr>\n",
       "    <tr>\n",
       "      <th>46851</th>\n",
       "      <td>Africa</td>\n",
       "      <td>CIV</td>\n",
       "      <td>Côte d'Ivoire</td>\n",
       "      <td>2014</td>\n",
       "      <td>Stimulant, spice and aromatic crops</td>\n",
       "      <td>Cocoa beans</td>\n",
       "      <td>80711.018094</td>\n",
       "      <td>38082.556753</td>\n",
       "      <td>16.408031</td>\n",
       "      <td>8.698564</td>\n",
       "      <td>0.072980</td>\n",
       "      <td>8.771544</td>\n",
       "      <td>0.233625</td>\n",
       "      <td>1</td>\n",
       "    </tr>\n",
       "    <tr>\n",
       "      <th>46852</th>\n",
       "      <td>Africa</td>\n",
       "      <td>CIV</td>\n",
       "      <td>Côte d'Ivoire</td>\n",
       "      <td>2015</td>\n",
       "      <td>Stimulant, spice and aromatic crops</td>\n",
       "      <td>Cocoa beans</td>\n",
       "      <td>73703.217646</td>\n",
       "      <td>47926.177787</td>\n",
       "      <td>15.635561</td>\n",
       "      <td>10.568775</td>\n",
       "      <td>0.092473</td>\n",
       "      <td>10.661248</td>\n",
       "      <td>0.253685</td>\n",
       "      <td>1</td>\n",
       "    </tr>\n",
       "    <tr>\n",
       "      <th>46853</th>\n",
       "      <td>Africa</td>\n",
       "      <td>CIV</td>\n",
       "      <td>Côte d'Ivoire</td>\n",
       "      <td>2016</td>\n",
       "      <td>Stimulant, spice and aromatic crops</td>\n",
       "      <td>Cocoa beans</td>\n",
       "      <td>146953.462892</td>\n",
       "      <td>73334.877121</td>\n",
       "      <td>27.857817</td>\n",
       "      <td>15.080763</td>\n",
       "      <td>0.138338</td>\n",
       "      <td>15.219100</td>\n",
       "      <td>0.253700</td>\n",
       "      <td>1</td>\n",
       "    </tr>\n",
       "    <tr>\n",
       "      <th>46854</th>\n",
       "      <td>Africa</td>\n",
       "      <td>CIV</td>\n",
       "      <td>Côte d'Ivoire</td>\n",
       "      <td>2017</td>\n",
       "      <td>Stimulant, spice and aromatic crops</td>\n",
       "      <td>Cocoa beans</td>\n",
       "      <td>120482.328327</td>\n",
       "      <td>92665.019803</td>\n",
       "      <td>22.036047</td>\n",
       "      <td>18.212402</td>\n",
       "      <td>0.163446</td>\n",
       "      <td>18.375848</td>\n",
       "      <td>0.253684</td>\n",
       "      <td>1</td>\n",
       "    </tr>\n",
       "    <tr>\n",
       "      <th>46855</th>\n",
       "      <td>Africa</td>\n",
       "      <td>CIV</td>\n",
       "      <td>Côte d'Ivoire</td>\n",
       "      <td>2018</td>\n",
       "      <td>Stimulant, spice and aromatic crops</td>\n",
       "      <td>Cocoa beans</td>\n",
       "      <td>0.000000</td>\n",
       "      <td>84370.005392</td>\n",
       "      <td>0.000000</td>\n",
       "      <td>16.387491</td>\n",
       "      <td>0.163446</td>\n",
       "      <td>16.550937</td>\n",
       "      <td>NaN</td>\n",
       "      <td>1</td>\n",
       "    </tr>\n",
       "    <tr>\n",
       "      <th>46856</th>\n",
       "      <td>Africa</td>\n",
       "      <td>CIV</td>\n",
       "      <td>Côte d'Ivoire</td>\n",
       "      <td>2019</td>\n",
       "      <td>Stimulant, spice and aromatic crops</td>\n",
       "      <td>Cocoa beans</td>\n",
       "      <td>0.000000</td>\n",
       "      <td>68227.801773</td>\n",
       "      <td>0.000000</td>\n",
       "      <td>13.105885</td>\n",
       "      <td>0.163446</td>\n",
       "      <td>13.269331</td>\n",
       "      <td>NaN</td>\n",
       "      <td>1</td>\n",
       "    </tr>\n",
       "    <tr>\n",
       "      <th>46857</th>\n",
       "      <td>Africa</td>\n",
       "      <td>CIV</td>\n",
       "      <td>Côte d'Ivoire</td>\n",
       "      <td>2020</td>\n",
       "      <td>Stimulant, spice and aromatic crops</td>\n",
       "      <td>Cocoa beans</td>\n",
       "      <td>0.000000</td>\n",
       "      <td>53487.158244</td>\n",
       "      <td>0.000000</td>\n",
       "      <td>9.978773</td>\n",
       "      <td>0.163446</td>\n",
       "      <td>10.142219</td>\n",
       "      <td>NaN</td>\n",
       "      <td>1</td>\n",
       "    </tr>\n",
       "    <tr>\n",
       "      <th>46858</th>\n",
       "      <td>Africa</td>\n",
       "      <td>CIV</td>\n",
       "      <td>Côte d'Ivoire</td>\n",
       "      <td>2021</td>\n",
       "      <td>Stimulant, spice and aromatic crops</td>\n",
       "      <td>Cocoa beans</td>\n",
       "      <td>0.000000</td>\n",
       "      <td>24096.465665</td>\n",
       "      <td>0.000000</td>\n",
       "      <td>4.407209</td>\n",
       "      <td>0.163446</td>\n",
       "      <td>4.570655</td>\n",
       "      <td>NaN</td>\n",
       "      <td>1</td>\n",
       "    </tr>\n",
       "    <tr>\n",
       "      <th>46859</th>\n",
       "      <td>Africa</td>\n",
       "      <td>CIV</td>\n",
       "      <td>Côte d'Ivoire</td>\n",
       "      <td>2022</td>\n",
       "      <td>Stimulant, spice and aromatic crops</td>\n",
       "      <td>Cocoa beans</td>\n",
       "      <td>0.000000</td>\n",
       "      <td>0.000000</td>\n",
       "      <td>0.000000</td>\n",
       "      <td>0.000000</td>\n",
       "      <td>0.163446</td>\n",
       "      <td>0.163446</td>\n",
       "      <td>NaN</td>\n",
       "      <td>1</td>\n",
       "    </tr>\n",
       "  </tbody>\n",
       "</table>\n",
       "</div>"
      ],
      "text/plain": [
       "      Continent/Country group  ISO Producer country  Year  \\\n",
       "46838                  Africa  CIV    Côte d'Ivoire  2001   \n",
       "46839                  Africa  CIV    Côte d'Ivoire  2002   \n",
       "46840                  Africa  CIV    Côte d'Ivoire  2003   \n",
       "46841                  Africa  CIV    Côte d'Ivoire  2004   \n",
       "46842                  Africa  CIV    Côte d'Ivoire  2005   \n",
       "46843                  Africa  CIV    Côte d'Ivoire  2006   \n",
       "46844                  Africa  CIV    Côte d'Ivoire  2007   \n",
       "46845                  Africa  CIV    Côte d'Ivoire  2008   \n",
       "46846                  Africa  CIV    Côte d'Ivoire  2009   \n",
       "46847                  Africa  CIV    Côte d'Ivoire  2010   \n",
       "46848                  Africa  CIV    Côte d'Ivoire  2011   \n",
       "46849                  Africa  CIV    Côte d'Ivoire  2012   \n",
       "46850                  Africa  CIV    Côte d'Ivoire  2013   \n",
       "46851                  Africa  CIV    Côte d'Ivoire  2014   \n",
       "46852                  Africa  CIV    Côte d'Ivoire  2015   \n",
       "46853                  Africa  CIV    Côte d'Ivoire  2016   \n",
       "46854                  Africa  CIV    Côte d'Ivoire  2017   \n",
       "46855                  Africa  CIV    Côte d'Ivoire  2018   \n",
       "46856                  Africa  CIV    Côte d'Ivoire  2019   \n",
       "46857                  Africa  CIV    Côte d'Ivoire  2020   \n",
       "46858                  Africa  CIV    Côte d'Ivoire  2021   \n",
       "46859                  Africa  CIV    Côte d'Ivoire  2022   \n",
       "\n",
       "                           Commodity group    Commodity  \\\n",
       "46838  Stimulant, spice and aromatic crops  Cocoa beans   \n",
       "46839  Stimulant, spice and aromatic crops  Cocoa beans   \n",
       "46840  Stimulant, spice and aromatic crops  Cocoa beans   \n",
       "46841  Stimulant, spice and aromatic crops  Cocoa beans   \n",
       "46842  Stimulant, spice and aromatic crops  Cocoa beans   \n",
       "46843  Stimulant, spice and aromatic crops  Cocoa beans   \n",
       "46844  Stimulant, spice and aromatic crops  Cocoa beans   \n",
       "46845  Stimulant, spice and aromatic crops  Cocoa beans   \n",
       "46846  Stimulant, spice and aromatic crops  Cocoa beans   \n",
       "46847  Stimulant, spice and aromatic crops  Cocoa beans   \n",
       "46848  Stimulant, spice and aromatic crops  Cocoa beans   \n",
       "46849  Stimulant, spice and aromatic crops  Cocoa beans   \n",
       "46850  Stimulant, spice and aromatic crops  Cocoa beans   \n",
       "46851  Stimulant, spice and aromatic crops  Cocoa beans   \n",
       "46852  Stimulant, spice and aromatic crops  Cocoa beans   \n",
       "46853  Stimulant, spice and aromatic crops  Cocoa beans   \n",
       "46854  Stimulant, spice and aromatic crops  Cocoa beans   \n",
       "46855  Stimulant, spice and aromatic crops  Cocoa beans   \n",
       "46856  Stimulant, spice and aromatic crops  Cocoa beans   \n",
       "46857  Stimulant, spice and aromatic crops  Cocoa beans   \n",
       "46858  Stimulant, spice and aromatic crops  Cocoa beans   \n",
       "46859  Stimulant, spice and aromatic crops  Cocoa beans   \n",
       "\n",
       "       Deforestation attribution, unamortized (ha)  \\\n",
       "46838                                 20419.557810   \n",
       "46839                                 31035.055365   \n",
       "46840                                 13062.831452   \n",
       "46841                                 15829.238392   \n",
       "46842                                  9844.744974   \n",
       "46843                                     0.000000   \n",
       "46844                                     0.000000   \n",
       "46845                                     0.000000   \n",
       "46846                                 13209.801429   \n",
       "46847                                 24485.112475   \n",
       "46848                                 19909.966226   \n",
       "46849                                 23831.614914   \n",
       "46850                                 41475.072057   \n",
       "46851                                 80711.018094   \n",
       "46852                                 73703.217646   \n",
       "46853                                146953.462892   \n",
       "46854                                120482.328327   \n",
       "46855                                     0.000000   \n",
       "46856                                     0.000000   \n",
       "46857                                     0.000000   \n",
       "46858                                     0.000000   \n",
       "46859                                     0.000000   \n",
       "\n",
       "       Deforestation risk, amortized (ha)  \\\n",
       "46838                                 NaN   \n",
       "46839                                 NaN   \n",
       "46840                                 NaN   \n",
       "46841                                 NaN   \n",
       "46842                        18038.285599   \n",
       "46843                        13954.374037   \n",
       "46844                         7747.362964   \n",
       "46845                         5134.796673   \n",
       "46846                         4610.909281   \n",
       "46847                         7538.982781   \n",
       "46848                        11520.976026   \n",
       "46849                        16287.299009   \n",
       "46850                        24582.313420   \n",
       "46851                        38082.556753   \n",
       "46852                        47926.177787   \n",
       "46853                        73334.877121   \n",
       "46854                        92665.019803   \n",
       "46855                        84370.005392   \n",
       "46856                        68227.801773   \n",
       "46857                        53487.158244   \n",
       "46858                        24096.465665   \n",
       "46859                            0.000000   \n",
       "\n",
       "       Deforestation emissions excl. peat drainage, unamortized (MtCO2)  \\\n",
       "46838                                           5.382733                  \n",
       "46839                                           8.062092                  \n",
       "46840                                           3.271978                  \n",
       "46841                                           3.860061                  \n",
       "46842                                           2.095676                  \n",
       "46843                                           0.000000                  \n",
       "46844                                           0.000000                  \n",
       "46845                                           0.000000                  \n",
       "46846                                           3.591121                  \n",
       "46847                                           6.284509                  \n",
       "46848                                           5.297877                  \n",
       "46849                                           6.377852                  \n",
       "46850                                           9.124553                  \n",
       "46851                                          16.408031                  \n",
       "46852                                          15.635561                  \n",
       "46853                                          27.857817                  \n",
       "46854                                          22.036047                  \n",
       "46855                                           0.000000                  \n",
       "46856                                           0.000000                  \n",
       "46857                                           0.000000                  \n",
       "46858                                           0.000000                  \n",
       "46859                                           0.000000                  \n",
       "\n",
       "       Deforestation emissions excl. peat drainage, amortized (MtCO2)  \\\n",
       "46838                                                NaN                \n",
       "46839                                                NaN                \n",
       "46840                                                NaN                \n",
       "46841                                                NaN                \n",
       "46842                                           4.534508                \n",
       "46843                                           3.457961                \n",
       "46844                                           1.845543                \n",
       "46845                                           1.191147                \n",
       "46846                                           1.137359                \n",
       "46847                                           1.975126                \n",
       "46848                                           3.034701                \n",
       "46849                                           4.310272                \n",
       "46850                                           6.135182                \n",
       "46851                                           8.698564                \n",
       "46852                                          10.568775                \n",
       "46853                                          15.080763                \n",
       "46854                                          18.212402                \n",
       "46855                                          16.387491                \n",
       "46856                                          13.105885                \n",
       "46857                                           9.978773                \n",
       "46858                                           4.407209                \n",
       "46859                                           0.000000                \n",
       "\n",
       "       Peatland drainage emissions (MtCO2)  \\\n",
       "46838                             0.002704   \n",
       "46839                             0.006570   \n",
       "46840                             0.008204   \n",
       "46841                             0.009742   \n",
       "46842                             0.010687   \n",
       "46843                             0.010687   \n",
       "46844                             0.010687   \n",
       "46845                             0.010687   \n",
       "46846                             0.021218   \n",
       "46847                             0.024664   \n",
       "46848                             0.028212   \n",
       "46849                             0.033458   \n",
       "46850                             0.046295   \n",
       "46851                             0.072980   \n",
       "46852                             0.092473   \n",
       "46853                             0.138338   \n",
       "46854                             0.163446   \n",
       "46855                             0.163446   \n",
       "46856                             0.163446   \n",
       "46857                             0.163446   \n",
       "46858                             0.163446   \n",
       "46859                             0.163446   \n",
       "\n",
       "       Deforestation emissions incl. peat drainage, amortized (MtCO2)  \\\n",
       "46838                                           0.002704                \n",
       "46839                                           0.006570                \n",
       "46840                                           0.008204                \n",
       "46841                                           0.009742                \n",
       "46842                                           4.545195                \n",
       "46843                                           3.468648                \n",
       "46844                                           1.856230                \n",
       "46845                                           1.201834                \n",
       "46846                                           1.158577                \n",
       "46847                                           1.999790                \n",
       "46848                                           3.062914                \n",
       "46849                                           4.343730                \n",
       "46850                                           6.181477                \n",
       "46851                                           8.771544                \n",
       "46852                                          10.661248                \n",
       "46853                                          15.219100                \n",
       "46854                                          18.375848                \n",
       "46855                                          16.550937                \n",
       "46856                                          13.269331                \n",
       "46857                                          10.142219                \n",
       "46858                                           4.570655                \n",
       "46859                                           0.163446                \n",
       "\n",
       "       Quality Index  Group  \n",
       "46838       0.293751      1  \n",
       "46839       0.293839      1  \n",
       "46840       0.293855      1  \n",
       "46841       0.293757      1  \n",
       "46842       0.293753      1  \n",
       "46843            NaN      1  \n",
       "46844            NaN      1  \n",
       "46845            NaN      1  \n",
       "46846       0.293700      1  \n",
       "46847       0.233683      1  \n",
       "46848       0.233689      1  \n",
       "46849       0.233680      1  \n",
       "46850       0.233682      1  \n",
       "46851       0.233625      1  \n",
       "46852       0.253685      1  \n",
       "46853       0.253700      1  \n",
       "46854       0.253684      1  \n",
       "46855            NaN      1  \n",
       "46856            NaN      1  \n",
       "46857            NaN      1  \n",
       "46858            NaN      1  \n",
       "46859            NaN      1  "
      ]
     },
     "execution_count": 61,
     "metadata": {},
     "output_type": "execute_result"
    }
   ],
   "source": [
    "S12.loc[(S12['Commodity'] == 'Cocoa beans') & (S12['Producer country'] == 'Côte d\\'Ivoire')]"
   ]
  },
  {
   "cell_type": "code",
   "execution_count": null,
   "id": "5b46c8dd-1719-4000-807f-bb1a904e310b",
   "metadata": {},
   "outputs": [],
   "source": []
  },
  {
   "cell_type": "markdown",
   "id": "08809f90-f6d6-4051-ad89-a2439f811cae",
   "metadata": {},
   "source": [
    "## S13 (Hansen forest loss only)"
   ]
  },
  {
   "cell_type": "code",
   "execution_count": 55,
   "id": "e5bb51d9-0467-4f94-a5a7-582796fafe71",
   "metadata": {},
   "outputs": [],
   "source": [
    "Sensitivity = 'Sensitivity analyses/S13 (Hansen loss)'\n",
    "S13 = pd.read_excel(f'{home_folder}{Simulation_version}/{Sensitivity}/Generated_results/DeDuCE_Deforestation_attribution_v{Dataset_version}.{GEE_data_version}.{Python_script_version} {Year}.xlsx')"
   ]
  },
  {
   "cell_type": "code",
   "execution_count": 56,
   "id": "e6317131-2fc0-48d4-b97b-42994cdc3ef8",
   "metadata": {},
   "outputs": [],
   "source": [
    "S13['Group'] = 1\n",
    "Agg_results = S13.groupby(['Group']).apply(\n",
    "                lambda group: pd.Series({\n",
    "                    'Deforestation attribution, unamortized (ha)': group['Deforestation attribution, unamortized (ha)'].sum(),\n",
    "                    'Deforestation emissions excl. peat drainage, unamortized (MtCO2)': group['Deforestation emissions excl. peat drainage, unamortized (MtCO2)'].sum(),\n",
    "                    'Peatland drainage emissions (MtCO2)': group['Peatland drainage emissions (MtCO2)'].sum(),\n",
    "                    'Quality Index': weighted_mean(group)})\n",
    "                ).reset_index()\n",
    "\n",
    "# Add a new column for the total emissions\n",
    "Agg_results['Total emissions (MtCO2)'] = (\n",
    "    Agg_results['Deforestation emissions excl. peat drainage, unamortized (MtCO2)'] +\n",
    "    Agg_results['Peatland drainage emissions (MtCO2)']\n",
    ")"
   ]
  },
  {
   "cell_type": "code",
   "execution_count": 57,
   "id": "1abcd76d-35d7-435f-85a8-3f250c318e1c",
   "metadata": {},
   "outputs": [
    {
     "data": {
      "text/html": [
       "<style type=\"text/css\">\n",
       "</style>\n",
       "<table id=\"T_fa647\">\n",
       "  <thead>\n",
       "    <tr>\n",
       "      <th class=\"blank level0\" >&nbsp;</th>\n",
       "      <th id=\"T_fa647_level0_col0\" class=\"col_heading level0 col0\" >Deforestation attribution, unamortized (ha)</th>\n",
       "      <th id=\"T_fa647_level0_col1\" class=\"col_heading level0 col1\" >Total emissions (MtCO2)</th>\n",
       "      <th id=\"T_fa647_level0_col2\" class=\"col_heading level0 col2\" >Quality Index</th>\n",
       "    </tr>\n",
       "  </thead>\n",
       "  <tbody>\n",
       "    <tr>\n",
       "      <th id=\"T_fa647_level0_row0\" class=\"row_heading level0 row0\" >0</th>\n",
       "      <td id=\"T_fa647_row0_col0\" class=\"data row0 col0\" >226530991.23</td>\n",
       "      <td id=\"T_fa647_row0_col1\" class=\"data row0 col1\" >76377.45</td>\n",
       "      <td id=\"T_fa647_row0_col2\" class=\"data row0 col2\" >0.38</td>\n",
       "    </tr>\n",
       "  </tbody>\n",
       "</table>\n"
      ],
      "text/plain": [
       "<pandas.io.formats.style.Styler at 0x7fde73bdc8e0>"
      ]
     },
     "execution_count": 57,
     "metadata": {},
     "output_type": "execute_result"
    }
   ],
   "source": [
    "Agg_results[['Deforestation attribution, unamortized (ha)', 'Total emissions (MtCO2)', 'Quality Index']].style.format({\n",
    "    'Deforestation attribution, unamortized (ha)': '{:.2f}',\n",
    "    'Total emissions (MtCO2)': '{:.2f}',\n",
    "    'Quality Index': '{:.2f}'\n",
    "})"
   ]
  },
  {
   "cell_type": "code",
   "execution_count": 141,
   "id": "651cdd46-4414-412a-852f-ae3015d89cac",
   "metadata": {},
   "outputs": [
    {
     "data": {
      "text/plain": [
       "180"
      ]
     },
     "execution_count": 141,
     "metadata": {},
     "output_type": "execute_result"
    }
   ],
   "source": [
    "len(S15['Producer country'].unique())"
   ]
  },
  {
   "cell_type": "code",
   "execution_count": 58,
   "id": "2a830338-e833-4c11-945b-7bec778482e6",
   "metadata": {},
   "outputs": [
    {
     "data": {
      "text/html": [
       "<style type=\"text/css\">\n",
       "</style>\n",
       "<table id=\"T_212bb\">\n",
       "  <thead>\n",
       "    <tr>\n",
       "      <th class=\"blank level0\" >&nbsp;</th>\n",
       "      <th id=\"T_212bb_level0_col0\" class=\"col_heading level0 col0\" >Deforestation attribution, unamortized (ha)</th>\n",
       "      <th id=\"T_212bb_level0_col1\" class=\"col_heading level0 col1\" >Total emissions (MtCO2)</th>\n",
       "      <th id=\"T_212bb_level0_col2\" class=\"col_heading level0 col2\" >Quality Index</th>\n",
       "    </tr>\n",
       "  </thead>\n",
       "  <tbody>\n",
       "    <tr>\n",
       "      <th id=\"T_212bb_level0_row0\" class=\"row_heading level0 row0\" >0</th>\n",
       "      <td id=\"T_212bb_row0_col0\" class=\"data row0 col0\" >9369761.42</td>\n",
       "      <td id=\"T_212bb_row0_col1\" class=\"data row0 col1\" >5787.82</td>\n",
       "      <td id=\"T_212bb_row0_col2\" class=\"data row0 col2\" >0.36</td>\n",
       "    </tr>\n",
       "  </tbody>\n",
       "</table>\n"
      ],
      "text/plain": [
       "<pandas.io.formats.style.Styler at 0x7fde73690070>"
      ]
     },
     "execution_count": 58,
     "metadata": {},
     "output_type": "execute_result"
    }
   ],
   "source": [
    "Agg_results = S13.loc[(S13['Commodity'] == 'Oil palm fruit') & (S13['Producer country'] == 'Indonesia')].groupby(['Group']).apply(\n",
    "                lambda group: pd.Series({\n",
    "                    'Deforestation attribution, unamortized (ha)': group['Deforestation attribution, unamortized (ha)'].sum(),\n",
    "                    'Deforestation emissions excl. peat drainage, unamortized (MtCO2)': group['Deforestation emissions excl. peat drainage, unamortized (MtCO2)'].sum(),\n",
    "                    'Peatland drainage emissions (MtCO2)': group['Peatland drainage emissions (MtCO2)'].sum(),\n",
    "                    'Quality Index': weighted_mean(group)})\n",
    "                ).reset_index()\n",
    "\n",
    "# Add a new column for the total emissions\n",
    "Agg_results['Total emissions (MtCO2)'] = (\n",
    "    Agg_results['Deforestation emissions excl. peat drainage, unamortized (MtCO2)'] +\n",
    "    Agg_results['Peatland drainage emissions (MtCO2)']\n",
    ")\n",
    "\n",
    "Agg_results[['Deforestation attribution, unamortized (ha)', 'Total emissions (MtCO2)', 'Quality Index']].style.format({\n",
    "    'Deforestation attribution, unamortized (ha)': '{:.2f}',\n",
    "    'Total emissions (MtCO2)': '{:.2f}',\n",
    "    'Quality Index': '{:.2f}'\n",
    "})"
   ]
  },
  {
   "cell_type": "code",
   "execution_count": 59,
   "id": "9f667e75-6ec3-4419-ba73-28adbd80eb53",
   "metadata": {},
   "outputs": [
    {
     "data": {
      "text/html": [
       "<style type=\"text/css\">\n",
       "</style>\n",
       "<table id=\"T_6833d\">\n",
       "  <thead>\n",
       "    <tr>\n",
       "      <th class=\"blank level0\" >&nbsp;</th>\n",
       "      <th id=\"T_6833d_level0_col0\" class=\"col_heading level0 col0\" >Deforestation attribution, unamortized (ha)</th>\n",
       "      <th id=\"T_6833d_level0_col1\" class=\"col_heading level0 col1\" >Total emissions (MtCO2)</th>\n",
       "      <th id=\"T_6833d_level0_col2\" class=\"col_heading level0 col2\" >Quality Index</th>\n",
       "    </tr>\n",
       "  </thead>\n",
       "  <tbody>\n",
       "    <tr>\n",
       "      <th id=\"T_6833d_level0_row0\" class=\"row_heading level0 row0\" >0</th>\n",
       "      <td id=\"T_6833d_row0_col0\" class=\"data row0 col0\" >637999.30</td>\n",
       "      <td id=\"T_6833d_row0_col1\" class=\"data row0 col1\" >137.75</td>\n",
       "      <td id=\"T_6833d_row0_col2\" class=\"data row0 col2\" >0.34</td>\n",
       "    </tr>\n",
       "  </tbody>\n",
       "</table>\n"
      ],
      "text/plain": [
       "<pandas.io.formats.style.Styler at 0x7fde739382b0>"
      ]
     },
     "execution_count": 59,
     "metadata": {},
     "output_type": "execute_result"
    }
   ],
   "source": [
    "Agg_results = S13.loc[(S13['Commodity'] == 'Cocoa beans') & (S13['Producer country'] == 'Côte d\\'Ivoire')].groupby(['Group']).apply(\n",
    "                lambda group: pd.Series({\n",
    "                    'Deforestation attribution, unamortized (ha)': group['Deforestation attribution, unamortized (ha)'].sum(),\n",
    "                    'Deforestation emissions excl. peat drainage, unamortized (MtCO2)': group['Deforestation emissions excl. peat drainage, unamortized (MtCO2)'].sum(),\n",
    "                    'Peatland drainage emissions (MtCO2)': group['Peatland drainage emissions (MtCO2)'].sum(),\n",
    "                    'Quality Index': weighted_mean(group)})\n",
    "                ).reset_index()\n",
    "\n",
    "# Add a new column for the total emissions\n",
    "Agg_results['Total emissions (MtCO2)'] = (\n",
    "    Agg_results['Deforestation emissions excl. peat drainage, unamortized (MtCO2)'] +\n",
    "    Agg_results['Peatland drainage emissions (MtCO2)']\n",
    ")\n",
    "\n",
    "Agg_results[['Deforestation attribution, unamortized (ha)', 'Total emissions (MtCO2)', 'Quality Index']].style.format({\n",
    "    'Deforestation attribution, unamortized (ha)': '{:.2f}',\n",
    "    'Total emissions (MtCO2)': '{:.2f}',\n",
    "    'Quality Index': '{:.2f}'\n",
    "})"
   ]
  },
  {
   "cell_type": "code",
   "execution_count": 60,
   "id": "70d57f48-0335-476f-a016-52ea108c2ac8",
   "metadata": {},
   "outputs": [
    {
     "data": {
      "text/html": [
       "<style type=\"text/css\">\n",
       "</style>\n",
       "<table id=\"T_db8e8\">\n",
       "  <thead>\n",
       "    <tr>\n",
       "      <th class=\"blank level0\" >&nbsp;</th>\n",
       "      <th id=\"T_db8e8_level0_col0\" class=\"col_heading level0 col0\" >Deforestation attribution, unamortized (ha)</th>\n",
       "      <th id=\"T_db8e8_level0_col1\" class=\"col_heading level0 col1\" >Total emissions (MtCO2)</th>\n",
       "      <th id=\"T_db8e8_level0_col2\" class=\"col_heading level0 col2\" >Quality Index</th>\n",
       "    </tr>\n",
       "  </thead>\n",
       "  <tbody>\n",
       "    <tr>\n",
       "      <th id=\"T_db8e8_level0_row0\" class=\"row_heading level0 row0\" >0</th>\n",
       "      <td id=\"T_db8e8_row0_col0\" class=\"data row0 col0\" >8716919.54</td>\n",
       "      <td id=\"T_db8e8_row0_col1\" class=\"data row0 col1\" >3532.75</td>\n",
       "      <td id=\"T_db8e8_row0_col2\" class=\"data row0 col2\" >0.42</td>\n",
       "    </tr>\n",
       "  </tbody>\n",
       "</table>\n"
      ],
      "text/plain": [
       "<pandas.io.formats.style.Styler at 0x7fde73943c40>"
      ]
     },
     "execution_count": 60,
     "metadata": {},
     "output_type": "execute_result"
    }
   ],
   "source": [
    "Agg_results = S13.loc[(S13['Commodity'] == 'Soya beans') & (S13['Producer country'] == 'Brazil')].groupby(['Group']).apply(\n",
    "                lambda group: pd.Series({\n",
    "                    'Deforestation attribution, unamortized (ha)': group['Deforestation attribution, unamortized (ha)'].sum(),\n",
    "                    'Deforestation emissions excl. peat drainage, unamortized (MtCO2)': group['Deforestation emissions excl. peat drainage, unamortized (MtCO2)'].sum(),\n",
    "                    'Peatland drainage emissions (MtCO2)': group['Peatland drainage emissions (MtCO2)'].sum(),\n",
    "                    'Quality Index': weighted_mean(group)})\n",
    "                ).reset_index()\n",
    "\n",
    "# Add a new column for the total emissions\n",
    "Agg_results['Total emissions (MtCO2)'] = (\n",
    "    Agg_results['Deforestation emissions excl. peat drainage, unamortized (MtCO2)'] +\n",
    "    Agg_results['Peatland drainage emissions (MtCO2)']\n",
    ")\n",
    "\n",
    "Agg_results[['Deforestation attribution, unamortized (ha)', 'Total emissions (MtCO2)', 'Quality Index']].style.format({\n",
    "    'Deforestation attribution, unamortized (ha)': '{:.2f}',\n",
    "    'Total emissions (MtCO2)': '{:.2f}',\n",
    "    'Quality Index': '{:.2f}'\n",
    "})"
   ]
  },
  {
   "cell_type": "code",
   "execution_count": null,
   "id": "11344c57-d1df-4c29-bf2d-03de127da996",
   "metadata": {},
   "outputs": [],
   "source": []
  },
  {
   "cell_type": "code",
   "execution_count": null,
   "id": "6e300f81-4782-4dda-994e-212df4fea280",
   "metadata": {},
   "outputs": [],
   "source": []
  },
  {
   "cell_type": "code",
   "execution_count": null,
   "id": "0523265b-a195-4c82-a158-ffbf7afe20ec",
   "metadata": {},
   "outputs": [],
   "source": []
  },
  {
   "cell_type": "markdown",
   "id": "dc422eb7-bfb4-40ba-94ee-411180aa6051",
   "metadata": {},
   "source": [
    "## S15.1 (No cropland over pasture)"
   ]
  },
  {
   "cell_type": "code",
   "execution_count": 9,
   "id": "bda92ef4-930e-4886-ae2c-de133e71bf38",
   "metadata": {},
   "outputs": [],
   "source": [
    "Sensitivity = 'Sensitivity analyses/S15.1 (No cropland over pasture)'\n",
    "S15_1 = pd.read_excel(f'{home_folder}{Simulation_version}/{Sensitivity}/Generated_results/DeDuCE_Deforestation_attribution_v{Dataset_version}.{GEE_data_version}.{Python_script_version} {Year}.xlsx')"
   ]
  },
  {
   "cell_type": "code",
   "execution_count": 10,
   "id": "914f1464-50c4-44ba-a201-8a3f77b0c52e",
   "metadata": {},
   "outputs": [],
   "source": [
    "S15_1['Group'] = 1\n",
    "Agg_results = S15_1.groupby(['Group']).apply(\n",
    "                lambda group: pd.Series({\n",
    "                    'Deforestation attribution, unamortized (ha)': group['Deforestation attribution, unamortized (ha)'].sum(),\n",
    "                    'Deforestation emissions excl. peat drainage, unamortized (MtCO2)': group['Deforestation emissions excl. peat drainage, unamortized (MtCO2)'].sum(),\n",
    "                    'Peatland drainage emissions (MtCO2)': group['Peatland drainage emissions (MtCO2)'].sum(),\n",
    "                    'Quality Index': weighted_mean(group)})\n",
    "                ).reset_index()\n",
    "\n",
    "# Add a new column for the total emissions\n",
    "Agg_results['Total emissions (MtCO2)'] = (\n",
    "    Agg_results['Deforestation emissions excl. peat drainage, unamortized (MtCO2)'] +\n",
    "    Agg_results['Peatland drainage emissions (MtCO2)']\n",
    ")"
   ]
  },
  {
   "cell_type": "code",
   "execution_count": 11,
   "id": "c1820896-8c67-41b1-b3de-f51d59d23bec",
   "metadata": {},
   "outputs": [
    {
     "data": {
      "text/html": [
       "<style type=\"text/css\">\n",
       "</style>\n",
       "<table id=\"T_7f6c2\">\n",
       "  <thead>\n",
       "    <tr>\n",
       "      <th class=\"blank level0\" >&nbsp;</th>\n",
       "      <th id=\"T_7f6c2_level0_col0\" class=\"col_heading level0 col0\" >Deforestation attribution, unamortized (ha)</th>\n",
       "      <th id=\"T_7f6c2_level0_col1\" class=\"col_heading level0 col1\" >Total emissions (MtCO2)</th>\n",
       "      <th id=\"T_7f6c2_level0_col2\" class=\"col_heading level0 col2\" >Quality Index</th>\n",
       "    </tr>\n",
       "  </thead>\n",
       "  <tbody>\n",
       "    <tr>\n",
       "      <th id=\"T_7f6c2_level0_row0\" class=\"row_heading level0 row0\" >0</th>\n",
       "      <td id=\"T_7f6c2_row0_col0\" class=\"data row0 col0\" >122067976.98</td>\n",
       "      <td id=\"T_7f6c2_row0_col1\" class=\"data row0 col1\" >44249.30</td>\n",
       "      <td id=\"T_7f6c2_row0_col2\" class=\"data row0 col2\" >0.49</td>\n",
       "    </tr>\n",
       "  </tbody>\n",
       "</table>\n"
      ],
      "text/plain": [
       "<pandas.io.formats.style.Styler at 0x7fdf21962e60>"
      ]
     },
     "execution_count": 11,
     "metadata": {},
     "output_type": "execute_result"
    }
   ],
   "source": [
    "Agg_results[['Deforestation attribution, unamortized (ha)', 'Total emissions (MtCO2)', 'Quality Index']].style.format({\n",
    "    'Deforestation attribution, unamortized (ha)': '{:.2f}',\n",
    "    'Total emissions (MtCO2)': '{:.2f}',\n",
    "    'Quality Index': '{:.2f}'\n",
    "})"
   ]
  },
  {
   "cell_type": "code",
   "execution_count": null,
   "id": "76bad1c2-e4e1-40c1-a9c9-77afdeafb575",
   "metadata": {},
   "outputs": [],
   "source": []
  },
  {
   "cell_type": "markdown",
   "id": "351327b0-f99f-46c8-b63d-6d01809c2100",
   "metadata": {},
   "source": [
    "## S15.2 (Net land-use change)"
   ]
  },
  {
   "cell_type": "code",
   "execution_count": 138,
   "id": "3f1e8007-5813-4320-a22e-bbe7a6583421",
   "metadata": {},
   "outputs": [],
   "source": [
    "Sensitivity = 'Sensitivity analyses/S15.2 (Net expansion)'\n",
    "S15 = pd.read_excel(f'{home_folder}{Simulation_version}/{Sensitivity}/Generated_results/DeDuCE_Deforestation_attribution_v{Dataset_version}.{GEE_data_version}.{Python_script_version} {Year}.xlsx')"
   ]
  },
  {
   "cell_type": "code",
   "execution_count": 139,
   "id": "a420ec76-2905-4cf9-8a3d-c870119db384",
   "metadata": {},
   "outputs": [],
   "source": [
    "S15['Group'] = 1\n",
    "Agg_results = S15.groupby(['Group']).apply(\n",
    "                lambda group: pd.Series({\n",
    "                    'Deforestation attribution, unamortized (ha)': group['Deforestation attribution, unamortized (ha)'].sum(),\n",
    "                    'Deforestation emissions excl. peat drainage, unamortized (MtCO2)': group['Deforestation emissions excl. peat drainage, unamortized (MtCO2)'].sum(),\n",
    "                    'Peatland drainage emissions (MtCO2)': group['Peatland drainage emissions (MtCO2)'].sum(),\n",
    "                    'Quality Index': weighted_mean(group)})\n",
    "                ).reset_index()\n",
    "\n",
    "# Add a new column for the total emissions\n",
    "Agg_results['Total emissions (MtCO2)'] = (\n",
    "    Agg_results['Deforestation emissions excl. peat drainage, unamortized (MtCO2)'] +\n",
    "    Agg_results['Peatland drainage emissions (MtCO2)']\n",
    ")"
   ]
  },
  {
   "cell_type": "code",
   "execution_count": 140,
   "id": "2d5114c2-d5fb-4155-9ea3-eba1ad8a5f3f",
   "metadata": {},
   "outputs": [
    {
     "data": {
      "text/html": [
       "<style type=\"text/css\">\n",
       "</style>\n",
       "<table id=\"T_5636c\">\n",
       "  <thead>\n",
       "    <tr>\n",
       "      <th class=\"blank level0\" >&nbsp;</th>\n",
       "      <th id=\"T_5636c_level0_col0\" class=\"col_heading level0 col0\" >Deforestation attribution, unamortized (ha)</th>\n",
       "      <th id=\"T_5636c_level0_col1\" class=\"col_heading level0 col1\" >Total emissions (MtCO2)</th>\n",
       "      <th id=\"T_5636c_level0_col2\" class=\"col_heading level0 col2\" >Quality Index</th>\n",
       "    </tr>\n",
       "  </thead>\n",
       "  <tbody>\n",
       "    <tr>\n",
       "      <th id=\"T_5636c_level0_row0\" class=\"row_heading level0 row0\" >0</th>\n",
       "      <td id=\"T_5636c_row0_col0\" class=\"data row0 col0\" >112500733.88</td>\n",
       "      <td id=\"T_5636c_row0_col1\" class=\"data row0 col1\" >40060.19</td>\n",
       "      <td id=\"T_5636c_row0_col2\" class=\"data row0 col2\" >0.51</td>\n",
       "    </tr>\n",
       "  </tbody>\n",
       "</table>\n"
      ],
      "text/plain": [
       "<pandas.io.formats.style.Styler at 0x7f0caa3df4c0>"
      ]
     },
     "execution_count": 140,
     "metadata": {},
     "output_type": "execute_result"
    }
   ],
   "source": [
    "Agg_results[['Deforestation attribution, unamortized (ha)', 'Total emissions (MtCO2)', 'Quality Index']].style.format({\n",
    "    'Deforestation attribution, unamortized (ha)': '{:.2f}',\n",
    "    'Total emissions (MtCO2)': '{:.2f}',\n",
    "    'Quality Index': '{:.2f}'\n",
    "})"
   ]
  },
  {
   "cell_type": "code",
   "execution_count": null,
   "id": "cc00cfe4-d92f-48fa-abf7-3518f38b8b60",
   "metadata": {},
   "outputs": [],
   "source": []
  },
  {
   "cell_type": "code",
   "execution_count": null,
   "id": "223e1783-54b3-49e0-a192-9e5a22572aab",
   "metadata": {},
   "outputs": [],
   "source": []
  },
  {
   "cell_type": "markdown",
   "id": "0331e725-6fe3-48b8-9559-3ac99be8b8ae",
   "metadata": {},
   "source": [
    "## S16 (Restrcted by FAOSTAT)"
   ]
  },
  {
   "cell_type": "code",
   "execution_count": 142,
   "id": "a3d299c4-2c14-415f-816d-697882569027",
   "metadata": {},
   "outputs": [],
   "source": [
    "Sensitivity = 'Sensitivity analyses/S16 (All land-use restricted)'\n",
    "S16 = pd.read_excel(f'{home_folder}{Simulation_version}/{Sensitivity}/Generated_results/DeDuCE_Deforestation_attribution_v{Dataset_version}.{GEE_data_version}.{Python_script_version} {Year}.xlsx')"
   ]
  },
  {
   "cell_type": "code",
   "execution_count": 143,
   "id": "ef9bb6d7-1ab9-4dba-ae82-85fde823189c",
   "metadata": {},
   "outputs": [],
   "source": [
    "S16['Group'] = 1\n",
    "Agg_results = S16.groupby(['Group']).apply(\n",
    "                lambda group: pd.Series({\n",
    "                    'Deforestation attribution, unamortized (ha)': group['Deforestation attribution, unamortized (ha)'].sum(),\n",
    "                    'Deforestation emissions excl. peat drainage, unamortized (MtCO2)': group['Deforestation emissions excl. peat drainage, unamortized (MtCO2)'].sum(),\n",
    "                    'Peatland drainage emissions (MtCO2)': group['Peatland drainage emissions (MtCO2)'].sum(),\n",
    "                    'Quality Index': weighted_mean(group)})\n",
    "                ).reset_index()\n",
    "\n",
    "# Add a new column for the total emissions\n",
    "Agg_results['Total emissions (MtCO2)'] = (\n",
    "    Agg_results['Deforestation emissions excl. peat drainage, unamortized (MtCO2)'] +\n",
    "    Agg_results['Peatland drainage emissions (MtCO2)']\n",
    ")"
   ]
  },
  {
   "cell_type": "code",
   "execution_count": 144,
   "id": "d20594f2-6a2a-47db-a128-d3498388999a",
   "metadata": {},
   "outputs": [
    {
     "data": {
      "text/html": [
       "<style type=\"text/css\">\n",
       "</style>\n",
       "<table id=\"T_68b8b\">\n",
       "  <thead>\n",
       "    <tr>\n",
       "      <th class=\"blank level0\" >&nbsp;</th>\n",
       "      <th id=\"T_68b8b_level0_col0\" class=\"col_heading level0 col0\" >Deforestation attribution, unamortized (ha)</th>\n",
       "      <th id=\"T_68b8b_level0_col1\" class=\"col_heading level0 col1\" >Total emissions (MtCO2)</th>\n",
       "      <th id=\"T_68b8b_level0_col2\" class=\"col_heading level0 col2\" >Quality Index</th>\n",
       "    </tr>\n",
       "  </thead>\n",
       "  <tbody>\n",
       "    <tr>\n",
       "      <th id=\"T_68b8b_level0_row0\" class=\"row_heading level0 row0\" >0</th>\n",
       "      <td id=\"T_68b8b_row0_col0\" class=\"data row0 col0\" >120295888.04</td>\n",
       "      <td id=\"T_68b8b_row0_col1\" class=\"data row0 col1\" >43389.09</td>\n",
       "      <td id=\"T_68b8b_row0_col2\" class=\"data row0 col2\" >0.49</td>\n",
       "    </tr>\n",
       "  </tbody>\n",
       "</table>\n"
      ],
      "text/plain": [
       "<pandas.io.formats.style.Styler at 0x7f0ca17435b0>"
      ]
     },
     "execution_count": 144,
     "metadata": {},
     "output_type": "execute_result"
    }
   ],
   "source": [
    "Agg_results[['Deforestation attribution, unamortized (ha)', 'Total emissions (MtCO2)', 'Quality Index']].style.format({\n",
    "    'Deforestation attribution, unamortized (ha)': '{:.2f}',\n",
    "    'Total emissions (MtCO2)': '{:.2f}',\n",
    "    'Quality Index': '{:.2f}'\n",
    "})"
   ]
  },
  {
   "cell_type": "code",
   "execution_count": null,
   "id": "64d3c62f-7fa4-4bf6-ab58-808b0ec7a006",
   "metadata": {},
   "outputs": [],
   "source": []
  },
  {
   "cell_type": "code",
   "execution_count": null,
   "id": "ffc1c9d5-8183-495b-b578-29819bd090da",
   "metadata": {},
   "outputs": [],
   "source": []
  },
  {
   "cell_type": "markdown",
   "id": "816de07a-06b3-46f6-9463-9aa0c382f4a3",
   "metadata": {},
   "source": [
    "## S17 (Not Restrcted by FAOSTAT)"
   ]
  },
  {
   "cell_type": "code",
   "execution_count": 145,
   "id": "6be5d698-3447-4fcd-bffa-6fb96f3a2403",
   "metadata": {},
   "outputs": [],
   "source": [
    "Sensitivity = 'Sensitivity analyses/S17 (All land-use not restricted)'\n",
    "S17 = pd.read_excel(f'{home_folder}{Simulation_version}/{Sensitivity}/Generated_results/DeDuCE_Deforestation_attribution_v{Dataset_version}.{GEE_data_version}.{Python_script_version} {Year}.xlsx')"
   ]
  },
  {
   "cell_type": "code",
   "execution_count": 146,
   "id": "6cdcefc4-5b5d-4a64-9bce-c91609b75354",
   "metadata": {},
   "outputs": [],
   "source": [
    "S17['Group'] = 1\n",
    "Agg_results = S17.groupby(['Group']).apply(\n",
    "                lambda group: pd.Series({\n",
    "                    'Deforestation attribution, unamortized (ha)': group['Deforestation attribution, unamortized (ha)'].sum(),\n",
    "                    'Deforestation emissions excl. peat drainage, unamortized (MtCO2)': group['Deforestation emissions excl. peat drainage, unamortized (MtCO2)'].sum(),\n",
    "                    'Peatland drainage emissions (MtCO2)': group['Peatland drainage emissions (MtCO2)'].sum(),\n",
    "                    'Quality Index': weighted_mean(group)})\n",
    "                ).reset_index()\n",
    "\n",
    "# Add a new column for the total emissions\n",
    "Agg_results['Total emissions (MtCO2)'] = (\n",
    "    Agg_results['Deforestation emissions excl. peat drainage, unamortized (MtCO2)'] +\n",
    "    Agg_results['Peatland drainage emissions (MtCO2)']\n",
    ")"
   ]
  },
  {
   "cell_type": "code",
   "execution_count": 147,
   "id": "099cfdc4-04f6-4429-a758-7d1f036f3bf5",
   "metadata": {},
   "outputs": [
    {
     "data": {
      "text/html": [
       "<style type=\"text/css\">\n",
       "</style>\n",
       "<table id=\"T_42da8\">\n",
       "  <thead>\n",
       "    <tr>\n",
       "      <th class=\"blank level0\" >&nbsp;</th>\n",
       "      <th id=\"T_42da8_level0_col0\" class=\"col_heading level0 col0\" >Deforestation attribution, unamortized (ha)</th>\n",
       "      <th id=\"T_42da8_level0_col1\" class=\"col_heading level0 col1\" >Total emissions (MtCO2)</th>\n",
       "      <th id=\"T_42da8_level0_col2\" class=\"col_heading level0 col2\" >Quality Index</th>\n",
       "    </tr>\n",
       "  </thead>\n",
       "  <tbody>\n",
       "    <tr>\n",
       "      <th id=\"T_42da8_level0_row0\" class=\"row_heading level0 row0\" >0</th>\n",
       "      <td id=\"T_42da8_row0_col0\" class=\"data row0 col0\" >147103233.33</td>\n",
       "      <td id=\"T_42da8_row0_col1\" class=\"data row0 col1\" >56508.02</td>\n",
       "      <td id=\"T_42da8_row0_col2\" class=\"data row0 col2\" >0.45</td>\n",
       "    </tr>\n",
       "  </tbody>\n",
       "</table>\n"
      ],
      "text/plain": [
       "<pandas.io.formats.style.Styler at 0x7f0ca31742b0>"
      ]
     },
     "execution_count": 147,
     "metadata": {},
     "output_type": "execute_result"
    }
   ],
   "source": [
    "Agg_results[['Deforestation attribution, unamortized (ha)', 'Total emissions (MtCO2)', 'Quality Index']].style.format({\n",
    "    'Deforestation attribution, unamortized (ha)': '{:.2f}',\n",
    "    'Total emissions (MtCO2)': '{:.2f}',\n",
    "    'Quality Index': '{:.2f}'\n",
    "})"
   ]
  },
  {
   "cell_type": "code",
   "execution_count": null,
   "id": "d4d82168-f603-423e-827b-b54f6b63a481",
   "metadata": {},
   "outputs": [],
   "source": []
  },
  {
   "cell_type": "markdown",
   "id": "8fe1250e-70ff-4771-81dd-149a35c21bcf",
   "metadata": {},
   "source": [
    "## S18 (Multi-cropping)"
   ]
  },
  {
   "cell_type": "code",
   "execution_count": 148,
   "id": "b9a5d2c0-1e2a-4fbe-ad6e-857d4a128aea",
   "metadata": {},
   "outputs": [],
   "source": [
    "Sensitivity = 'Sensitivity analyses/S18 (Brazil multi-cropping)'\n",
    "S18 = pd.read_excel(f'{home_folder}{Simulation_version}/{Sensitivity}/Generated_results/DeDuCE_Deforestation_attribution_v{Dataset_version}.{GEE_data_version}.{Python_script_version} {Year}.xlsx')"
   ]
  },
  {
   "cell_type": "code",
   "execution_count": 152,
   "id": "9adcb89c-f8e0-40bd-b640-23808eb55c5a",
   "metadata": {},
   "outputs": [],
   "source": [
    "S18['Group'] = 1\n",
    "Agg_results = S18.loc[S18['Commodity'] == 'Maize (corn)'].groupby(['Group']).apply(\n",
    "                lambda group: pd.Series({\n",
    "                    'Deforestation attribution, unamortized (ha)': group['Deforestation attribution, unamortized (ha)'].sum(),\n",
    "                    'Deforestation emissions excl. peat drainage, unamortized (MtCO2)': group['Deforestation emissions excl. peat drainage, unamortized (MtCO2)'].sum(),\n",
    "                    'Peatland drainage emissions (MtCO2)': group['Peatland drainage emissions (MtCO2)'].sum(),\n",
    "                    'Quality Index': weighted_mean(group)})\n",
    "                ).reset_index()\n",
    "\n",
    "# Add a new column for the total emissions\n",
    "Agg_results['Total emissions (MtCO2)'] = (\n",
    "    Agg_results['Deforestation emissions excl. peat drainage, unamortized (MtCO2)'] +\n",
    "    Agg_results['Peatland drainage emissions (MtCO2)']\n",
    ")"
   ]
  },
  {
   "cell_type": "code",
   "execution_count": 153,
   "id": "954b6e7a-c57d-40a2-8623-d42a3e3b6703",
   "metadata": {},
   "outputs": [
    {
     "data": {
      "text/html": [
       "<style type=\"text/css\">\n",
       "</style>\n",
       "<table id=\"T_12d2f\">\n",
       "  <thead>\n",
       "    <tr>\n",
       "      <th class=\"blank level0\" >&nbsp;</th>\n",
       "      <th id=\"T_12d2f_level0_col0\" class=\"col_heading level0 col0\" >Deforestation attribution, unamortized (ha)</th>\n",
       "      <th id=\"T_12d2f_level0_col1\" class=\"col_heading level0 col1\" >Total emissions (MtCO2)</th>\n",
       "      <th id=\"T_12d2f_level0_col2\" class=\"col_heading level0 col2\" >Quality Index</th>\n",
       "    </tr>\n",
       "  </thead>\n",
       "  <tbody>\n",
       "    <tr>\n",
       "      <th id=\"T_12d2f_level0_row0\" class=\"row_heading level0 row0\" >0</th>\n",
       "      <td id=\"T_12d2f_row0_col0\" class=\"data row0 col0\" >724623.86</td>\n",
       "      <td id=\"T_12d2f_row0_col1\" class=\"data row0 col1\" >207.44</td>\n",
       "      <td id=\"T_12d2f_row0_col2\" class=\"data row0 col2\" >0.42</td>\n",
       "    </tr>\n",
       "  </tbody>\n",
       "</table>\n"
      ],
      "text/plain": [
       "<pandas.io.formats.style.Styler at 0x7f0ca6800250>"
      ]
     },
     "execution_count": 153,
     "metadata": {},
     "output_type": "execute_result"
    }
   ],
   "source": [
    "Agg_results[['Deforestation attribution, unamortized (ha)', 'Total emissions (MtCO2)', 'Quality Index']].style.format({\n",
    "    'Deforestation attribution, unamortized (ha)': '{:.2f}',\n",
    "    'Total emissions (MtCO2)': '{:.2f}',\n",
    "    'Quality Index': '{:.2f}'\n",
    "})"
   ]
  },
  {
   "cell_type": "code",
   "execution_count": 164,
   "id": "4f794c0a-e8da-4156-966e-7dc72769b352",
   "metadata": {},
   "outputs": [],
   "source": [
    "Agg_results = S18.loc[S18['Commodity'] == 'Beans, dry'].groupby(['Group']).apply(\n",
    "                lambda group: pd.Series({\n",
    "                    'Deforestation attribution, unamortized (ha)': group['Deforestation attribution, unamortized (ha)'].sum(),\n",
    "                    'Deforestation emissions excl. peat drainage, unamortized (MtCO2)': group['Deforestation emissions excl. peat drainage, unamortized (MtCO2)'].sum(),\n",
    "                    'Peatland drainage emissions (MtCO2)': group['Peatland drainage emissions (MtCO2)'].sum(),\n",
    "                    'Quality Index': weighted_mean(group)})\n",
    "                ).reset_index()\n",
    "\n",
    "# Add a new column for the total emissions\n",
    "Agg_results['Total emissions (MtCO2)'] = (\n",
    "    Agg_results['Deforestation emissions excl. peat drainage, unamortized (MtCO2)'] +\n",
    "    Agg_results['Peatland drainage emissions (MtCO2)']\n",
    ")"
   ]
  },
  {
   "cell_type": "code",
   "execution_count": 165,
   "id": "16c42da2-35aa-48cb-888f-751fba4ee01b",
   "metadata": {},
   "outputs": [
    {
     "data": {
      "text/html": [
       "<style type=\"text/css\">\n",
       "</style>\n",
       "<table id=\"T_70c45\">\n",
       "  <thead>\n",
       "    <tr>\n",
       "      <th class=\"blank level0\" >&nbsp;</th>\n",
       "      <th id=\"T_70c45_level0_col0\" class=\"col_heading level0 col0\" >Deforestation attribution, unamortized (ha)</th>\n",
       "      <th id=\"T_70c45_level0_col1\" class=\"col_heading level0 col1\" >Total emissions (MtCO2)</th>\n",
       "      <th id=\"T_70c45_level0_col2\" class=\"col_heading level0 col2\" >Quality Index</th>\n",
       "    </tr>\n",
       "  </thead>\n",
       "  <tbody>\n",
       "    <tr>\n",
       "      <th id=\"T_70c45_level0_row0\" class=\"row_heading level0 row0\" >0</th>\n",
       "      <td id=\"T_70c45_row0_col0\" class=\"data row0 col0\" >239454.86</td>\n",
       "      <td id=\"T_70c45_row0_col1\" class=\"data row0 col1\" >67.23</td>\n",
       "      <td id=\"T_70c45_row0_col2\" class=\"data row0 col2\" >0.45</td>\n",
       "    </tr>\n",
       "  </tbody>\n",
       "</table>\n"
      ],
      "text/plain": [
       "<pandas.io.formats.style.Styler at 0x7f0ca052ebc0>"
      ]
     },
     "execution_count": 165,
     "metadata": {},
     "output_type": "execute_result"
    }
   ],
   "source": [
    "Agg_results[['Deforestation attribution, unamortized (ha)', 'Total emissions (MtCO2)', 'Quality Index']].style.format({\n",
    "    'Deforestation attribution, unamortized (ha)': '{:.2f}',\n",
    "    'Total emissions (MtCO2)': '{:.2f}',\n",
    "    'Quality Index': '{:.2f}'\n",
    "})"
   ]
  },
  {
   "cell_type": "code",
   "execution_count": 170,
   "id": "8c927668-d501-48b9-967b-889e3bab9ecc",
   "metadata": {},
   "outputs": [],
   "source": [
    "Agg_results = S18.loc[S18['Commodity'] == 'Potatoes'].groupby(['Group']).apply(\n",
    "                lambda group: pd.Series({\n",
    "                    'Deforestation attribution, unamortized (ha)': group['Deforestation attribution, unamortized (ha)'].sum(),\n",
    "                    'Deforestation emissions excl. peat drainage, unamortized (MtCO2)': group['Deforestation emissions excl. peat drainage, unamortized (MtCO2)'].sum(),\n",
    "                    'Peatland drainage emissions (MtCO2)': group['Peatland drainage emissions (MtCO2)'].sum(),\n",
    "                    'Quality Index': weighted_mean(group)})\n",
    "                ).reset_index()\n",
    "\n",
    "# Add a new column for the total emissions\n",
    "Agg_results['Total emissions (MtCO2)'] = (\n",
    "    Agg_results['Deforestation emissions excl. peat drainage, unamortized (MtCO2)'] +\n",
    "    Agg_results['Peatland drainage emissions (MtCO2)']\n",
    ")"
   ]
  },
  {
   "cell_type": "code",
   "execution_count": 171,
   "id": "de4a89d8-c973-4af1-ad82-b0c7ceded0d4",
   "metadata": {},
   "outputs": [
    {
     "data": {
      "text/html": [
       "<style type=\"text/css\">\n",
       "</style>\n",
       "<table id=\"T_ff044\">\n",
       "  <thead>\n",
       "    <tr>\n",
       "      <th class=\"blank level0\" >&nbsp;</th>\n",
       "      <th id=\"T_ff044_level0_col0\" class=\"col_heading level0 col0\" >Deforestation attribution, unamortized (ha)</th>\n",
       "      <th id=\"T_ff044_level0_col1\" class=\"col_heading level0 col1\" >Total emissions (MtCO2)</th>\n",
       "      <th id=\"T_ff044_level0_col2\" class=\"col_heading level0 col2\" >Quality Index</th>\n",
       "    </tr>\n",
       "  </thead>\n",
       "  <tbody>\n",
       "    <tr>\n",
       "      <th id=\"T_ff044_level0_row0\" class=\"row_heading level0 row0\" >0</th>\n",
       "      <td id=\"T_ff044_row0_col0\" class=\"data row0 col0\" >8533.94</td>\n",
       "      <td id=\"T_ff044_row0_col1\" class=\"data row0 col1\" >3.17</td>\n",
       "      <td id=\"T_ff044_row0_col2\" class=\"data row0 col2\" >0.48</td>\n",
       "    </tr>\n",
       "  </tbody>\n",
       "</table>\n"
      ],
      "text/plain": [
       "<pandas.io.formats.style.Styler at 0x7f0ca052f280>"
      ]
     },
     "execution_count": 171,
     "metadata": {},
     "output_type": "execute_result"
    }
   ],
   "source": [
    "Agg_results[['Deforestation attribution, unamortized (ha)', 'Total emissions (MtCO2)', 'Quality Index']].style.format({\n",
    "    'Deforestation attribution, unamortized (ha)': '{:.2f}',\n",
    "    'Total emissions (MtCO2)': '{:.2f}',\n",
    "    'Quality Index': '{:.2f}'\n",
    "})"
   ]
  },
  {
   "cell_type": "code",
   "execution_count": 172,
   "id": "897bda2b-d20a-4dfe-9823-15928cebceb5",
   "metadata": {},
   "outputs": [],
   "source": [
    "Agg_results = S18.loc[S18['Commodity'] == 'Groundnuts, excluding shelled'].groupby(['Group']).apply(\n",
    "                lambda group: pd.Series({\n",
    "                    'Deforestation attribution, unamortized (ha)': group['Deforestation attribution, unamortized (ha)'].sum(),\n",
    "                    'Deforestation emissions excl. peat drainage, unamortized (MtCO2)': group['Deforestation emissions excl. peat drainage, unamortized (MtCO2)'].sum(),\n",
    "                    'Peatland drainage emissions (MtCO2)': group['Peatland drainage emissions (MtCO2)'].sum(),\n",
    "                    'Quality Index': weighted_mean(group)})\n",
    "                ).reset_index()\n",
    "\n",
    "# Add a new column for the total emissions\n",
    "Agg_results['Total emissions (MtCO2)'] = (\n",
    "    Agg_results['Deforestation emissions excl. peat drainage, unamortized (MtCO2)'] +\n",
    "    Agg_results['Peatland drainage emissions (MtCO2)']\n",
    ")"
   ]
  },
  {
   "cell_type": "code",
   "execution_count": 173,
   "id": "3135d526-94c9-4c3e-9e43-62eedb125e45",
   "metadata": {},
   "outputs": [
    {
     "data": {
      "text/html": [
       "<style type=\"text/css\">\n",
       "</style>\n",
       "<table id=\"T_ccdea\">\n",
       "  <thead>\n",
       "    <tr>\n",
       "      <th class=\"blank level0\" >&nbsp;</th>\n",
       "      <th id=\"T_ccdea_level0_col0\" class=\"col_heading level0 col0\" >Deforestation attribution, unamortized (ha)</th>\n",
       "      <th id=\"T_ccdea_level0_col1\" class=\"col_heading level0 col1\" >Total emissions (MtCO2)</th>\n",
       "      <th id=\"T_ccdea_level0_col2\" class=\"col_heading level0 col2\" >Quality Index</th>\n",
       "    </tr>\n",
       "  </thead>\n",
       "  <tbody>\n",
       "    <tr>\n",
       "      <th id=\"T_ccdea_level0_row0\" class=\"row_heading level0 row0\" >0</th>\n",
       "      <td id=\"T_ccdea_row0_col0\" class=\"data row0 col0\" >7730.33</td>\n",
       "      <td id=\"T_ccdea_row0_col1\" class=\"data row0 col1\" >2.48</td>\n",
       "      <td id=\"T_ccdea_row0_col2\" class=\"data row0 col2\" >0.47</td>\n",
       "    </tr>\n",
       "  </tbody>\n",
       "</table>\n"
      ],
      "text/plain": [
       "<pandas.io.formats.style.Styler at 0x7f0ca051d780>"
      ]
     },
     "execution_count": 173,
     "metadata": {},
     "output_type": "execute_result"
    }
   ],
   "source": [
    "Agg_results[['Deforestation attribution, unamortized (ha)', 'Total emissions (MtCO2)', 'Quality Index']].style.format({\n",
    "    'Deforestation attribution, unamortized (ha)': '{:.2f}',\n",
    "    'Total emissions (MtCO2)': '{:.2f}',\n",
    "    'Quality Index': '{:.2f}'\n",
    "})"
   ]
  },
  {
   "cell_type": "code",
   "execution_count": null,
   "id": "4b585343-39dd-44d2-8c91-8a36561d82ee",
   "metadata": {},
   "outputs": [],
   "source": []
  },
  {
   "cell_type": "code",
   "execution_count": null,
   "id": "6294ebb1-fae7-4dab-8536-0eea78f16109",
   "metadata": {},
   "outputs": [],
   "source": []
  },
  {
   "cell_type": "code",
   "execution_count": 158,
   "id": "b66ac61e-a878-4546-9d52-3be7cec221b9",
   "metadata": {},
   "outputs": [],
   "source": [
    "Agg_results = Reference.loc[(Reference['Producer country'] == 'Brazil') & (Reference['Commodity'] == 'Maize (corn)')].groupby(['Group']).apply(\n",
    "                lambda group: pd.Series({\n",
    "                    'Deforestation attribution, unamortized (ha)': group['Deforestation attribution, unamortized (ha)'].sum(),\n",
    "                    'Deforestation emissions excl. peat drainage, unamortized (MtCO2)': group['Deforestation emissions excl. peat drainage, unamortized (MtCO2)'].sum(),\n",
    "                    'Peatland drainage emissions (MtCO2)': group['Peatland drainage emissions (MtCO2)'].sum(),\n",
    "                    'Quality Index': weighted_mean(group)})\n",
    "                ).reset_index()\n",
    "\n",
    "# Add a new column for the total emissions\n",
    "Agg_results['Total emissions (MtCO2)'] = (\n",
    "    Agg_results['Deforestation emissions excl. peat drainage, unamortized (MtCO2)'] +\n",
    "    Agg_results['Peatland drainage emissions (MtCO2)']\n",
    ")"
   ]
  },
  {
   "cell_type": "code",
   "execution_count": 159,
   "id": "78b8ba04-f466-495b-b9b0-3cf5bdea050e",
   "metadata": {},
   "outputs": [
    {
     "data": {
      "text/html": [
       "<style type=\"text/css\">\n",
       "</style>\n",
       "<table id=\"T_045da\">\n",
       "  <thead>\n",
       "    <tr>\n",
       "      <th class=\"blank level0\" >&nbsp;</th>\n",
       "      <th id=\"T_045da_level0_col0\" class=\"col_heading level0 col0\" >Deforestation attribution, unamortized (ha)</th>\n",
       "      <th id=\"T_045da_level0_col1\" class=\"col_heading level0 col1\" >Total emissions (MtCO2)</th>\n",
       "      <th id=\"T_045da_level0_col2\" class=\"col_heading level0 col2\" >Quality Index</th>\n",
       "    </tr>\n",
       "  </thead>\n",
       "  <tbody>\n",
       "    <tr>\n",
       "      <th id=\"T_045da_level0_row0\" class=\"row_heading level0 row0\" >0</th>\n",
       "      <td id=\"T_045da_row0_col0\" class=\"data row0 col0\" >535247.50</td>\n",
       "      <td id=\"T_045da_row0_col1\" class=\"data row0 col1\" >152.72</td>\n",
       "      <td id=\"T_045da_row0_col2\" class=\"data row0 col2\" >0.43</td>\n",
       "    </tr>\n",
       "  </tbody>\n",
       "</table>\n"
      ],
      "text/plain": [
       "<pandas.io.formats.style.Styler at 0x7f0ca051ead0>"
      ]
     },
     "execution_count": 159,
     "metadata": {},
     "output_type": "execute_result"
    }
   ],
   "source": [
    "Agg_results[['Deforestation attribution, unamortized (ha)', 'Total emissions (MtCO2)', 'Quality Index']].style.format({\n",
    "    'Deforestation attribution, unamortized (ha)': '{:.2f}',\n",
    "    'Total emissions (MtCO2)': '{:.2f}',\n",
    "    'Quality Index': '{:.2f}'\n",
    "})"
   ]
  },
  {
   "cell_type": "code",
   "execution_count": 160,
   "id": "a7338ea1-7a90-4daa-96ba-d7ed86d91049",
   "metadata": {},
   "outputs": [],
   "source": [
    "Agg_results = Reference.loc[(Reference['Producer country'] == 'Brazil') & (Reference['Commodity'] == 'Beans, dry')].groupby(['Group']).apply(\n",
    "                lambda group: pd.Series({\n",
    "                    'Deforestation attribution, unamortized (ha)': group['Deforestation attribution, unamortized (ha)'].sum(),\n",
    "                    'Deforestation emissions excl. peat drainage, unamortized (MtCO2)': group['Deforestation emissions excl. peat drainage, unamortized (MtCO2)'].sum(),\n",
    "                    'Peatland drainage emissions (MtCO2)': group['Peatland drainage emissions (MtCO2)'].sum(),\n",
    "                    'Quality Index': weighted_mean(group)})\n",
    "                ).reset_index()\n",
    "\n",
    "# Add a new column for the total emissions\n",
    "Agg_results['Total emissions (MtCO2)'] = (\n",
    "    Agg_results['Deforestation emissions excl. peat drainage, unamortized (MtCO2)'] +\n",
    "    Agg_results['Peatland drainage emissions (MtCO2)']\n",
    ")"
   ]
  },
  {
   "cell_type": "code",
   "execution_count": 161,
   "id": "9f2527a1-46c2-4dee-9eb5-bb736f80765d",
   "metadata": {},
   "outputs": [
    {
     "data": {
      "text/html": [
       "<style type=\"text/css\">\n",
       "</style>\n",
       "<table id=\"T_41954\">\n",
       "  <thead>\n",
       "    <tr>\n",
       "      <th class=\"blank level0\" >&nbsp;</th>\n",
       "      <th id=\"T_41954_level0_col0\" class=\"col_heading level0 col0\" >Deforestation attribution, unamortized (ha)</th>\n",
       "      <th id=\"T_41954_level0_col1\" class=\"col_heading level0 col1\" >Total emissions (MtCO2)</th>\n",
       "      <th id=\"T_41954_level0_col2\" class=\"col_heading level0 col2\" >Quality Index</th>\n",
       "    </tr>\n",
       "  </thead>\n",
       "  <tbody>\n",
       "    <tr>\n",
       "      <th id=\"T_41954_level0_row0\" class=\"row_heading level0 row0\" >0</th>\n",
       "      <td id=\"T_41954_row0_col0\" class=\"data row0 col0\" >200273.84</td>\n",
       "      <td id=\"T_41954_row0_col1\" class=\"data row0 col1\" >52.07</td>\n",
       "      <td id=\"T_41954_row0_col2\" class=\"data row0 col2\" >0.45</td>\n",
       "    </tr>\n",
       "  </tbody>\n",
       "</table>\n"
      ],
      "text/plain": [
       "<pandas.io.formats.style.Styler at 0x7f0ca051c760>"
      ]
     },
     "execution_count": 161,
     "metadata": {},
     "output_type": "execute_result"
    }
   ],
   "source": [
    "Agg_results[['Deforestation attribution, unamortized (ha)', 'Total emissions (MtCO2)', 'Quality Index']].style.format({\n",
    "    'Deforestation attribution, unamortized (ha)': '{:.2f}',\n",
    "    'Total emissions (MtCO2)': '{:.2f}',\n",
    "    'Quality Index': '{:.2f}'\n",
    "})"
   ]
  },
  {
   "cell_type": "code",
   "execution_count": 166,
   "id": "fba00186-322b-484d-ab88-b32c680ca8d5",
   "metadata": {},
   "outputs": [],
   "source": [
    "Agg_results = Reference.loc[(Reference['Producer country'] == 'Brazil') & (Reference['Commodity'] == 'Potatoes')].groupby(['Group']).apply(\n",
    "                lambda group: pd.Series({\n",
    "                    'Deforestation attribution, unamortized (ha)': group['Deforestation attribution, unamortized (ha)'].sum(),\n",
    "                    'Deforestation emissions excl. peat drainage, unamortized (MtCO2)': group['Deforestation emissions excl. peat drainage, unamortized (MtCO2)'].sum(),\n",
    "                    'Peatland drainage emissions (MtCO2)': group['Peatland drainage emissions (MtCO2)'].sum(),\n",
    "                    'Quality Index': weighted_mean(group)})\n",
    "                ).reset_index()\n",
    "\n",
    "# Add a new column for the total emissions\n",
    "Agg_results['Total emissions (MtCO2)'] = (\n",
    "    Agg_results['Deforestation emissions excl. peat drainage, unamortized (MtCO2)'] +\n",
    "    Agg_results['Peatland drainage emissions (MtCO2)']\n",
    ")"
   ]
  },
  {
   "cell_type": "code",
   "execution_count": 167,
   "id": "290a920b-3965-463d-a6ec-da40e8380e49",
   "metadata": {},
   "outputs": [
    {
     "data": {
      "text/html": [
       "<style type=\"text/css\">\n",
       "</style>\n",
       "<table id=\"T_43842\">\n",
       "  <thead>\n",
       "    <tr>\n",
       "      <th class=\"blank level0\" >&nbsp;</th>\n",
       "      <th id=\"T_43842_level0_col0\" class=\"col_heading level0 col0\" >Deforestation attribution, unamortized (ha)</th>\n",
       "      <th id=\"T_43842_level0_col1\" class=\"col_heading level0 col1\" >Total emissions (MtCO2)</th>\n",
       "      <th id=\"T_43842_level0_col2\" class=\"col_heading level0 col2\" >Quality Index</th>\n",
       "    </tr>\n",
       "  </thead>\n",
       "  <tbody>\n",
       "    <tr>\n",
       "      <th id=\"T_43842_level0_row0\" class=\"row_heading level0 row0\" >0</th>\n",
       "      <td id=\"T_43842_row0_col0\" class=\"data row0 col0\" >5780.78</td>\n",
       "      <td id=\"T_43842_row0_col1\" class=\"data row0 col1\" >2.27</td>\n",
       "      <td id=\"T_43842_row0_col2\" class=\"data row0 col2\" >0.48</td>\n",
       "    </tr>\n",
       "  </tbody>\n",
       "</table>\n"
      ],
      "text/plain": [
       "<pandas.io.formats.style.Styler at 0x7f0ca051c2b0>"
      ]
     },
     "execution_count": 167,
     "metadata": {},
     "output_type": "execute_result"
    }
   ],
   "source": [
    "Agg_results[['Deforestation attribution, unamortized (ha)', 'Total emissions (MtCO2)', 'Quality Index']].style.format({\n",
    "    'Deforestation attribution, unamortized (ha)': '{:.2f}',\n",
    "    'Total emissions (MtCO2)': '{:.2f}',\n",
    "    'Quality Index': '{:.2f}'\n",
    "})"
   ]
  },
  {
   "cell_type": "code",
   "execution_count": 168,
   "id": "0095615e-a63c-426c-972c-c56bf2125a43",
   "metadata": {},
   "outputs": [],
   "source": [
    "Agg_results = Reference.loc[(Reference['Producer country'] == 'Brazil') & (Reference['Commodity'] == 'Groundnuts, excluding shelled')].groupby(['Group']).apply(\n",
    "                lambda group: pd.Series({\n",
    "                    'Deforestation attribution, unamortized (ha)': group['Deforestation attribution, unamortized (ha)'].sum(),\n",
    "                    'Deforestation emissions excl. peat drainage, unamortized (MtCO2)': group['Deforestation emissions excl. peat drainage, unamortized (MtCO2)'].sum(),\n",
    "                    'Peatland drainage emissions (MtCO2)': group['Peatland drainage emissions (MtCO2)'].sum(),\n",
    "                    'Quality Index': weighted_mean(group)})\n",
    "                ).reset_index()\n",
    "\n",
    "# Add a new column for the total emissions\n",
    "Agg_results['Total emissions (MtCO2)'] = (\n",
    "    Agg_results['Deforestation emissions excl. peat drainage, unamortized (MtCO2)'] +\n",
    "    Agg_results['Peatland drainage emissions (MtCO2)']\n",
    ")"
   ]
  },
  {
   "cell_type": "code",
   "execution_count": 169,
   "id": "016d89e8-68bd-441f-88f0-53f8d3802d64",
   "metadata": {},
   "outputs": [
    {
     "data": {
      "text/html": [
       "<style type=\"text/css\">\n",
       "</style>\n",
       "<table id=\"T_ab9a1\">\n",
       "  <thead>\n",
       "    <tr>\n",
       "      <th class=\"blank level0\" >&nbsp;</th>\n",
       "      <th id=\"T_ab9a1_level0_col0\" class=\"col_heading level0 col0\" >Deforestation attribution, unamortized (ha)</th>\n",
       "      <th id=\"T_ab9a1_level0_col1\" class=\"col_heading level0 col1\" >Total emissions (MtCO2)</th>\n",
       "      <th id=\"T_ab9a1_level0_col2\" class=\"col_heading level0 col2\" >Quality Index</th>\n",
       "    </tr>\n",
       "  </thead>\n",
       "  <tbody>\n",
       "    <tr>\n",
       "      <th id=\"T_ab9a1_level0_row0\" class=\"row_heading level0 row0\" >0</th>\n",
       "      <td id=\"T_ab9a1_row0_col0\" class=\"data row0 col0\" >8323.49</td>\n",
       "      <td id=\"T_ab9a1_row0_col1\" class=\"data row0 col1\" >2.73</td>\n",
       "      <td id=\"T_ab9a1_row0_col2\" class=\"data row0 col2\" >0.45</td>\n",
       "    </tr>\n",
       "  </tbody>\n",
       "</table>\n"
      ],
      "text/plain": [
       "<pandas.io.formats.style.Styler at 0x7f0ca052fac0>"
      ]
     },
     "execution_count": 169,
     "metadata": {},
     "output_type": "execute_result"
    }
   ],
   "source": [
    "Agg_results[['Deforestation attribution, unamortized (ha)', 'Total emissions (MtCO2)', 'Quality Index']].style.format({\n",
    "    'Deforestation attribution, unamortized (ha)': '{:.2f}',\n",
    "    'Total emissions (MtCO2)': '{:.2f}',\n",
    "    'Quality Index': '{:.2f}'\n",
    "})"
   ]
  },
  {
   "cell_type": "code",
   "execution_count": null,
   "id": "53ce1c63-c6fa-417b-8421-fd89d491bdde",
   "metadata": {},
   "outputs": [],
   "source": []
  },
  {
   "cell_type": "code",
   "execution_count": null,
   "id": "478c7b1d-b5fc-4c6a-b2f7-e4163f3b09c2",
   "metadata": {},
   "outputs": [],
   "source": []
  },
  {
   "cell_type": "markdown",
   "id": "7805d9f2-4c75-4987-92c5-05ed2ff6a54e",
   "metadata": {},
   "source": [
    "## S19 (Amortised period)-10 years"
   ]
  },
  {
   "cell_type": "code",
   "execution_count": 104,
   "id": "8af320dd-ecf7-49db-ae8c-d70d6eea4854",
   "metadata": {},
   "outputs": [
    {
     "data": {
      "text/plain": [
       "Deforestation attribution, unamortized (ha)                         5611693.464811\n",
       "Deforestation emissions excl. peat drainage, unamortized (MtCO2)        1851.08677\n",
       "dtype: object"
      ]
     },
     "execution_count": 104,
     "metadata": {},
     "output_type": "execute_result"
    }
   ],
   "source": [
    "Reference.loc[(Reference.Year >=2011) & (Reference.Year <=2020)].sum()[['Deforestation attribution, unamortized (ha)', 'Deforestation emissions excl. peat drainage, unamortized (MtCO2)']]/10"
   ]
  },
  {
   "cell_type": "code",
   "execution_count": 105,
   "id": "5843628d-164b-4845-9e91-089c313b0607",
   "metadata": {},
   "outputs": [
    {
     "data": {
      "text/plain": [
       "238.08209237166633"
      ]
     },
     "execution_count": 105,
     "metadata": {},
     "output_type": "execute_result"
    }
   ],
   "source": [
    "Reference.loc[(Reference.Year ==2020)].sum()['Peatland drainage emissions (MtCO2)']"
   ]
  },
  {
   "cell_type": "code",
   "execution_count": 106,
   "id": "07d9a7d1-1e33-4e13-af04-c3c15749ca64",
   "metadata": {},
   "outputs": [
    {
     "data": {
      "text/plain": [
       "2089.168862"
      ]
     },
     "execution_count": 106,
     "metadata": {},
     "output_type": "execute_result"
    }
   ],
   "source": [
    "1851.08677+238.082092"
   ]
  },
  {
   "cell_type": "markdown",
   "id": "e3d8c49b-b9c2-484c-847f-14285202020f",
   "metadata": {},
   "source": [
    "## S20 (Amortised period)-15 years"
   ]
  },
  {
   "cell_type": "code",
   "execution_count": 107,
   "id": "f224f69f-7d4b-46b6-908a-9031d8cc9e13",
   "metadata": {},
   "outputs": [
    {
     "data": {
      "text/plain": [
       "Deforestation attribution, unamortized (ha)                         5739464.053993\n",
       "Deforestation emissions excl. peat drainage, unamortized (MtCO2)       1922.303493\n",
       "dtype: object"
      ]
     },
     "execution_count": 107,
     "metadata": {},
     "output_type": "execute_result"
    }
   ],
   "source": [
    "Reference.loc[(Reference.Year >=2006) & (Reference.Year <=2020)].sum()[['Deforestation attribution, unamortized (ha)', 'Deforestation emissions excl. peat drainage, unamortized (MtCO2)']]/15"
   ]
  },
  {
   "cell_type": "code",
   "execution_count": 108,
   "id": "84e0bfd4-2abd-4ba3-99c6-efb153ec1dea",
   "metadata": {},
   "outputs": [
    {
     "data": {
      "text/plain": [
       "238.08209237166633"
      ]
     },
     "execution_count": 108,
     "metadata": {},
     "output_type": "execute_result"
    }
   ],
   "source": [
    "Reference.loc[(Reference.Year ==2020)].sum()['Peatland drainage emissions (MtCO2)']"
   ]
  },
  {
   "cell_type": "code",
   "execution_count": 109,
   "id": "b83f1ad4-9e1a-4c26-b671-a8841bc91f08",
   "metadata": {},
   "outputs": [
    {
     "data": {
      "text/plain": [
       "2160.385585"
      ]
     },
     "execution_count": 109,
     "metadata": {},
     "output_type": "execute_result"
    }
   ],
   "source": [
    "1922.303493+238.082092"
   ]
  },
  {
   "cell_type": "markdown",
   "id": "14ccfe1b-9e07-4a18-9955-27243e443a3e",
   "metadata": {},
   "source": [
    "## S21 (Amortised period)-20 years"
   ]
  },
  {
   "cell_type": "code",
   "execution_count": 110,
   "id": "bd315d71-5d06-4797-aa3a-ac9a44f12636",
   "metadata": {},
   "outputs": [
    {
     "data": {
      "text/plain": [
       "Deforestation attribution, unamortized (ha)                         5625950.32943\n",
       "Deforestation emissions excl. peat drainage, unamortized (MtCO2)      1896.132004\n",
       "dtype: object"
      ]
     },
     "execution_count": 110,
     "metadata": {},
     "output_type": "execute_result"
    }
   ],
   "source": [
    "Reference.loc[(Reference.Year >=2001) & (Reference.Year <=2020)].sum()[['Deforestation attribution, unamortized (ha)', 'Deforestation emissions excl. peat drainage, unamortized (MtCO2)']]/20"
   ]
  },
  {
   "cell_type": "code",
   "execution_count": 111,
   "id": "bfd1ff91-b31c-41bb-8bba-40b99662d1ee",
   "metadata": {},
   "outputs": [
    {
     "data": {
      "text/plain": [
       "238.08209237166633"
      ]
     },
     "execution_count": 111,
     "metadata": {},
     "output_type": "execute_result"
    }
   ],
   "source": [
    "Reference.loc[(Reference.Year ==2020)].sum()['Peatland drainage emissions (MtCO2)']"
   ]
  },
  {
   "cell_type": "code",
   "execution_count": 112,
   "id": "5c17dbc5-3fd2-4356-bf71-d0273d3ba4a1",
   "metadata": {},
   "outputs": [
    {
     "data": {
      "text/plain": [
       "2134.214096"
      ]
     },
     "execution_count": 112,
     "metadata": {},
     "output_type": "execute_result"
    }
   ],
   "source": [
    "1896.132004+238.082092"
   ]
  },
  {
   "cell_type": "code",
   "execution_count": null,
   "id": "13f64d8d-269a-4167-b5a6-c2f2fe5246fd",
   "metadata": {},
   "outputs": [],
   "source": []
  },
  {
   "cell_type": "code",
   "execution_count": 182,
   "id": "cb496bf1-90e5-4d42-a66e-9e7359f5ce65",
   "metadata": {},
   "outputs": [
    {
     "name": "stderr",
     "output_type": "stream",
     "text": [
      "/tmp/user/1011/ipykernel_526682/1880093616.py:1: FutureWarning: The default value of numeric_only in DataFrameGroupBy.sum is deprecated. In a future version, numeric_only will default to False. Either specify numeric_only or select only columns which should be valid for the function.\n",
      "  S15.groupby(['ISO']).sum().reset_index()[['ISO', 'Deforestation attribution, unamortized (ha)']]\n"
     ]
    },
    {
     "data": {
      "text/html": [
       "<div>\n",
       "<style scoped>\n",
       "    .dataframe tbody tr th:only-of-type {\n",
       "        vertical-align: middle;\n",
       "    }\n",
       "\n",
       "    .dataframe tbody tr th {\n",
       "        vertical-align: top;\n",
       "    }\n",
       "\n",
       "    .dataframe thead th {\n",
       "        text-align: right;\n",
       "    }\n",
       "</style>\n",
       "<table border=\"1\" class=\"dataframe\">\n",
       "  <thead>\n",
       "    <tr style=\"text-align: right;\">\n",
       "      <th></th>\n",
       "      <th>ISO</th>\n",
       "      <th>Deforestation attribution, unamortized (ha)</th>\n",
       "    </tr>\n",
       "  </thead>\n",
       "  <tbody>\n",
       "    <tr>\n",
       "      <th>0</th>\n",
       "      <td>AFG</td>\n",
       "      <td>3.574831e+02</td>\n",
       "    </tr>\n",
       "    <tr>\n",
       "      <th>1</th>\n",
       "      <td>AGO</td>\n",
       "      <td>9.431546e+05</td>\n",
       "    </tr>\n",
       "    <tr>\n",
       "      <th>2</th>\n",
       "      <td>ALB</td>\n",
       "      <td>1.079993e+04</td>\n",
       "    </tr>\n",
       "    <tr>\n",
       "      <th>3</th>\n",
       "      <td>ARG</td>\n",
       "      <td>3.909524e+06</td>\n",
       "    </tr>\n",
       "    <tr>\n",
       "      <th>4</th>\n",
       "      <td>ARM</td>\n",
       "      <td>7.436638e+02</td>\n",
       "    </tr>\n",
       "    <tr>\n",
       "      <th>...</th>\n",
       "      <td>...</td>\n",
       "      <td>...</td>\n",
       "    </tr>\n",
       "    <tr>\n",
       "      <th>175</th>\n",
       "      <td>VUT</td>\n",
       "      <td>1.322755e+03</td>\n",
       "    </tr>\n",
       "    <tr>\n",
       "      <th>176</th>\n",
       "      <td>YEM</td>\n",
       "      <td>2.246056e-01</td>\n",
       "    </tr>\n",
       "    <tr>\n",
       "      <th>177</th>\n",
       "      <td>ZAF</td>\n",
       "      <td>3.605527e+04</td>\n",
       "    </tr>\n",
       "    <tr>\n",
       "      <th>178</th>\n",
       "      <td>ZMB</td>\n",
       "      <td>5.658150e+05</td>\n",
       "    </tr>\n",
       "    <tr>\n",
       "      <th>179</th>\n",
       "      <td>ZWE</td>\n",
       "      <td>6.407266e+04</td>\n",
       "    </tr>\n",
       "  </tbody>\n",
       "</table>\n",
       "<p>180 rows × 2 columns</p>\n",
       "</div>"
      ],
      "text/plain": [
       "     ISO  Deforestation attribution, unamortized (ha)\n",
       "0    AFG                                 3.574831e+02\n",
       "1    AGO                                 9.431546e+05\n",
       "2    ALB                                 1.079993e+04\n",
       "3    ARG                                 3.909524e+06\n",
       "4    ARM                                 7.436638e+02\n",
       "..   ...                                          ...\n",
       "175  VUT                                 1.322755e+03\n",
       "176  YEM                                 2.246056e-01\n",
       "177  ZAF                                 3.605527e+04\n",
       "178  ZMB                                 5.658150e+05\n",
       "179  ZWE                                 6.407266e+04\n",
       "\n",
       "[180 rows x 2 columns]"
      ]
     },
     "execution_count": 182,
     "metadata": {},
     "output_type": "execute_result"
    }
   ],
   "source": [
    "S15.groupby(['ISO']).sum().reset_index()[['ISO', 'Deforestation attribution, unamortized (ha)']]"
   ]
  },
  {
   "cell_type": "code",
   "execution_count": 183,
   "id": "6646b39f-2f47-4b80-b80d-096466a09e49",
   "metadata": {},
   "outputs": [
    {
     "name": "stderr",
     "output_type": "stream",
     "text": [
      "/tmp/user/1011/ipykernel_526682/4008099204.py:1: FutureWarning: The default value of numeric_only in DataFrameGroupBy.sum is deprecated. In a future version, numeric_only will default to False. Either specify numeric_only or select only columns which should be valid for the function.\n",
      "  Reference.groupby(['ISO']).sum().reset_index()[['ISO', 'Deforestation attribution, unamortized (ha)']]\n"
     ]
    },
    {
     "data": {
      "text/html": [
       "<div>\n",
       "<style scoped>\n",
       "    .dataframe tbody tr th:only-of-type {\n",
       "        vertical-align: middle;\n",
       "    }\n",
       "\n",
       "    .dataframe tbody tr th {\n",
       "        vertical-align: top;\n",
       "    }\n",
       "\n",
       "    .dataframe thead th {\n",
       "        text-align: right;\n",
       "    }\n",
       "</style>\n",
       "<table border=\"1\" class=\"dataframe\">\n",
       "  <thead>\n",
       "    <tr style=\"text-align: right;\">\n",
       "      <th></th>\n",
       "      <th>ISO</th>\n",
       "      <th>Deforestation attribution, unamortized (ha)</th>\n",
       "    </tr>\n",
       "  </thead>\n",
       "  <tbody>\n",
       "    <tr>\n",
       "      <th>0</th>\n",
       "      <td>AFG</td>\n",
       "      <td>4.420508e+02</td>\n",
       "    </tr>\n",
       "    <tr>\n",
       "      <th>1</th>\n",
       "      <td>AGO</td>\n",
       "      <td>1.229576e+06</td>\n",
       "    </tr>\n",
       "    <tr>\n",
       "      <th>2</th>\n",
       "      <td>ALB</td>\n",
       "      <td>1.104088e+04</td>\n",
       "    </tr>\n",
       "    <tr>\n",
       "      <th>3</th>\n",
       "      <td>ARG</td>\n",
       "      <td>3.910145e+06</td>\n",
       "    </tr>\n",
       "    <tr>\n",
       "      <th>4</th>\n",
       "      <td>ARM</td>\n",
       "      <td>1.011516e+03</td>\n",
       "    </tr>\n",
       "    <tr>\n",
       "      <th>...</th>\n",
       "      <td>...</td>\n",
       "      <td>...</td>\n",
       "    </tr>\n",
       "    <tr>\n",
       "      <th>176</th>\n",
       "      <td>VUT</td>\n",
       "      <td>4.490162e+03</td>\n",
       "    </tr>\n",
       "    <tr>\n",
       "      <th>177</th>\n",
       "      <td>YEM</td>\n",
       "      <td>2.246056e-01</td>\n",
       "    </tr>\n",
       "    <tr>\n",
       "      <th>178</th>\n",
       "      <td>ZAF</td>\n",
       "      <td>2.109406e+05</td>\n",
       "    </tr>\n",
       "    <tr>\n",
       "      <th>179</th>\n",
       "      <td>ZMB</td>\n",
       "      <td>7.190740e+05</td>\n",
       "    </tr>\n",
       "    <tr>\n",
       "      <th>180</th>\n",
       "      <td>ZWE</td>\n",
       "      <td>9.332722e+04</td>\n",
       "    </tr>\n",
       "  </tbody>\n",
       "</table>\n",
       "<p>181 rows × 2 columns</p>\n",
       "</div>"
      ],
      "text/plain": [
       "     ISO  Deforestation attribution, unamortized (ha)\n",
       "0    AFG                                 4.420508e+02\n",
       "1    AGO                                 1.229576e+06\n",
       "2    ALB                                 1.104088e+04\n",
       "3    ARG                                 3.910145e+06\n",
       "4    ARM                                 1.011516e+03\n",
       "..   ...                                          ...\n",
       "176  VUT                                 4.490162e+03\n",
       "177  YEM                                 2.246056e-01\n",
       "178  ZAF                                 2.109406e+05\n",
       "179  ZMB                                 7.190740e+05\n",
       "180  ZWE                                 9.332722e+04\n",
       "\n",
       "[181 rows x 2 columns]"
      ]
     },
     "execution_count": 183,
     "metadata": {},
     "output_type": "execute_result"
    }
   ],
   "source": [
    "Reference.groupby(['ISO']).sum().reset_index()[['ISO', 'Deforestation attribution, unamortized (ha)']]"
   ]
  },
  {
   "cell_type": "code",
   "execution_count": 12,
   "id": "f7ab195d-7623-4da5-bf19-60bfcc0062ff",
   "metadata": {},
   "outputs": [
    {
     "name": "stderr",
     "output_type": "stream",
     "text": [
      "/tmp/user/1011/ipykernel_2508806/457932598.py:4: FutureWarning: The default value of numeric_only in DataFrameGroupBy.sum is deprecated. In a future version, numeric_only will default to False. Either specify numeric_only or select only columns which should be valid for the function.\n",
      "  reference_df = Reference.groupby(['ISO']).sum().reset_index()[['ISO', 'Deforestation attribution, unamortized (ha)']]\n",
      "/tmp/user/1011/ipykernel_2508806/457932598.py:5: FutureWarning: The default value of numeric_only in DataFrameGroupBy.sum is deprecated. In a future version, numeric_only will default to False. Either specify numeric_only or select only columns which should be valid for the function.\n",
      "  s15_df = S15_1.groupby(['ISO']).sum().reset_index()[['ISO', 'Deforestation attribution, unamortized (ha)']]\n"
     ]
    }
   ],
   "source": [
    "import pandas as pd\n",
    "\n",
    "# Assuming you have your dataframes named as reference_df and s15_df\n",
    "reference_df = Reference.groupby(['ISO']).sum().reset_index()[['ISO', 'Deforestation attribution, unamortized (ha)']]\n",
    "s15_df = S15_1.groupby(['ISO']).sum().reset_index()[['ISO', 'Deforestation attribution, unamortized (ha)']]\n",
    "\n",
    "# Rename columns to avoid confusion during merge\n",
    "reference_df.rename(columns={'Deforestation attribution, unamortized (ha)': 'Reference Deforestation (ha)'}, inplace=True)\n",
    "s15_df.rename(columns={'Deforestation attribution, unamortized (ha)': 'S15 Deforestation (ha)'}, inplace=True)\n",
    "\n",
    "# Merge the dataframes on 'ISO'\n",
    "merged_df = pd.merge(reference_df, s15_df, on='ISO', how='inner')\n",
    "\n",
    "# Calculate the percentage change\n",
    "merged_df['% Change from Reference'] = ((merged_df['S15 Deforestation (ha)'] - merged_df['Reference Deforestation (ha)']) / merged_df['Reference Deforestation (ha)']) * 100\n",
    "\n",
    "# Handle cases where Reference Deforestation is 0 to avoid division by zero\n",
    "merged_df['% Change from Reference'] = merged_df['% Change from Reference'].replace([float('inf'), -float('inf')], None)\n"
   ]
  },
  {
   "cell_type": "code",
   "execution_count": 18,
   "id": "357aade5-f2b0-4e62-8965-ab5c801fd1c3",
   "metadata": {},
   "outputs": [
    {
     "data": {
      "application/vnd.plotly.v1+json": {
       "config": {
        "plotlyServerURL": "https://plot.ly"
       },
       "data": [
        {
         "coloraxis": "coloraxis",
         "geo": "geo",
         "hovertemplate": "<b>%{hovertext}</b><br><br>ISO=%{location}<br>% Change from Reference=%{z}<extra></extra>",
         "hovertext": [
          "AFG",
          "AGO",
          "ALB",
          "ARG",
          "ARM",
          "ATG",
          "AUS",
          "AUT",
          "AZE",
          "BDI",
          "BEL",
          "BEN",
          "BFA",
          "BGD",
          "BGR",
          "BHS",
          "BIH",
          "BLR",
          "BLZ",
          "BOL",
          "BRA",
          "BRB",
          "BRN",
          "BTN",
          "BWA",
          "CAF",
          "CAN",
          "CHE",
          "CHL",
          "CHN",
          "CIV",
          "CMR",
          "COD",
          "COG",
          "COL",
          "COM",
          "CPV",
          "CRI",
          "CUB",
          "CYP",
          "CZE",
          "DEU",
          "DMA",
          "DNK",
          "DOM",
          "DZA",
          "ECU",
          "EGY",
          "ERI",
          "ESP",
          "EST",
          "ETH",
          "FIN",
          "FJI",
          "FRA",
          "FSM",
          "GAB",
          "GBR",
          "GEO",
          "GHA",
          "GIN",
          "GMB",
          "GNB",
          "GNQ",
          "GRC",
          "GRD",
          "GTM",
          "GUY",
          "HND",
          "HRV",
          "HTI",
          "HUN",
          "IDN",
          "IND",
          "IRL",
          "IRN",
          "IRQ",
          "ISR",
          "ITA",
          "JAM",
          "JOR",
          "JPN",
          "KAZ",
          "KEN",
          "KGZ",
          "KHM",
          "KNA",
          "KOR",
          "LAO",
          "LBN",
          "LBR",
          "LBY",
          "LCA",
          "LKA",
          "LSO",
          "LTU",
          "LUX",
          "LVA",
          "MAR",
          "MDA",
          "MDG",
          "MDV",
          "MEX",
          "MKD",
          "MLI",
          "MLT",
          "MMR",
          "MNE",
          "MNG",
          "MOZ",
          "MRT",
          "MUS",
          "MWI",
          "MYS",
          "NAM",
          "NCL",
          "NER",
          "NGA",
          "NIC",
          "NLD",
          "NOR",
          "NPL",
          "NZL",
          "OMN",
          "PAK",
          "PAN",
          "PER",
          "PHL",
          "PNG",
          "POL",
          "PRI",
          "PRK",
          "PRT",
          "PRY",
          "PSE",
          "ROU",
          "RUS",
          "RWA",
          "SDN",
          "SDN and SSD",
          "SEN",
          "SGP",
          "SLB",
          "SLE",
          "SLV",
          "SOM",
          "SRB",
          "SRB and MNE",
          "SSD",
          "STP",
          "SUR",
          "SVK",
          "SVN",
          "SWE",
          "SWZ",
          "SYC",
          "SYR",
          "TCD",
          "TGO",
          "THA",
          "TJK",
          "TKM",
          "TLS",
          "TTO",
          "TUN",
          "TUR",
          "TWN",
          "TZA",
          "UGA",
          "UKR",
          "URY",
          "USA",
          "UZB",
          "VCT",
          "VEN",
          "VNM",
          "VUT",
          "YEM",
          "ZAF",
          "ZMB",
          "ZWE"
         ],
         "locations": [
          "AFG",
          "AGO",
          "ALB",
          "ARG",
          "ARM",
          "ATG",
          "AUS",
          "AUT",
          "AZE",
          "BDI",
          "BEL",
          "BEN",
          "BFA",
          "BGD",
          "BGR",
          "BHS",
          "BIH",
          "BLR",
          "BLZ",
          "BOL",
          "BRA",
          "BRB",
          "BRN",
          "BTN",
          "BWA",
          "CAF",
          "CAN",
          "CHE",
          "CHL",
          "CHN",
          "CIV",
          "CMR",
          "COD",
          "COG",
          "COL",
          "COM",
          "CPV",
          "CRI",
          "CUB",
          "CYP",
          "CZE",
          "DEU",
          "DMA",
          "DNK",
          "DOM",
          "DZA",
          "ECU",
          "EGY",
          "ERI",
          "ESP",
          "EST",
          "ETH",
          "FIN",
          "FJI",
          "FRA",
          "FSM",
          "GAB",
          "GBR",
          "GEO",
          "GHA",
          "GIN",
          "GMB",
          "GNB",
          "GNQ",
          "GRC",
          "GRD",
          "GTM",
          "GUY",
          "HND",
          "HRV",
          "HTI",
          "HUN",
          "IDN",
          "IND",
          "IRL",
          "IRN",
          "IRQ",
          "ISR",
          "ITA",
          "JAM",
          "JOR",
          "JPN",
          "KAZ",
          "KEN",
          "KGZ",
          "KHM",
          "KNA",
          "KOR",
          "LAO",
          "LBN",
          "LBR",
          "LBY",
          "LCA",
          "LKA",
          "LSO",
          "LTU",
          "LUX",
          "LVA",
          "MAR",
          "MDA",
          "MDG",
          "MDV",
          "MEX",
          "MKD",
          "MLI",
          "MLT",
          "MMR",
          "MNE",
          "MNG",
          "MOZ",
          "MRT",
          "MUS",
          "MWI",
          "MYS",
          "NAM",
          "NCL",
          "NER",
          "NGA",
          "NIC",
          "NLD",
          "NOR",
          "NPL",
          "NZL",
          "OMN",
          "PAK",
          "PAN",
          "PER",
          "PHL",
          "PNG",
          "POL",
          "PRI",
          "PRK",
          "PRT",
          "PRY",
          "PSE",
          "ROU",
          "RUS",
          "RWA",
          "SDN",
          "SDN and SSD",
          "SEN",
          "SGP",
          "SLB",
          "SLE",
          "SLV",
          "SOM",
          "SRB",
          "SRB and MNE",
          "SSD",
          "STP",
          "SUR",
          "SVK",
          "SVN",
          "SWE",
          "SWZ",
          "SYC",
          "SYR",
          "TCD",
          "TGO",
          "THA",
          "TJK",
          "TKM",
          "TLS",
          "TTO",
          "TUN",
          "TUR",
          "TWN",
          "TZA",
          "UGA",
          "UKR",
          "URY",
          "USA",
          "UZB",
          "VCT",
          "VEN",
          "VNM",
          "VUT",
          "YEM",
          "ZAF",
          "ZMB",
          "ZWE"
         ],
         "name": "",
         "type": "choropleth",
         "z": [
          0,
          -0.8007070045142607,
          0,
          0,
          0,
          0,
          0,
          0,
          0.06112901330596278,
          0,
          0,
          0,
          0,
          0,
          0,
          0,
          0,
          2.0286721202308826e-05,
          0,
          0.005773550718422646,
          -2.088891544903352e-06,
          0,
          0,
          0.0006780690220017081,
          0,
          0.021058629067116908,
          0,
          0,
          0,
          2.490963282886964e-05,
          0,
          0,
          1.0664951346242697,
          0,
          0,
          0,
          0,
          0.006830644697867992,
          -0.16092804256012785,
          0,
          0,
          0,
          0,
          0,
          0.29197459952740507,
          0,
          0,
          0,
          0,
          0,
          0.000841732676583372,
          0,
          0.0014487202806799126,
          0,
          0,
          0,
          8.576366833402247,
          0,
          0,
          1.5478275942976867,
          0,
          0,
          -0.02882478094925187,
          5.798575321341479,
          0,
          0,
          4.658136010587924,
          0,
          4.694467230437554,
          0,
          0,
          -0.023201383293967426,
          0,
          0.05191762442471147,
          0,
          0,
          0,
          -1.7596156503251905e-14,
          0.00031628485819632136,
          0.27426891156972155,
          0,
          0,
          0,
          0,
          0,
          -0.08434368462902789,
          0,
          0,
          0,
          0,
          1.9023977223636013,
          0,
          0,
          0.02021092056710272,
          0,
          0,
          2.14303071890537e-14,
          0.0014328903487898826,
          -0.0007018943858615402,
          0,
          0.2180654642355828,
          0,
          0,
          0,
          0,
          0,
          3.6567096047201186,
          0,
          0.00024770081171960674,
          -0.7664003722312658,
          0,
          0,
          0,
          0.00044006282936894626,
          0,
          1.1829351548850935,
          1.1599291035250979e-14,
          0.24452186908641024,
          4.8459215125312465,
          0,
          0,
          0,
          0,
          0,
          0,
          0.01071141981918032,
          0,
          0,
          0,
          0,
          0,
          0,
          0.0032818805693203873,
          0,
          0,
          0,
          0,
          0,
          0,
          0,
          0,
          0,
          0,
          0,
          0,
          0,
          0.002258519947132137,
          0.02305449392087268,
          0,
          0,
          0,
          0.008157765306968422,
          0,
          0.04752768507379432,
          0,
          0,
          0,
          0,
          0,
          0,
          2.071165759594941e-14,
          0,
          0,
          0,
          0,
          0,
          0,
          0,
          0,
          0.0005775137503533195,
          0,
          0,
          0,
          0,
          -6.807033060070653e-08,
          0.0005393049930331663,
          0,
          0,
          0,
          0,
          0
         ]
        }
       ],
       "layout": {
        "autosize": false,
        "coloraxis": {
         "cmax": 5,
         "cmin": 0,
         "colorbar": {
          "title": {
           "text": "% Change from Reference"
          }
         },
         "colorscale": [
          [
           0,
           "rgb(255,255,255)"
          ],
          [
           0.3333333333333333,
           "rgb(255,210,0)"
          ],
          [
           0.6666666666666666,
           "rgb(230,0,0)"
          ],
          [
           1,
           "rgb(0, 0, 0)"
          ]
         ]
        },
        "geo": {
         "center": {
          "lat": -3.595105096442804,
          "lon": -21.81423853124185
         },
         "domain": {
          "x": [
           0,
           1
          ],
          "y": [
           0,
           1
          ]
         },
         "projection": {
          "rotation": {
           "lon": -21.81423853124185
          },
          "scale": 1.2345626068935387
         }
        },
        "height": 600,
        "legend": {
         "tracegroupgap": 0
        },
        "margin": {
         "t": 60
        },
        "showlegend": false,
        "template": {
         "data": {
          "bar": [
           {
            "error_x": {
             "color": "#2a3f5f"
            },
            "error_y": {
             "color": "#2a3f5f"
            },
            "marker": {
             "line": {
              "color": "#E5ECF6",
              "width": 0.5
             },
             "pattern": {
              "fillmode": "overlay",
              "size": 10,
              "solidity": 0.2
             }
            },
            "type": "bar"
           }
          ],
          "barpolar": [
           {
            "marker": {
             "line": {
              "color": "#E5ECF6",
              "width": 0.5
             },
             "pattern": {
              "fillmode": "overlay",
              "size": 10,
              "solidity": 0.2
             }
            },
            "type": "barpolar"
           }
          ],
          "carpet": [
           {
            "aaxis": {
             "endlinecolor": "#2a3f5f",
             "gridcolor": "white",
             "linecolor": "white",
             "minorgridcolor": "white",
             "startlinecolor": "#2a3f5f"
            },
            "baxis": {
             "endlinecolor": "#2a3f5f",
             "gridcolor": "white",
             "linecolor": "white",
             "minorgridcolor": "white",
             "startlinecolor": "#2a3f5f"
            },
            "type": "carpet"
           }
          ],
          "choropleth": [
           {
            "colorbar": {
             "outlinewidth": 0,
             "ticks": ""
            },
            "type": "choropleth"
           }
          ],
          "contour": [
           {
            "colorbar": {
             "outlinewidth": 0,
             "ticks": ""
            },
            "colorscale": [
             [
              0,
              "#0d0887"
             ],
             [
              0.1111111111111111,
              "#46039f"
             ],
             [
              0.2222222222222222,
              "#7201a8"
             ],
             [
              0.3333333333333333,
              "#9c179e"
             ],
             [
              0.4444444444444444,
              "#bd3786"
             ],
             [
              0.5555555555555556,
              "#d8576b"
             ],
             [
              0.6666666666666666,
              "#ed7953"
             ],
             [
              0.7777777777777778,
              "#fb9f3a"
             ],
             [
              0.8888888888888888,
              "#fdca26"
             ],
             [
              1,
              "#f0f921"
             ]
            ],
            "type": "contour"
           }
          ],
          "contourcarpet": [
           {
            "colorbar": {
             "outlinewidth": 0,
             "ticks": ""
            },
            "type": "contourcarpet"
           }
          ],
          "heatmap": [
           {
            "colorbar": {
             "outlinewidth": 0,
             "ticks": ""
            },
            "colorscale": [
             [
              0,
              "#0d0887"
             ],
             [
              0.1111111111111111,
              "#46039f"
             ],
             [
              0.2222222222222222,
              "#7201a8"
             ],
             [
              0.3333333333333333,
              "#9c179e"
             ],
             [
              0.4444444444444444,
              "#bd3786"
             ],
             [
              0.5555555555555556,
              "#d8576b"
             ],
             [
              0.6666666666666666,
              "#ed7953"
             ],
             [
              0.7777777777777778,
              "#fb9f3a"
             ],
             [
              0.8888888888888888,
              "#fdca26"
             ],
             [
              1,
              "#f0f921"
             ]
            ],
            "type": "heatmap"
           }
          ],
          "heatmapgl": [
           {
            "colorbar": {
             "outlinewidth": 0,
             "ticks": ""
            },
            "colorscale": [
             [
              0,
              "#0d0887"
             ],
             [
              0.1111111111111111,
              "#46039f"
             ],
             [
              0.2222222222222222,
              "#7201a8"
             ],
             [
              0.3333333333333333,
              "#9c179e"
             ],
             [
              0.4444444444444444,
              "#bd3786"
             ],
             [
              0.5555555555555556,
              "#d8576b"
             ],
             [
              0.6666666666666666,
              "#ed7953"
             ],
             [
              0.7777777777777778,
              "#fb9f3a"
             ],
             [
              0.8888888888888888,
              "#fdca26"
             ],
             [
              1,
              "#f0f921"
             ]
            ],
            "type": "heatmapgl"
           }
          ],
          "histogram": [
           {
            "marker": {
             "pattern": {
              "fillmode": "overlay",
              "size": 10,
              "solidity": 0.2
             }
            },
            "type": "histogram"
           }
          ],
          "histogram2d": [
           {
            "colorbar": {
             "outlinewidth": 0,
             "ticks": ""
            },
            "colorscale": [
             [
              0,
              "#0d0887"
             ],
             [
              0.1111111111111111,
              "#46039f"
             ],
             [
              0.2222222222222222,
              "#7201a8"
             ],
             [
              0.3333333333333333,
              "#9c179e"
             ],
             [
              0.4444444444444444,
              "#bd3786"
             ],
             [
              0.5555555555555556,
              "#d8576b"
             ],
             [
              0.6666666666666666,
              "#ed7953"
             ],
             [
              0.7777777777777778,
              "#fb9f3a"
             ],
             [
              0.8888888888888888,
              "#fdca26"
             ],
             [
              1,
              "#f0f921"
             ]
            ],
            "type": "histogram2d"
           }
          ],
          "histogram2dcontour": [
           {
            "colorbar": {
             "outlinewidth": 0,
             "ticks": ""
            },
            "colorscale": [
             [
              0,
              "#0d0887"
             ],
             [
              0.1111111111111111,
              "#46039f"
             ],
             [
              0.2222222222222222,
              "#7201a8"
             ],
             [
              0.3333333333333333,
              "#9c179e"
             ],
             [
              0.4444444444444444,
              "#bd3786"
             ],
             [
              0.5555555555555556,
              "#d8576b"
             ],
             [
              0.6666666666666666,
              "#ed7953"
             ],
             [
              0.7777777777777778,
              "#fb9f3a"
             ],
             [
              0.8888888888888888,
              "#fdca26"
             ],
             [
              1,
              "#f0f921"
             ]
            ],
            "type": "histogram2dcontour"
           }
          ],
          "mesh3d": [
           {
            "colorbar": {
             "outlinewidth": 0,
             "ticks": ""
            },
            "type": "mesh3d"
           }
          ],
          "parcoords": [
           {
            "line": {
             "colorbar": {
              "outlinewidth": 0,
              "ticks": ""
             }
            },
            "type": "parcoords"
           }
          ],
          "pie": [
           {
            "automargin": true,
            "type": "pie"
           }
          ],
          "scatter": [
           {
            "fillpattern": {
             "fillmode": "overlay",
             "size": 10,
             "solidity": 0.2
            },
            "type": "scatter"
           }
          ],
          "scatter3d": [
           {
            "line": {
             "colorbar": {
              "outlinewidth": 0,
              "ticks": ""
             }
            },
            "marker": {
             "colorbar": {
              "outlinewidth": 0,
              "ticks": ""
             }
            },
            "type": "scatter3d"
           }
          ],
          "scattercarpet": [
           {
            "marker": {
             "colorbar": {
              "outlinewidth": 0,
              "ticks": ""
             }
            },
            "type": "scattercarpet"
           }
          ],
          "scattergeo": [
           {
            "marker": {
             "colorbar": {
              "outlinewidth": 0,
              "ticks": ""
             }
            },
            "type": "scattergeo"
           }
          ],
          "scattergl": [
           {
            "marker": {
             "colorbar": {
              "outlinewidth": 0,
              "ticks": ""
             }
            },
            "type": "scattergl"
           }
          ],
          "scattermapbox": [
           {
            "marker": {
             "colorbar": {
              "outlinewidth": 0,
              "ticks": ""
             }
            },
            "type": "scattermapbox"
           }
          ],
          "scatterpolar": [
           {
            "marker": {
             "colorbar": {
              "outlinewidth": 0,
              "ticks": ""
             }
            },
            "type": "scatterpolar"
           }
          ],
          "scatterpolargl": [
           {
            "marker": {
             "colorbar": {
              "outlinewidth": 0,
              "ticks": ""
             }
            },
            "type": "scatterpolargl"
           }
          ],
          "scatterternary": [
           {
            "marker": {
             "colorbar": {
              "outlinewidth": 0,
              "ticks": ""
             }
            },
            "type": "scatterternary"
           }
          ],
          "surface": [
           {
            "colorbar": {
             "outlinewidth": 0,
             "ticks": ""
            },
            "colorscale": [
             [
              0,
              "#0d0887"
             ],
             [
              0.1111111111111111,
              "#46039f"
             ],
             [
              0.2222222222222222,
              "#7201a8"
             ],
             [
              0.3333333333333333,
              "#9c179e"
             ],
             [
              0.4444444444444444,
              "#bd3786"
             ],
             [
              0.5555555555555556,
              "#d8576b"
             ],
             [
              0.6666666666666666,
              "#ed7953"
             ],
             [
              0.7777777777777778,
              "#fb9f3a"
             ],
             [
              0.8888888888888888,
              "#fdca26"
             ],
             [
              1,
              "#f0f921"
             ]
            ],
            "type": "surface"
           }
          ],
          "table": [
           {
            "cells": {
             "fill": {
              "color": "#EBF0F8"
             },
             "line": {
              "color": "white"
             }
            },
            "header": {
             "fill": {
              "color": "#C8D4E3"
             },
             "line": {
              "color": "white"
             }
            },
            "type": "table"
           }
          ]
         },
         "layout": {
          "annotationdefaults": {
           "arrowcolor": "#2a3f5f",
           "arrowhead": 0,
           "arrowwidth": 1
          },
          "autotypenumbers": "strict",
          "coloraxis": {
           "colorbar": {
            "outlinewidth": 0,
            "ticks": ""
           }
          },
          "colorscale": {
           "diverging": [
            [
             0,
             "#8e0152"
            ],
            [
             0.1,
             "#c51b7d"
            ],
            [
             0.2,
             "#de77ae"
            ],
            [
             0.3,
             "#f1b6da"
            ],
            [
             0.4,
             "#fde0ef"
            ],
            [
             0.5,
             "#f7f7f7"
            ],
            [
             0.6,
             "#e6f5d0"
            ],
            [
             0.7,
             "#b8e186"
            ],
            [
             0.8,
             "#7fbc41"
            ],
            [
             0.9,
             "#4d9221"
            ],
            [
             1,
             "#276419"
            ]
           ],
           "sequential": [
            [
             0,
             "#0d0887"
            ],
            [
             0.1111111111111111,
             "#46039f"
            ],
            [
             0.2222222222222222,
             "#7201a8"
            ],
            [
             0.3333333333333333,
             "#9c179e"
            ],
            [
             0.4444444444444444,
             "#bd3786"
            ],
            [
             0.5555555555555556,
             "#d8576b"
            ],
            [
             0.6666666666666666,
             "#ed7953"
            ],
            [
             0.7777777777777778,
             "#fb9f3a"
            ],
            [
             0.8888888888888888,
             "#fdca26"
            ],
            [
             1,
             "#f0f921"
            ]
           ],
           "sequentialminus": [
            [
             0,
             "#0d0887"
            ],
            [
             0.1111111111111111,
             "#46039f"
            ],
            [
             0.2222222222222222,
             "#7201a8"
            ],
            [
             0.3333333333333333,
             "#9c179e"
            ],
            [
             0.4444444444444444,
             "#bd3786"
            ],
            [
             0.5555555555555556,
             "#d8576b"
            ],
            [
             0.6666666666666666,
             "#ed7953"
            ],
            [
             0.7777777777777778,
             "#fb9f3a"
            ],
            [
             0.8888888888888888,
             "#fdca26"
            ],
            [
             1,
             "#f0f921"
            ]
           ]
          },
          "colorway": [
           "#636efa",
           "#EF553B",
           "#00cc96",
           "#ab63fa",
           "#FFA15A",
           "#19d3f3",
           "#FF6692",
           "#B6E880",
           "#FF97FF",
           "#FECB52"
          ],
          "font": {
           "color": "#2a3f5f"
          },
          "geo": {
           "bgcolor": "white",
           "lakecolor": "white",
           "landcolor": "#E5ECF6",
           "showlakes": true,
           "showland": true,
           "subunitcolor": "white"
          },
          "hoverlabel": {
           "align": "left"
          },
          "hovermode": "closest",
          "mapbox": {
           "style": "light"
          },
          "paper_bgcolor": "white",
          "plot_bgcolor": "#E5ECF6",
          "polar": {
           "angularaxis": {
            "gridcolor": "white",
            "linecolor": "white",
            "ticks": ""
           },
           "bgcolor": "#E5ECF6",
           "radialaxis": {
            "gridcolor": "white",
            "linecolor": "white",
            "ticks": ""
           }
          },
          "scene": {
           "xaxis": {
            "backgroundcolor": "#E5ECF6",
            "gridcolor": "white",
            "gridwidth": 2,
            "linecolor": "white",
            "showbackground": true,
            "ticks": "",
            "zerolinecolor": "white"
           },
           "yaxis": {
            "backgroundcolor": "#E5ECF6",
            "gridcolor": "white",
            "gridwidth": 2,
            "linecolor": "white",
            "showbackground": true,
            "ticks": "",
            "zerolinecolor": "white"
           },
           "zaxis": {
            "backgroundcolor": "#E5ECF6",
            "gridcolor": "white",
            "gridwidth": 2,
            "linecolor": "white",
            "showbackground": true,
            "ticks": "",
            "zerolinecolor": "white"
           }
          },
          "shapedefaults": {
           "line": {
            "color": "#2a3f5f"
           }
          },
          "ternary": {
           "aaxis": {
            "gridcolor": "white",
            "linecolor": "white",
            "ticks": ""
           },
           "baxis": {
            "gridcolor": "white",
            "linecolor": "white",
            "ticks": ""
           },
           "bgcolor": "#E5ECF6",
           "caxis": {
            "gridcolor": "white",
            "linecolor": "white",
            "ticks": ""
           }
          },
          "title": {
           "x": 0.05
          },
          "xaxis": {
           "automargin": true,
           "gridcolor": "white",
           "linecolor": "white",
           "ticks": "",
           "title": {
            "standoff": 15
           },
           "zerolinecolor": "white",
           "zerolinewidth": 2
          },
          "yaxis": {
           "automargin": true,
           "gridcolor": "white",
           "linecolor": "white",
           "ticks": "",
           "title": {
            "standoff": 15
           },
           "zerolinecolor": "white",
           "zerolinewidth": 2
          }
         }
        },
        "width": 1000
       }
      },
      "image/png": "[encoded data removed]",
      "text/html": [
       "<div>                            <div id=\"57ad496e-0adb-45bd-803a-6a000e596cf3\" class=\"plotly-graph-div\" style=\"height:600px; width:1000px;\"></div>            <script type=\"text/javascript\">                require([\"plotly\"], function(Plotly) {                    window.PLOTLYENV=window.PLOTLYENV || {};                                    if (document.getElementById(\"57ad496e-0adb-45bd-803a-6a000e596cf3\")) {                    Plotly.newPlot(                        \"57ad496e-0adb-45bd-803a-6a000e596cf3\",                        [{\"coloraxis\":\"coloraxis\",\"geo\":\"geo\",\"hovertemplate\":\"<b>%{hovertext}</b><br><br>ISO=%{location}<br>% Change from Reference=%{z}<extra></extra>\",\"hovertext\":[\"AFG\",\"AGO\",\"ALB\",\"ARG\",\"ARM\",\"ATG\",\"AUS\",\"AUT\",\"AZE\",\"BDI\",\"BEL\",\"BEN\",\"BFA\",\"BGD\",\"BGR\",\"BHS\",\"BIH\",\"BLR\",\"BLZ\",\"BOL\",\"BRA\",\"BRB\",\"BRN\",\"BTN\",\"BWA\",\"CAF\",\"CAN\",\"CHE\",\"CHL\",\"CHN\",\"CIV\",\"CMR\",\"COD\",\"COG\",\"COL\",\"COM\",\"CPV\",\"CRI\",\"CUB\",\"CYP\",\"CZE\",\"DEU\",\"DMA\",\"DNK\",\"DOM\",\"DZA\",\"ECU\",\"EGY\",\"ERI\",\"ESP\",\"EST\",\"ETH\",\"FIN\",\"FJI\",\"FRA\",\"FSM\",\"GAB\",\"GBR\",\"GEO\",\"GHA\",\"GIN\",\"GMB\",\"GNB\",\"GNQ\",\"GRC\",\"GRD\",\"GTM\",\"GUY\",\"HND\",\"HRV\",\"HTI\",\"HUN\",\"IDN\",\"IND\",\"IRL\",\"IRN\",\"IRQ\",\"ISR\",\"ITA\",\"JAM\",\"JOR\",\"JPN\",\"KAZ\",\"KEN\",\"KGZ\",\"KHM\",\"KNA\",\"KOR\",\"LAO\",\"LBN\",\"LBR\",\"LBY\",\"LCA\",\"LKA\",\"LSO\",\"LTU\",\"LUX\",\"LVA\",\"MAR\",\"MDA\",\"MDG\",\"MDV\",\"MEX\",\"MKD\",\"MLI\",\"MLT\",\"MMR\",\"MNE\",\"MNG\",\"MOZ\",\"MRT\",\"MUS\",\"MWI\",\"MYS\",\"NAM\",\"NCL\",\"NER\",\"NGA\",\"NIC\",\"NLD\",\"NOR\",\"NPL\",\"NZL\",\"OMN\",\"PAK\",\"PAN\",\"PER\",\"PHL\",\"PNG\",\"POL\",\"PRI\",\"PRK\",\"PRT\",\"PRY\",\"PSE\",\"ROU\",\"RUS\",\"RWA\",\"SDN\",\"SDN and SSD\",\"SEN\",\"SGP\",\"SLB\",\"SLE\",\"SLV\",\"SOM\",\"SRB\",\"SRB and MNE\",\"SSD\",\"STP\",\"SUR\",\"SVK\",\"SVN\",\"SWE\",\"SWZ\",\"SYC\",\"SYR\",\"TCD\",\"TGO\",\"THA\",\"TJK\",\"TKM\",\"TLS\",\"TTO\",\"TUN\",\"TUR\",\"TWN\",\"TZA\",\"UGA\",\"UKR\",\"URY\",\"USA\",\"UZB\",\"VCT\",\"VEN\",\"VNM\",\"VUT\",\"YEM\",\"ZAF\",\"ZMB\",\"ZWE\"],\"locations\":[\"AFG\",\"AGO\",\"ALB\",\"ARG\",\"ARM\",\"ATG\",\"AUS\",\"AUT\",\"AZE\",\"BDI\",\"BEL\",\"BEN\",\"BFA\",\"BGD\",\"BGR\",\"BHS\",\"BIH\",\"BLR\",\"BLZ\",\"BOL\",\"BRA\",\"BRB\",\"BRN\",\"BTN\",\"BWA\",\"CAF\",\"CAN\",\"CHE\",\"CHL\",\"CHN\",\"CIV\",\"CMR\",\"COD\",\"COG\",\"COL\",\"COM\",\"CPV\",\"CRI\",\"CUB\",\"CYP\",\"CZE\",\"DEU\",\"DMA\",\"DNK\",\"DOM\",\"DZA\",\"ECU\",\"EGY\",\"ERI\",\"ESP\",\"EST\",\"ETH\",\"FIN\",\"FJI\",\"FRA\",\"FSM\",\"GAB\",\"GBR\",\"GEO\",\"GHA\",\"GIN\",\"GMB\",\"GNB\",\"GNQ\",\"GRC\",\"GRD\",\"GTM\",\"GUY\",\"HND\",\"HRV\",\"HTI\",\"HUN\",\"IDN\",\"IND\",\"IRL\",\"IRN\",\"IRQ\",\"ISR\",\"ITA\",\"JAM\",\"JOR\",\"JPN\",\"KAZ\",\"KEN\",\"KGZ\",\"KHM\",\"KNA\",\"KOR\",\"LAO\",\"LBN\",\"LBR\",\"LBY\",\"LCA\",\"LKA\",\"LSO\",\"LTU\",\"LUX\",\"LVA\",\"MAR\",\"MDA\",\"MDG\",\"MDV\",\"MEX\",\"MKD\",\"MLI\",\"MLT\",\"MMR\",\"MNE\",\"MNG\",\"MOZ\",\"MRT\",\"MUS\",\"MWI\",\"MYS\",\"NAM\",\"NCL\",\"NER\",\"NGA\",\"NIC\",\"NLD\",\"NOR\",\"NPL\",\"NZL\",\"OMN\",\"PAK\",\"PAN\",\"PER\",\"PHL\",\"PNG\",\"POL\",\"PRI\",\"PRK\",\"PRT\",\"PRY\",\"PSE\",\"ROU\",\"RUS\",\"RWA\",\"SDN\",\"SDN and SSD\",\"SEN\",\"SGP\",\"SLB\",\"SLE\",\"SLV\",\"SOM\",\"SRB\",\"SRB and MNE\",\"SSD\",\"STP\",\"SUR\",\"SVK\",\"SVN\",\"SWE\",\"SWZ\",\"SYC\",\"SYR\",\"TCD\",\"TGO\",\"THA\",\"TJK\",\"TKM\",\"TLS\",\"TTO\",\"TUN\",\"TUR\",\"TWN\",\"TZA\",\"UGA\",\"UKR\",\"URY\",\"USA\",\"UZB\",\"VCT\",\"VEN\",\"VNM\",\"VUT\",\"YEM\",\"ZAF\",\"ZMB\",\"ZWE\"],\"name\":\"\",\"z\":[0.0,-0.8007070045142607,0.0,0.0,0.0,0.0,0.0,0.0,0.06112901330596278,0.0,0.0,0.0,0.0,0.0,0.0,0.0,0.0,2.0286721202308826e-05,0.0,0.005773550718422646,-2.088891544903352e-06,0.0,0.0,0.0006780690220017081,0.0,0.021058629067116908,0.0,0.0,0.0,2.490963282886964e-05,0.0,0.0,1.0664951346242697,0.0,0.0,0.0,0.0,0.006830644697867992,-0.16092804256012785,0.0,0.0,0.0,0.0,0.0,0.29197459952740507,0.0,0.0,0.0,0.0,0.0,0.000841732676583372,0.0,0.0014487202806799126,0.0,0.0,0.0,8.576366833402247,0.0,0.0,1.5478275942976867,0.0,0.0,-0.02882478094925187,5.798575321341479,0.0,0.0,4.658136010587924,0.0,4.694467230437554,0.0,0.0,-0.023201383293967426,0.0,0.05191762442471147,0.0,0.0,0.0,-1.7596156503251905e-14,0.00031628485819632136,0.27426891156972155,0.0,0.0,0.0,0.0,0.0,-0.08434368462902789,0.0,0.0,0.0,0.0,1.9023977223636013,0.0,0.0,0.02021092056710272,0.0,0.0,2.14303071890537e-14,0.0014328903487898826,-0.0007018943858615402,0.0,0.2180654642355828,0.0,0.0,0.0,0.0,0.0,3.6567096047201186,0.0,0.00024770081171960674,-0.7664003722312658,0.0,0.0,0.0,0.00044006282936894626,0.0,1.1829351548850935,1.1599291035250979e-14,0.24452186908641024,4.8459215125312465,0.0,0.0,0.0,0.0,0.0,0.0,0.01071141981918032,0.0,0.0,0.0,0.0,0.0,0.0,0.0032818805693203873,0.0,0.0,0.0,0.0,0.0,0.0,0.0,0.0,0.0,0.0,0.0,0.0,0.0,0.002258519947132137,0.02305449392087268,0.0,0.0,0.0,0.008157765306968422,0.0,0.04752768507379432,0.0,0.0,0.0,0.0,0.0,0.0,2.071165759594941e-14,0.0,0.0,0.0,0.0,0.0,0.0,0.0,0.0,0.0005775137503533195,0.0,0.0,0.0,0.0,-6.807033060070653e-08,0.0005393049930331663,0.0,0.0,0.0,0.0,0.0],\"type\":\"choropleth\"}],                        {\"template\":{\"data\":{\"histogram2dcontour\":[{\"type\":\"histogram2dcontour\",\"colorbar\":{\"outlinewidth\":0,\"ticks\":\"\"},\"colorscale\":[[0.0,\"#0d0887\"],[0.1111111111111111,\"#46039f\"],[0.2222222222222222,\"#7201a8\"],[0.3333333333333333,\"#9c179e\"],[0.4444444444444444,\"#bd3786\"],[0.5555555555555556,\"#d8576b\"],[0.6666666666666666,\"#ed7953\"],[0.7777777777777778,\"#fb9f3a\"],[0.8888888888888888,\"#fdca26\"],[1.0,\"#f0f921\"]]}],\"choropleth\":[{\"type\":\"choropleth\",\"colorbar\":{\"outlinewidth\":0,\"ticks\":\"\"}}],\"histogram2d\":[{\"type\":\"histogram2d\",\"colorbar\":{\"outlinewidth\":0,\"ticks\":\"\"},\"colorscale\":[[0.0,\"#0d0887\"],[0.1111111111111111,\"#46039f\"],[0.2222222222222222,\"#7201a8\"],[0.3333333333333333,\"#9c179e\"],[0.4444444444444444,\"#bd3786\"],[0.5555555555555556,\"#d8576b\"],[0.6666666666666666,\"#ed7953\"],[0.7777777777777778,\"#fb9f3a\"],[0.8888888888888888,\"#fdca26\"],[1.0,\"#f0f921\"]]}],\"heatmap\":[{\"type\":\"heatmap\",\"colorbar\":{\"outlinewidth\":0,\"ticks\":\"\"},\"colorscale\":[[0.0,\"#0d0887\"],[0.1111111111111111,\"#46039f\"],[0.2222222222222222,\"#7201a8\"],[0.3333333333333333,\"#9c179e\"],[0.4444444444444444,\"#bd3786\"],[0.5555555555555556,\"#d8576b\"],[0.6666666666666666,\"#ed7953\"],[0.7777777777777778,\"#fb9f3a\"],[0.8888888888888888,\"#fdca26\"],[1.0,\"#f0f921\"]]}],\"heatmapgl\":[{\"type\":\"heatmapgl\",\"colorbar\":{\"outlinewidth\":0,\"ticks\":\"\"},\"colorscale\":[[0.0,\"#0d0887\"],[0.1111111111111111,\"#46039f\"],[0.2222222222222222,\"#7201a8\"],[0.3333333333333333,\"#9c179e\"],[0.4444444444444444,\"#bd3786\"],[0.5555555555555556,\"#d8576b\"],[0.6666666666666666,\"#ed7953\"],[0.7777777777777778,\"#fb9f3a\"],[0.8888888888888888,\"#fdca26\"],[1.0,\"#f0f921\"]]}],\"contourcarpet\":[{\"type\":\"contourcarpet\",\"colorbar\":{\"outlinewidth\":0,\"ticks\":\"\"}}],\"contour\":[{\"type\":\"contour\",\"colorbar\":{\"outlinewidth\":0,\"ticks\":\"\"},\"colorscale\":[[0.0,\"#0d0887\"],[0.1111111111111111,\"#46039f\"],[0.2222222222222222,\"#7201a8\"],[0.3333333333333333,\"#9c179e\"],[0.4444444444444444,\"#bd3786\"],[0.5555555555555556,\"#d8576b\"],[0.6666666666666666,\"#ed7953\"],[0.7777777777777778,\"#fb9f3a\"],[0.8888888888888888,\"#fdca26\"],[1.0,\"#f0f921\"]]}],\"surface\":[{\"type\":\"surface\",\"colorbar\":{\"outlinewidth\":0,\"ticks\":\"\"},\"colorscale\":[[0.0,\"#0d0887\"],[0.1111111111111111,\"#46039f\"],[0.2222222222222222,\"#7201a8\"],[0.3333333333333333,\"#9c179e\"],[0.4444444444444444,\"#bd3786\"],[0.5555555555555556,\"#d8576b\"],[0.6666666666666666,\"#ed7953\"],[0.7777777777777778,\"#fb9f3a\"],[0.8888888888888888,\"#fdca26\"],[1.0,\"#f0f921\"]]}],\"mesh3d\":[{\"type\":\"mesh3d\",\"colorbar\":{\"outlinewidth\":0,\"ticks\":\"\"}}],\"scatter\":[{\"fillpattern\":{\"fillmode\":\"overlay\",\"size\":10,\"solidity\":0.2},\"type\":\"scatter\"}],\"parcoords\":[{\"type\":\"parcoords\",\"line\":{\"colorbar\":{\"outlinewidth\":0,\"ticks\":\"\"}}}],\"scatterpolargl\":[{\"type\":\"scatterpolargl\",\"marker\":{\"colorbar\":{\"outlinewidth\":0,\"ticks\":\"\"}}}],\"bar\":[{\"error_x\":{\"color\":\"#2a3f5f\"},\"error_y\":{\"color\":\"#2a3f5f\"},\"marker\":{\"line\":{\"color\":\"#E5ECF6\",\"width\":0.5},\"pattern\":{\"fillmode\":\"overlay\",\"size\":10,\"solidity\":0.2}},\"type\":\"bar\"}],\"scattergeo\":[{\"type\":\"scattergeo\",\"marker\":{\"colorbar\":{\"outlinewidth\":0,\"ticks\":\"\"}}}],\"scatterpolar\":[{\"type\":\"scatterpolar\",\"marker\":{\"colorbar\":{\"outlinewidth\":0,\"ticks\":\"\"}}}],\"histogram\":[{\"marker\":{\"pattern\":{\"fillmode\":\"overlay\",\"size\":10,\"solidity\":0.2}},\"type\":\"histogram\"}],\"scattergl\":[{\"type\":\"scattergl\",\"marker\":{\"colorbar\":{\"outlinewidth\":0,\"ticks\":\"\"}}}],\"scatter3d\":[{\"type\":\"scatter3d\",\"line\":{\"colorbar\":{\"outlinewidth\":0,\"ticks\":\"\"}},\"marker\":{\"colorbar\":{\"outlinewidth\":0,\"ticks\":\"\"}}}],\"scattermapbox\":[{\"type\":\"scattermapbox\",\"marker\":{\"colorbar\":{\"outlinewidth\":0,\"ticks\":\"\"}}}],\"scatterternary\":[{\"type\":\"scatterternary\",\"marker\":{\"colorbar\":{\"outlinewidth\":0,\"ticks\":\"\"}}}],\"scattercarpet\":[{\"type\":\"scattercarpet\",\"marker\":{\"colorbar\":{\"outlinewidth\":0,\"ticks\":\"\"}}}],\"carpet\":[{\"aaxis\":{\"endlinecolor\":\"#2a3f5f\",\"gridcolor\":\"white\",\"linecolor\":\"white\",\"minorgridcolor\":\"white\",\"startlinecolor\":\"#2a3f5f\"},\"baxis\":{\"endlinecolor\":\"#2a3f5f\",\"gridcolor\":\"white\",\"linecolor\":\"white\",\"minorgridcolor\":\"white\",\"startlinecolor\":\"#2a3f5f\"},\"type\":\"carpet\"}],\"table\":[{\"cells\":{\"fill\":{\"color\":\"#EBF0F8\"},\"line\":{\"color\":\"white\"}},\"header\":{\"fill\":{\"color\":\"#C8D4E3\"},\"line\":{\"color\":\"white\"}},\"type\":\"table\"}],\"barpolar\":[{\"marker\":{\"line\":{\"color\":\"#E5ECF6\",\"width\":0.5},\"pattern\":{\"fillmode\":\"overlay\",\"size\":10,\"solidity\":0.2}},\"type\":\"barpolar\"}],\"pie\":[{\"automargin\":true,\"type\":\"pie\"}]},\"layout\":{\"autotypenumbers\":\"strict\",\"colorway\":[\"#636efa\",\"#EF553B\",\"#00cc96\",\"#ab63fa\",\"#FFA15A\",\"#19d3f3\",\"#FF6692\",\"#B6E880\",\"#FF97FF\",\"#FECB52\"],\"font\":{\"color\":\"#2a3f5f\"},\"hovermode\":\"closest\",\"hoverlabel\":{\"align\":\"left\"},\"paper_bgcolor\":\"white\",\"plot_bgcolor\":\"#E5ECF6\",\"polar\":{\"bgcolor\":\"#E5ECF6\",\"angularaxis\":{\"gridcolor\":\"white\",\"linecolor\":\"white\",\"ticks\":\"\"},\"radialaxis\":{\"gridcolor\":\"white\",\"linecolor\":\"white\",\"ticks\":\"\"}},\"ternary\":{\"bgcolor\":\"#E5ECF6\",\"aaxis\":{\"gridcolor\":\"white\",\"linecolor\":\"white\",\"ticks\":\"\"},\"baxis\":{\"gridcolor\":\"white\",\"linecolor\":\"white\",\"ticks\":\"\"},\"caxis\":{\"gridcolor\":\"white\",\"linecolor\":\"white\",\"ticks\":\"\"}},\"coloraxis\":{\"colorbar\":{\"outlinewidth\":0,\"ticks\":\"\"}},\"colorscale\":{\"sequential\":[[0.0,\"#0d0887\"],[0.1111111111111111,\"#46039f\"],[0.2222222222222222,\"#7201a8\"],[0.3333333333333333,\"#9c179e\"],[0.4444444444444444,\"#bd3786\"],[0.5555555555555556,\"#d8576b\"],[0.6666666666666666,\"#ed7953\"],[0.7777777777777778,\"#fb9f3a\"],[0.8888888888888888,\"#fdca26\"],[1.0,\"#f0f921\"]],\"sequentialminus\":[[0.0,\"#0d0887\"],[0.1111111111111111,\"#46039f\"],[0.2222222222222222,\"#7201a8\"],[0.3333333333333333,\"#9c179e\"],[0.4444444444444444,\"#bd3786\"],[0.5555555555555556,\"#d8576b\"],[0.6666666666666666,\"#ed7953\"],[0.7777777777777778,\"#fb9f3a\"],[0.8888888888888888,\"#fdca26\"],[1.0,\"#f0f921\"]],\"diverging\":[[0,\"#8e0152\"],[0.1,\"#c51b7d\"],[0.2,\"#de77ae\"],[0.3,\"#f1b6da\"],[0.4,\"#fde0ef\"],[0.5,\"#f7f7f7\"],[0.6,\"#e6f5d0\"],[0.7,\"#b8e186\"],[0.8,\"#7fbc41\"],[0.9,\"#4d9221\"],[1,\"#276419\"]]},\"xaxis\":{\"gridcolor\":\"white\",\"linecolor\":\"white\",\"ticks\":\"\",\"title\":{\"standoff\":15},\"zerolinecolor\":\"white\",\"automargin\":true,\"zerolinewidth\":2},\"yaxis\":{\"gridcolor\":\"white\",\"linecolor\":\"white\",\"ticks\":\"\",\"title\":{\"standoff\":15},\"zerolinecolor\":\"white\",\"automargin\":true,\"zerolinewidth\":2},\"scene\":{\"xaxis\":{\"backgroundcolor\":\"#E5ECF6\",\"gridcolor\":\"white\",\"linecolor\":\"white\",\"showbackground\":true,\"ticks\":\"\",\"zerolinecolor\":\"white\",\"gridwidth\":2},\"yaxis\":{\"backgroundcolor\":\"#E5ECF6\",\"gridcolor\":\"white\",\"linecolor\":\"white\",\"showbackground\":true,\"ticks\":\"\",\"zerolinecolor\":\"white\",\"gridwidth\":2},\"zaxis\":{\"backgroundcolor\":\"#E5ECF6\",\"gridcolor\":\"white\",\"linecolor\":\"white\",\"showbackground\":true,\"ticks\":\"\",\"zerolinecolor\":\"white\",\"gridwidth\":2}},\"shapedefaults\":{\"line\":{\"color\":\"#2a3f5f\"}},\"annotationdefaults\":{\"arrowcolor\":\"#2a3f5f\",\"arrowhead\":0,\"arrowwidth\":1},\"geo\":{\"bgcolor\":\"white\",\"landcolor\":\"#E5ECF6\",\"subunitcolor\":\"white\",\"showland\":true,\"showlakes\":true,\"lakecolor\":\"white\"},\"title\":{\"x\":0.05},\"mapbox\":{\"style\":\"light\"}}},\"geo\":{\"domain\":{\"x\":[0.0,1.0],\"y\":[0.0,1.0]},\"center\":{}},\"coloraxis\":{\"colorbar\":{\"title\":{\"text\":\"% Change from Reference\"}},\"colorscale\":[[0.0,\"rgb(255,255,255)\"],[0.3333333333333333,\"rgb(255,210,0)\"],[0.6666666666666666,\"rgb(230,0,0)\"],[1.0,\"rgb(0,0,0)\"]],\"cmin\":0,\"cmax\":5},\"legend\":{\"tracegroupgap\":0},\"margin\":{\"t\":60},\"autosize\":false,\"width\":1000,\"height\":600,\"showlegend\":false},                        {\"responsive\": true}                    ).then(function(){\n",
       "                            \n",
       "var gd = document.getElementById('57ad496e-0adb-45bd-803a-6a000e596cf3');\n",
       "var x = new MutationObserver(function (mutations, observer) {{\n",
       "        var display = window.getComputedStyle(gd).display;\n",
       "        if (!display || display === 'none') {{\n",
       "            console.log([gd, 'removed!']);\n",
       "            Plotly.purge(gd);\n",
       "            observer.disconnect();\n",
       "        }}\n",
       "}});\n",
       "\n",
       "// Listen for the removal of the full notebook cells\n",
       "var notebookContainer = gd.closest('#notebook-container');\n",
       "if (notebookContainer) {{\n",
       "    x.observe(notebookContainer, {childList: true});\n",
       "}}\n",
       "\n",
       "// Listen for the clearing of the current output cell\n",
       "var outputEl = gd.closest('.output');\n",
       "if (outputEl) {{\n",
       "    x.observe(outputEl, {childList: true});\n",
       "}}\n",
       "\n",
       "                        })                };                });            </script>        </div>"
      ]
     },
     "metadata": {},
     "output_type": "display_data"
    }
   ],
   "source": [
    "import plotly.express as px\n",
    "\n",
    "fig = px.choropleth(merged_df, locations=\"ISO\",\n",
    "                    color=\"% Change from Reference\", # lifeExp is a column of gapminder\n",
    "                    hover_name=\"ISO\", # column to add to hover information\n",
    "                    color_continuous_scale=px.colors.sequential.Hot_r,\n",
    "                   range_color=(0, 5))\n",
    "# Update layout for the entire figure\n",
    "fig.update_layout(\n",
    "    #title_text='Deforestation Attribution by Commodity',\n",
    "    autosize=False,\n",
    "    width=1000,\n",
    "    height=600,\n",
    "    showlegend=False,\n",
    ")\n",
    "fig.show()"
   ]
  },
  {
   "cell_type": "code",
   "execution_count": null,
   "id": "7df41f8c-743f-455f-82e8-718de4a3437f",
   "metadata": {},
   "outputs": [],
   "source": []
  },
  {
   "cell_type": "code",
   "execution_count": 217,
   "id": "5f81db1b-9056-4eb5-946a-57f748dcdc8f",
   "metadata": {},
   "outputs": [
    {
     "name": "stderr",
     "output_type": "stream",
     "text": [
      "/tmp/user/1011/ipykernel_526682/4087660131.py:4: FutureWarning:\n",
      "\n",
      "The default value of numeric_only in DataFrameGroupBy.sum is deprecated. In a future version, numeric_only will default to False. Either specify numeric_only or select only columns which should be valid for the function.\n",
      "\n",
      "/tmp/user/1011/ipykernel_526682/4087660131.py:5: FutureWarning:\n",
      "\n",
      "The default value of numeric_only in DataFrameGroupBy.sum is deprecated. In a future version, numeric_only will default to False. Either specify numeric_only or select only columns which should be valid for the function.\n",
      "\n"
     ]
    }
   ],
   "source": [
    "import pandas as pd\n",
    "\n",
    "# Assuming you have your dataframes named as reference_df and s15_df\n",
    "reference_df = Reference.groupby(['ISO']).sum().reset_index()[['ISO', 'Deforestation attribution, unamortized (ha)']]\n",
    "s12_df = S12.groupby(['ISO']).sum().reset_index()[['ISO', 'Deforestation attribution, unamortized (ha)']]\n",
    "\n",
    "# Rename columns to avoid confusion during merge\n",
    "reference_df.rename(columns={'Deforestation attribution, unamortized (ha)': 'Reference Deforestation (ha)'}, inplace=True)\n",
    "s12_df.rename(columns={'Deforestation attribution, unamortized (ha)': 'S15 Deforestation (ha)'}, inplace=True)\n",
    "\n",
    "# Merge the dataframes on 'ISO'\n",
    "merged_df = pd.merge(reference_df, s12_df, on='ISO', how='inner')\n",
    "\n",
    "# Calculate the percentage change\n",
    "merged_df['% Change from Reference'] = ((merged_df['S15 Deforestation (ha)'] - merged_df['Reference Deforestation (ha)']) / merged_df['Reference Deforestation (ha)']) * 100\n",
    "\n",
    "# Handle cases where Reference Deforestation is 0 to avoid division by zero\n",
    "merged_df['% Change from Reference'] = merged_df['% Change from Reference'].replace([float('inf'), -float('inf')], None)\n"
   ]
  },
  {
   "cell_type": "code",
   "execution_count": 222,
   "id": "6cf7336a-25a5-49c6-9c02-2281542182d8",
   "metadata": {},
   "outputs": [
    {
     "data": {
      "application/vnd.plotly.v1+json": {
       "config": {
        "plotlyServerURL": "https://plot.ly"
       },
       "data": [
        {
         "coloraxis": "coloraxis",
         "geo": "geo",
         "hovertemplate": "<b>%{hovertext}</b><br><br>ISO=%{location}<br>% Change from Reference=%{z}<extra></extra>",
         "hovertext": [
          "AFG",
          "AGO",
          "ALB",
          "ARG",
          "ARM",
          "ATG",
          "AUS",
          "AUT",
          "AZE",
          "BDI",
          "BEL",
          "BEN",
          "BFA",
          "BGD",
          "BGR",
          "BHS",
          "BIH",
          "BLR",
          "BLZ",
          "BOL",
          "BRA",
          "BRB",
          "BRN",
          "BTN",
          "BWA",
          "CAF",
          "CAN",
          "CHE",
          "CHL",
          "CHN",
          "CIV",
          "CMR",
          "COD",
          "COG",
          "COL",
          "COM",
          "CPV",
          "CRI",
          "CUB",
          "CYP",
          "CZE",
          "DEU",
          "DMA",
          "DNK",
          "DOM",
          "DZA",
          "ECU",
          "EGY",
          "ERI",
          "ESP",
          "EST",
          "ETH",
          "FIN",
          "FJI",
          "FRA",
          "FSM",
          "GAB",
          "GBR",
          "GEO",
          "GHA",
          "GIN",
          "GMB",
          "GNB",
          "GNQ",
          "GRC",
          "GRD",
          "GTM",
          "GUY",
          "HND",
          "HRV",
          "HTI",
          "HUN",
          "IDN",
          "IND",
          "IRL",
          "IRN",
          "IRQ",
          "ISR",
          "ITA",
          "JAM",
          "JOR",
          "JPN",
          "KAZ",
          "KEN",
          "KGZ",
          "KHM",
          "KNA",
          "KOR",
          "LAO",
          "LBN",
          "LBR",
          "LBY",
          "LCA",
          "LKA",
          "LSO",
          "LTU",
          "LUX",
          "LVA",
          "MAR",
          "MDA",
          "MDG",
          "MDV",
          "MEX",
          "MKD",
          "MLI",
          "MLT",
          "MMR",
          "MNE",
          "MNG",
          "MOZ",
          "MRT",
          "MUS",
          "MWI",
          "MYS",
          "NAM",
          "NCL",
          "NER",
          "NGA",
          "NIC",
          "NLD",
          "NOR",
          "NPL",
          "NZL",
          "OMN",
          "PAK",
          "PAN",
          "PER",
          "PHL",
          "PNG",
          "POL",
          "PRI",
          "PRK",
          "PRT",
          "PRY",
          "PSE",
          "ROU",
          "RUS",
          "RWA",
          "SDN",
          "SDN and SSD",
          "SEN",
          "SGP",
          "SLB",
          "SLE",
          "SLV",
          "SOM",
          "SRB",
          "SRB and MNE",
          "SSD",
          "STP",
          "SUR",
          "SVK",
          "SVN",
          "SWE",
          "SWZ",
          "SYC",
          "SYR",
          "TCD",
          "TGO",
          "THA",
          "TJK",
          "TKM",
          "TLS",
          "TTO",
          "TUN",
          "TUR",
          "TWN",
          "TZA",
          "UGA",
          "UKR",
          "URY",
          "USA",
          "UZB",
          "VCT",
          "VEN",
          "VNM",
          "VUT",
          "YEM",
          "ZAF",
          "ZMB",
          "ZWE"
         ],
         "locations": [
          "AFG",
          "AGO",
          "ALB",
          "ARG",
          "ARM",
          "ATG",
          "AUS",
          "AUT",
          "AZE",
          "BDI",
          "BEL",
          "BEN",
          "BFA",
          "BGD",
          "BGR",
          "BHS",
          "BIH",
          "BLR",
          "BLZ",
          "BOL",
          "BRA",
          "BRB",
          "BRN",
          "BTN",
          "BWA",
          "CAF",
          "CAN",
          "CHE",
          "CHL",
          "CHN",
          "CIV",
          "CMR",
          "COD",
          "COG",
          "COL",
          "COM",
          "CPV",
          "CRI",
          "CUB",
          "CYP",
          "CZE",
          "DEU",
          "DMA",
          "DNK",
          "DOM",
          "DZA",
          "ECU",
          "EGY",
          "ERI",
          "ESP",
          "EST",
          "ETH",
          "FIN",
          "FJI",
          "FRA",
          "FSM",
          "GAB",
          "GBR",
          "GEO",
          "GHA",
          "GIN",
          "GMB",
          "GNB",
          "GNQ",
          "GRC",
          "GRD",
          "GTM",
          "GUY",
          "HND",
          "HRV",
          "HTI",
          "HUN",
          "IDN",
          "IND",
          "IRL",
          "IRN",
          "IRQ",
          "ISR",
          "ITA",
          "JAM",
          "JOR",
          "JPN",
          "KAZ",
          "KEN",
          "KGZ",
          "KHM",
          "KNA",
          "KOR",
          "LAO",
          "LBN",
          "LBR",
          "LBY",
          "LCA",
          "LKA",
          "LSO",
          "LTU",
          "LUX",
          "LVA",
          "MAR",
          "MDA",
          "MDG",
          "MDV",
          "MEX",
          "MKD",
          "MLI",
          "MLT",
          "MMR",
          "MNE",
          "MNG",
          "MOZ",
          "MRT",
          "MUS",
          "MWI",
          "MYS",
          "NAM",
          "NCL",
          "NER",
          "NGA",
          "NIC",
          "NLD",
          "NOR",
          "NPL",
          "NZL",
          "OMN",
          "PAK",
          "PAN",
          "PER",
          "PHL",
          "PNG",
          "POL",
          "PRI",
          "PRK",
          "PRT",
          "PRY",
          "PSE",
          "ROU",
          "RUS",
          "RWA",
          "SDN",
          "SDN and SSD",
          "SEN",
          "SGP",
          "SLB",
          "SLE",
          "SLV",
          "SOM",
          "SRB",
          "SRB and MNE",
          "SSD",
          "STP",
          "SUR",
          "SVK",
          "SVN",
          "SWE",
          "SWZ",
          "SYC",
          "SYR",
          "TCD",
          "TGO",
          "THA",
          "TJK",
          "TKM",
          "TLS",
          "TTO",
          "TUN",
          "TUR",
          "TWN",
          "TZA",
          "UGA",
          "UKR",
          "URY",
          "USA",
          "UZB",
          "VCT",
          "VEN",
          "VNM",
          "VUT",
          "YEM",
          "ZAF",
          "ZMB",
          "ZWE"
         ],
         "name": "",
         "type": "choropleth",
         "z": [
          221.4538662059519,
          93.98928440915094,
          52.35931781214684,
          32.74056885075902,
          25.45971127629631,
          11.32210113857587,
          90.83945636649796,
          19.104312573015108,
          63.67587588995314,
          251.86887134136614,
          193.9488830507131,
          211.59098006589448,
          102.32692769685248,
          1354.781855833159,
          4.875129061801298,
          88.55945463606079,
          8.907284546751946,
          -40.769973087953794,
          15.214521331337416,
          -20.15625190905834,
          73.87038019465922,
          77.90115751099604,
          83.80371916039712,
          92.17579507749961,
          8.68328947167461,
          -0.9293466493535886,
          73.67960292324697,
          2.0118655381080957,
          158.4937251076932,
          15.154770624213882,
          -1.4281178588282346,
          0.681844607310993,
          0.44234734448634283,
          176.1885627602155,
          17.643616723183108,
          240.10347764194032,
          26.64938654953139,
          10.105588278914594,
          264.4387835928624,
          621.9466754548752,
          -12.209808958957659,
          -22.44035242382646,
          108.9358753113836,
          132.84180578078744,
          482.83690038556995,
          2363.486946567913,
          82.1296310101614,
          8.005193596577135,
          54.543835073689785,
          5.656612497095263,
          -7.528554237921107,
          178.97702976697164,
          -48.41654597063657,
          57.254220314148,
          46.46705371200934,
          0,
          -0.13007632991566184,
          -3.0153430237763885,
          58.9716913563891,
          1.2249740683120873,
          109.8776650219426,
          88.61427368812727,
          504.6500777441035,
          28.20796064951753,
          31.802716104037067,
          218.91957438542434,
          6.894534949325648,
          174.41458679939245,
          3.3932590528766653,
          6.205656326980618,
          478.92242050457,
          93.18129240582314,
          59.32738502001096,
          3.8502432865990164,
          68.5048663777136,
          34.77546064444606,
          16.640945670256777,
          -13.059241707976172,
          3.906389211006463,
          122.96634620426387,
          149.7785805502862,
          -1.697045141080643,
          28.141681785989785,
          8.29049361823362,
          97.21834261092675,
          2.7075179021400575,
          7.539120953062277,
          31.23138205404144,
          138.36935617866104,
          3.4351285994476495,
          -3.4128894765045397,
          162.5805811338551,
          151.60290032576745,
          -8.620516657148162,
          2.466210858276753,
          -35.5742307009527,
          63.670649423696965,
          -5.758804313646901,
          750.0305507935919,
          -3.209426346178168,
          29.32652828684312,
          0,
          5.018985609433734,
          14.490215167191847,
          162.52642606634143,
          13.553384795416346,
          5.0170064737323425,
          25.412347822759628,
          397.03664633447636,
          231.54196369210757,
          3.6578316370331723,
          51.94803574564063,
          14.949612560277581,
          -11.136352450655082,
          14.042325245561516,
          80.96304351397563,
          17.576666399910128,
          0.2859279121728706,
          0.3029225339583434,
          -6.956095202461252,
          0.07050885608699778,
          9.157429779442532,
          19.116580931531825,
          0,
          148.4516857859657,
          0.37189498764401585,
          45.727701096749875,
          19.424998445004263,
          4.779444211928667,
          -31.132469611232732,
          336.991597440377,
          146.5260093223185,
          0.50368132322964,
          -53.24989154777682,
          19.952298598418746,
          17.586637009760132,
          155.6547243048915,
          28.120131000784237,
          6.426409375188791,
          82.49330395866788,
          687.4407751173237,
          -43.26504435033219,
          0.06449078948285457,
          559.9629915428745,
          235.31969174642327,
          52.884330274285205,
          15.469089356431038,
          13.258909140604533,
          104.65887164984879,
          -19.871902745867864,
          168.58222790894513,
          -7.253650827576889,
          -19.232923809788186,
          -6.078192066709405,
          179.5487282575938,
          10.867223789678183,
          1111.01404525526,
          79.92138087635313,
          479.4329236721915,
          6.090276662906489,
          25.00093600429585,
          44.93818721907575,
          293.96053222821956,
          300.21159627282515,
          1208.2747472696033,
          265.09873581098327,
          383.4849833208644,
          223.91933196709917,
          84.67333256346136,
          -7.21835969635468,
          499.48989643083985,
          2.034894145893677,
          35.01237285869397,
          13.805475996228456,
          75.36751161965476,
          17.650259229298296,
          36.60298411045372,
          0,
          78.65956275134016,
          47.79087563534846,
          121.1306301766083
         ]
        }
       ],
       "layout": {
        "autosize": false,
        "coloraxis": {
         "cmax": 100,
         "cmin": 0,
         "colorbar": {
          "title": {
           "text": "% Change from Reference"
          }
         },
         "colorscale": [
          [
           0,
           "rgb(255,255,255)"
          ],
          [
           0.3333333333333333,
           "rgb(255,210,0)"
          ],
          [
           0.6666666666666666,
           "rgb(230,0,0)"
          ],
          [
           1,
           "rgb(0, 0, 0)"
          ]
         ]
        },
        "geo": {
         "center": {},
         "domain": {
          "x": [
           0,
           1
          ],
          "y": [
           0,
           1
          ]
         }
        },
        "height": 600,
        "legend": {
         "tracegroupgap": 0
        },
        "margin": {
         "t": 60
        },
        "showlegend": false,
        "template": {
         "data": {
          "bar": [
           {
            "error_x": {
             "color": "#2a3f5f"
            },
            "error_y": {
             "color": "#2a3f5f"
            },
            "marker": {
             "line": {
              "color": "#E5ECF6",
              "width": 0.5
             },
             "pattern": {
              "fillmode": "overlay",
              "size": 10,
              "solidity": 0.2
             }
            },
            "type": "bar"
           }
          ],
          "barpolar": [
           {
            "marker": {
             "line": {
              "color": "#E5ECF6",
              "width": 0.5
             },
             "pattern": {
              "fillmode": "overlay",
              "size": 10,
              "solidity": 0.2
             }
            },
            "type": "barpolar"
           }
          ],
          "carpet": [
           {
            "aaxis": {
             "endlinecolor": "#2a3f5f",
             "gridcolor": "white",
             "linecolor": "white",
             "minorgridcolor": "white",
             "startlinecolor": "#2a3f5f"
            },
            "baxis": {
             "endlinecolor": "#2a3f5f",
             "gridcolor": "white",
             "linecolor": "white",
             "minorgridcolor": "white",
             "startlinecolor": "#2a3f5f"
            },
            "type": "carpet"
           }
          ],
          "choropleth": [
           {
            "colorbar": {
             "outlinewidth": 0,
             "ticks": ""
            },
            "type": "choropleth"
           }
          ],
          "contour": [
           {
            "colorbar": {
             "outlinewidth": 0,
             "ticks": ""
            },
            "colorscale": [
             [
              0,
              "#0d0887"
             ],
             [
              0.1111111111111111,
              "#46039f"
             ],
             [
              0.2222222222222222,
              "#7201a8"
             ],
             [
              0.3333333333333333,
              "#9c179e"
             ],
             [
              0.4444444444444444,
              "#bd3786"
             ],
             [
              0.5555555555555556,
              "#d8576b"
             ],
             [
              0.6666666666666666,
              "#ed7953"
             ],
             [
              0.7777777777777778,
              "#fb9f3a"
             ],
             [
              0.8888888888888888,
              "#fdca26"
             ],
             [
              1,
              "#f0f921"
             ]
            ],
            "type": "contour"
           }
          ],
          "contourcarpet": [
           {
            "colorbar": {
             "outlinewidth": 0,
             "ticks": ""
            },
            "type": "contourcarpet"
           }
          ],
          "heatmap": [
           {
            "colorbar": {
             "outlinewidth": 0,
             "ticks": ""
            },
            "colorscale": [
             [
              0,
              "#0d0887"
             ],
             [
              0.1111111111111111,
              "#46039f"
             ],
             [
              0.2222222222222222,
              "#7201a8"
             ],
             [
              0.3333333333333333,
              "#9c179e"
             ],
             [
              0.4444444444444444,
              "#bd3786"
             ],
             [
              0.5555555555555556,
              "#d8576b"
             ],
             [
              0.6666666666666666,
              "#ed7953"
             ],
             [
              0.7777777777777778,
              "#fb9f3a"
             ],
             [
              0.8888888888888888,
              "#fdca26"
             ],
             [
              1,
              "#f0f921"
             ]
            ],
            "type": "heatmap"
           }
          ],
          "heatmapgl": [
           {
            "colorbar": {
             "outlinewidth": 0,
             "ticks": ""
            },
            "colorscale": [
             [
              0,
              "#0d0887"
             ],
             [
              0.1111111111111111,
              "#46039f"
             ],
             [
              0.2222222222222222,
              "#7201a8"
             ],
             [
              0.3333333333333333,
              "#9c179e"
             ],
             [
              0.4444444444444444,
              "#bd3786"
             ],
             [
              0.5555555555555556,
              "#d8576b"
             ],
             [
              0.6666666666666666,
              "#ed7953"
             ],
             [
              0.7777777777777778,
              "#fb9f3a"
             ],
             [
              0.8888888888888888,
              "#fdca26"
             ],
             [
              1,
              "#f0f921"
             ]
            ],
            "type": "heatmapgl"
           }
          ],
          "histogram": [
           {
            "marker": {
             "pattern": {
              "fillmode": "overlay",
              "size": 10,
              "solidity": 0.2
             }
            },
            "type": "histogram"
           }
          ],
          "histogram2d": [
           {
            "colorbar": {
             "outlinewidth": 0,
             "ticks": ""
            },
            "colorscale": [
             [
              0,
              "#0d0887"
             ],
             [
              0.1111111111111111,
              "#46039f"
             ],
             [
              0.2222222222222222,
              "#7201a8"
             ],
             [
              0.3333333333333333,
              "#9c179e"
             ],
             [
              0.4444444444444444,
              "#bd3786"
             ],
             [
              0.5555555555555556,
              "#d8576b"
             ],
             [
              0.6666666666666666,
              "#ed7953"
             ],
             [
              0.7777777777777778,
              "#fb9f3a"
             ],
             [
              0.8888888888888888,
              "#fdca26"
             ],
             [
              1,
              "#f0f921"
             ]
            ],
            "type": "histogram2d"
           }
          ],
          "histogram2dcontour": [
           {
            "colorbar": {
             "outlinewidth": 0,
             "ticks": ""
            },
            "colorscale": [
             [
              0,
              "#0d0887"
             ],
             [
              0.1111111111111111,
              "#46039f"
             ],
             [
              0.2222222222222222,
              "#7201a8"
             ],
             [
              0.3333333333333333,
              "#9c179e"
             ],
             [
              0.4444444444444444,
              "#bd3786"
             ],
             [
              0.5555555555555556,
              "#d8576b"
             ],
             [
              0.6666666666666666,
              "#ed7953"
             ],
             [
              0.7777777777777778,
              "#fb9f3a"
             ],
             [
              0.8888888888888888,
              "#fdca26"
             ],
             [
              1,
              "#f0f921"
             ]
            ],
            "type": "histogram2dcontour"
           }
          ],
          "mesh3d": [
           {
            "colorbar": {
             "outlinewidth": 0,
             "ticks": ""
            },
            "type": "mesh3d"
           }
          ],
          "parcoords": [
           {
            "line": {
             "colorbar": {
              "outlinewidth": 0,
              "ticks": ""
             }
            },
            "type": "parcoords"
           }
          ],
          "pie": [
           {
            "automargin": true,
            "type": "pie"
           }
          ],
          "scatter": [
           {
            "fillpattern": {
             "fillmode": "overlay",
             "size": 10,
             "solidity": 0.2
            },
            "type": "scatter"
           }
          ],
          "scatter3d": [
           {
            "line": {
             "colorbar": {
              "outlinewidth": 0,
              "ticks": ""
             }
            },
            "marker": {
             "colorbar": {
              "outlinewidth": 0,
              "ticks": ""
             }
            },
            "type": "scatter3d"
           }
          ],
          "scattercarpet": [
           {
            "marker": {
             "colorbar": {
              "outlinewidth": 0,
              "ticks": ""
             }
            },
            "type": "scattercarpet"
           }
          ],
          "scattergeo": [
           {
            "marker": {
             "colorbar": {
              "outlinewidth": 0,
              "ticks": ""
             }
            },
            "type": "scattergeo"
           }
          ],
          "scattergl": [
           {
            "marker": {
             "colorbar": {
              "outlinewidth": 0,
              "ticks": ""
             }
            },
            "type": "scattergl"
           }
          ],
          "scattermapbox": [
           {
            "marker": {
             "colorbar": {
              "outlinewidth": 0,
              "ticks": ""
             }
            },
            "type": "scattermapbox"
           }
          ],
          "scatterpolar": [
           {
            "marker": {
             "colorbar": {
              "outlinewidth": 0,
              "ticks": ""
             }
            },
            "type": "scatterpolar"
           }
          ],
          "scatterpolargl": [
           {
            "marker": {
             "colorbar": {
              "outlinewidth": 0,
              "ticks": ""
             }
            },
            "type": "scatterpolargl"
           }
          ],
          "scatterternary": [
           {
            "marker": {
             "colorbar": {
              "outlinewidth": 0,
              "ticks": ""
             }
            },
            "type": "scatterternary"
           }
          ],
          "surface": [
           {
            "colorbar": {
             "outlinewidth": 0,
             "ticks": ""
            },
            "colorscale": [
             [
              0,
              "#0d0887"
             ],
             [
              0.1111111111111111,
              "#46039f"
             ],
             [
              0.2222222222222222,
              "#7201a8"
             ],
             [
              0.3333333333333333,
              "#9c179e"
             ],
             [
              0.4444444444444444,
              "#bd3786"
             ],
             [
              0.5555555555555556,
              "#d8576b"
             ],
             [
              0.6666666666666666,
              "#ed7953"
             ],
             [
              0.7777777777777778,
              "#fb9f3a"
             ],
             [
              0.8888888888888888,
              "#fdca26"
             ],
             [
              1,
              "#f0f921"
             ]
            ],
            "type": "surface"
           }
          ],
          "table": [
           {
            "cells": {
             "fill": {
              "color": "#EBF0F8"
             },
             "line": {
              "color": "white"
             }
            },
            "header": {
             "fill": {
              "color": "#C8D4E3"
             },
             "line": {
              "color": "white"
             }
            },
            "type": "table"
           }
          ]
         },
         "layout": {
          "annotationdefaults": {
           "arrowcolor": "#2a3f5f",
           "arrowhead": 0,
           "arrowwidth": 1
          },
          "autotypenumbers": "strict",
          "coloraxis": {
           "colorbar": {
            "outlinewidth": 0,
            "ticks": ""
           }
          },
          "colorscale": {
           "diverging": [
            [
             0,
             "#8e0152"
            ],
            [
             0.1,
             "#c51b7d"
            ],
            [
             0.2,
             "#de77ae"
            ],
            [
             0.3,
             "#f1b6da"
            ],
            [
             0.4,
             "#fde0ef"
            ],
            [
             0.5,
             "#f7f7f7"
            ],
            [
             0.6,
             "#e6f5d0"
            ],
            [
             0.7,
             "#b8e186"
            ],
            [
             0.8,
             "#7fbc41"
            ],
            [
             0.9,
             "#4d9221"
            ],
            [
             1,
             "#276419"
            ]
           ],
           "sequential": [
            [
             0,
             "#0d0887"
            ],
            [
             0.1111111111111111,
             "#46039f"
            ],
            [
             0.2222222222222222,
             "#7201a8"
            ],
            [
             0.3333333333333333,
             "#9c179e"
            ],
            [
             0.4444444444444444,
             "#bd3786"
            ],
            [
             0.5555555555555556,
             "#d8576b"
            ],
            [
             0.6666666666666666,
             "#ed7953"
            ],
            [
             0.7777777777777778,
             "#fb9f3a"
            ],
            [
             0.8888888888888888,
             "#fdca26"
            ],
            [
             1,
             "#f0f921"
            ]
           ],
           "sequentialminus": [
            [
             0,
             "#0d0887"
            ],
            [
             0.1111111111111111,
             "#46039f"
            ],
            [
             0.2222222222222222,
             "#7201a8"
            ],
            [
             0.3333333333333333,
             "#9c179e"
            ],
            [
             0.4444444444444444,
             "#bd3786"
            ],
            [
             0.5555555555555556,
             "#d8576b"
            ],
            [
             0.6666666666666666,
             "#ed7953"
            ],
            [
             0.7777777777777778,
             "#fb9f3a"
            ],
            [
             0.8888888888888888,
             "#fdca26"
            ],
            [
             1,
             "#f0f921"
            ]
           ]
          },
          "colorway": [
           "#636efa",
           "#EF553B",
           "#00cc96",
           "#ab63fa",
           "#FFA15A",
           "#19d3f3",
           "#FF6692",
           "#B6E880",
           "#FF97FF",
           "#FECB52"
          ],
          "font": {
           "color": "#2a3f5f"
          },
          "geo": {
           "bgcolor": "white",
           "lakecolor": "white",
           "landcolor": "#E5ECF6",
           "showlakes": true,
           "showland": true,
           "subunitcolor": "white"
          },
          "hoverlabel": {
           "align": "left"
          },
          "hovermode": "closest",
          "mapbox": {
           "style": "light"
          },
          "paper_bgcolor": "white",
          "plot_bgcolor": "#E5ECF6",
          "polar": {
           "angularaxis": {
            "gridcolor": "white",
            "linecolor": "white",
            "ticks": ""
           },
           "bgcolor": "#E5ECF6",
           "radialaxis": {
            "gridcolor": "white",
            "linecolor": "white",
            "ticks": ""
           }
          },
          "scene": {
           "xaxis": {
            "backgroundcolor": "#E5ECF6",
            "gridcolor": "white",
            "gridwidth": 2,
            "linecolor": "white",
            "showbackground": true,
            "ticks": "",
            "zerolinecolor": "white"
           },
           "yaxis": {
            "backgroundcolor": "#E5ECF6",
            "gridcolor": "white",
            "gridwidth": 2,
            "linecolor": "white",
            "showbackground": true,
            "ticks": "",
            "zerolinecolor": "white"
           },
           "zaxis": {
            "backgroundcolor": "#E5ECF6",
            "gridcolor": "white",
            "gridwidth": 2,
            "linecolor": "white",
            "showbackground": true,
            "ticks": "",
            "zerolinecolor": "white"
           }
          },
          "shapedefaults": {
           "line": {
            "color": "#2a3f5f"
           }
          },
          "ternary": {
           "aaxis": {
            "gridcolor": "white",
            "linecolor": "white",
            "ticks": ""
           },
           "baxis": {
            "gridcolor": "white",
            "linecolor": "white",
            "ticks": ""
           },
           "bgcolor": "#E5ECF6",
           "caxis": {
            "gridcolor": "white",
            "linecolor": "white",
            "ticks": ""
           }
          },
          "title": {
           "x": 0.05
          },
          "xaxis": {
           "automargin": true,
           "gridcolor": "white",
           "linecolor": "white",
           "ticks": "",
           "title": {
            "standoff": 15
           },
           "zerolinecolor": "white",
           "zerolinewidth": 2
          },
          "yaxis": {
           "automargin": true,
           "gridcolor": "white",
           "linecolor": "white",
           "ticks": "",
           "title": {
            "standoff": 15
           },
           "zerolinecolor": "white",
           "zerolinewidth": 2
          }
         }
        },
        "width": 1000
       }
      },
      "image/png": "[encoded data removed]",
      "text/html": [
       "<div>                            <div id=\"dc5a6f2e-31c0-459f-8f0f-e8ee60457c43\" class=\"plotly-graph-div\" style=\"height:600px; width:1000px;\"></div>            <script type=\"text/javascript\">                require([\"plotly\"], function(Plotly) {                    window.PLOTLYENV=window.PLOTLYENV || {};                                    if (document.getElementById(\"dc5a6f2e-31c0-459f-8f0f-e8ee60457c43\")) {                    Plotly.newPlot(                        \"dc5a6f2e-31c0-459f-8f0f-e8ee60457c43\",                        [{\"coloraxis\":\"coloraxis\",\"geo\":\"geo\",\"hovertemplate\":\"<b>%{hovertext}</b><br><br>ISO=%{location}<br>% Change from Reference=%{z}<extra></extra>\",\"hovertext\":[\"AFG\",\"AGO\",\"ALB\",\"ARG\",\"ARM\",\"ATG\",\"AUS\",\"AUT\",\"AZE\",\"BDI\",\"BEL\",\"BEN\",\"BFA\",\"BGD\",\"BGR\",\"BHS\",\"BIH\",\"BLR\",\"BLZ\",\"BOL\",\"BRA\",\"BRB\",\"BRN\",\"BTN\",\"BWA\",\"CAF\",\"CAN\",\"CHE\",\"CHL\",\"CHN\",\"CIV\",\"CMR\",\"COD\",\"COG\",\"COL\",\"COM\",\"CPV\",\"CRI\",\"CUB\",\"CYP\",\"CZE\",\"DEU\",\"DMA\",\"DNK\",\"DOM\",\"DZA\",\"ECU\",\"EGY\",\"ERI\",\"ESP\",\"EST\",\"ETH\",\"FIN\",\"FJI\",\"FRA\",\"FSM\",\"GAB\",\"GBR\",\"GEO\",\"GHA\",\"GIN\",\"GMB\",\"GNB\",\"GNQ\",\"GRC\",\"GRD\",\"GTM\",\"GUY\",\"HND\",\"HRV\",\"HTI\",\"HUN\",\"IDN\",\"IND\",\"IRL\",\"IRN\",\"IRQ\",\"ISR\",\"ITA\",\"JAM\",\"JOR\",\"JPN\",\"KAZ\",\"KEN\",\"KGZ\",\"KHM\",\"KNA\",\"KOR\",\"LAO\",\"LBN\",\"LBR\",\"LBY\",\"LCA\",\"LKA\",\"LSO\",\"LTU\",\"LUX\",\"LVA\",\"MAR\",\"MDA\",\"MDG\",\"MDV\",\"MEX\",\"MKD\",\"MLI\",\"MLT\",\"MMR\",\"MNE\",\"MNG\",\"MOZ\",\"MRT\",\"MUS\",\"MWI\",\"MYS\",\"NAM\",\"NCL\",\"NER\",\"NGA\",\"NIC\",\"NLD\",\"NOR\",\"NPL\",\"NZL\",\"OMN\",\"PAK\",\"PAN\",\"PER\",\"PHL\",\"PNG\",\"POL\",\"PRI\",\"PRK\",\"PRT\",\"PRY\",\"PSE\",\"ROU\",\"RUS\",\"RWA\",\"SDN\",\"SDN and SSD\",\"SEN\",\"SGP\",\"SLB\",\"SLE\",\"SLV\",\"SOM\",\"SRB\",\"SRB and MNE\",\"SSD\",\"STP\",\"SUR\",\"SVK\",\"SVN\",\"SWE\",\"SWZ\",\"SYC\",\"SYR\",\"TCD\",\"TGO\",\"THA\",\"TJK\",\"TKM\",\"TLS\",\"TTO\",\"TUN\",\"TUR\",\"TWN\",\"TZA\",\"UGA\",\"UKR\",\"URY\",\"USA\",\"UZB\",\"VCT\",\"VEN\",\"VNM\",\"VUT\",\"YEM\",\"ZAF\",\"ZMB\",\"ZWE\"],\"locations\":[\"AFG\",\"AGO\",\"ALB\",\"ARG\",\"ARM\",\"ATG\",\"AUS\",\"AUT\",\"AZE\",\"BDI\",\"BEL\",\"BEN\",\"BFA\",\"BGD\",\"BGR\",\"BHS\",\"BIH\",\"BLR\",\"BLZ\",\"BOL\",\"BRA\",\"BRB\",\"BRN\",\"BTN\",\"BWA\",\"CAF\",\"CAN\",\"CHE\",\"CHL\",\"CHN\",\"CIV\",\"CMR\",\"COD\",\"COG\",\"COL\",\"COM\",\"CPV\",\"CRI\",\"CUB\",\"CYP\",\"CZE\",\"DEU\",\"DMA\",\"DNK\",\"DOM\",\"DZA\",\"ECU\",\"EGY\",\"ERI\",\"ESP\",\"EST\",\"ETH\",\"FIN\",\"FJI\",\"FRA\",\"FSM\",\"GAB\",\"GBR\",\"GEO\",\"GHA\",\"GIN\",\"GMB\",\"GNB\",\"GNQ\",\"GRC\",\"GRD\",\"GTM\",\"GUY\",\"HND\",\"HRV\",\"HTI\",\"HUN\",\"IDN\",\"IND\",\"IRL\",\"IRN\",\"IRQ\",\"ISR\",\"ITA\",\"JAM\",\"JOR\",\"JPN\",\"KAZ\",\"KEN\",\"KGZ\",\"KHM\",\"KNA\",\"KOR\",\"LAO\",\"LBN\",\"LBR\",\"LBY\",\"LCA\",\"LKA\",\"LSO\",\"LTU\",\"LUX\",\"LVA\",\"MAR\",\"MDA\",\"MDG\",\"MDV\",\"MEX\",\"MKD\",\"MLI\",\"MLT\",\"MMR\",\"MNE\",\"MNG\",\"MOZ\",\"MRT\",\"MUS\",\"MWI\",\"MYS\",\"NAM\",\"NCL\",\"NER\",\"NGA\",\"NIC\",\"NLD\",\"NOR\",\"NPL\",\"NZL\",\"OMN\",\"PAK\",\"PAN\",\"PER\",\"PHL\",\"PNG\",\"POL\",\"PRI\",\"PRK\",\"PRT\",\"PRY\",\"PSE\",\"ROU\",\"RUS\",\"RWA\",\"SDN\",\"SDN and SSD\",\"SEN\",\"SGP\",\"SLB\",\"SLE\",\"SLV\",\"SOM\",\"SRB\",\"SRB and MNE\",\"SSD\",\"STP\",\"SUR\",\"SVK\",\"SVN\",\"SWE\",\"SWZ\",\"SYC\",\"SYR\",\"TCD\",\"TGO\",\"THA\",\"TJK\",\"TKM\",\"TLS\",\"TTO\",\"TUN\",\"TUR\",\"TWN\",\"TZA\",\"UGA\",\"UKR\",\"URY\",\"USA\",\"UZB\",\"VCT\",\"VEN\",\"VNM\",\"VUT\",\"YEM\",\"ZAF\",\"ZMB\",\"ZWE\"],\"name\":\"\",\"z\":[221.4538662059519,93.98928440915094,52.35931781214684,32.74056885075902,25.45971127629631,11.32210113857587,90.83945636649796,19.104312573015108,63.67587588995314,251.86887134136614,193.9488830507131,211.59098006589448,102.32692769685248,1354.781855833159,4.875129061801298,88.55945463606079,8.907284546751946,-40.769973087953794,15.214521331337416,-20.15625190905834,73.87038019465922,77.90115751099604,83.80371916039712,92.17579507749961,8.68328947167461,-0.9293466493535886,73.67960292324697,2.0118655381080957,158.4937251076932,15.154770624213882,-1.4281178588282346,0.681844607310993,0.44234734448634283,176.1885627602155,17.643616723183108,240.10347764194032,26.64938654953139,10.105588278914594,264.4387835928624,621.9466754548752,-12.209808958957659,-22.44035242382646,108.9358753113836,132.84180578078744,482.83690038556995,2363.486946567913,82.1296310101614,8.005193596577135,54.543835073689785,5.656612497095263,-7.528554237921107,178.97702976697164,-48.41654597063657,57.254220314148,46.46705371200934,0.0,-0.13007632991566184,-3.0153430237763885,58.9716913563891,1.2249740683120873,109.8776650219426,88.61427368812727,504.6500777441035,28.20796064951753,31.802716104037067,218.91957438542434,6.894534949325648,174.41458679939245,3.3932590528766653,6.205656326980618,478.92242050457,93.18129240582314,59.32738502001096,3.8502432865990164,68.5048663777136,34.77546064444606,16.640945670256777,-13.059241707976172,3.906389211006463,122.96634620426387,149.7785805502862,-1.697045141080643,28.141681785989785,8.29049361823362,97.21834261092675,2.7075179021400575,7.539120953062277,31.23138205404144,138.36935617866104,3.4351285994476495,-3.4128894765045397,162.5805811338551,151.60290032576745,-8.620516657148162,2.466210858276753,-35.5742307009527,63.670649423696965,-5.758804313646901,750.0305507935919,-3.209426346178168,29.32652828684312,0.0,5.018985609433734,14.490215167191847,162.52642606634143,13.553384795416346,5.0170064737323425,25.412347822759628,397.03664633447636,231.54196369210757,3.6578316370331723,51.94803574564063,14.949612560277581,-11.136352450655082,14.042325245561516,80.96304351397563,17.576666399910128,0.2859279121728706,0.3029225339583434,-6.956095202461252,0.07050885608699778,9.157429779442532,19.116580931531825,0.0,148.4516857859657,0.37189498764401585,45.727701096749875,19.424998445004263,4.779444211928667,-31.132469611232732,336.991597440377,146.5260093223185,0.50368132322964,-53.24989154777682,19.952298598418746,17.586637009760132,155.6547243048915,28.120131000784237,6.426409375188791,82.49330395866788,687.4407751173237,-43.26504435033219,0.06449078948285457,559.9629915428745,235.31969174642327,52.884330274285205,15.469089356431038,13.258909140604533,104.65887164984879,-19.871902745867864,168.58222790894513,-7.253650827576889,-19.232923809788186,-6.078192066709405,179.5487282575938,10.867223789678183,1111.01404525526,79.92138087635313,479.4329236721915,6.090276662906489,25.00093600429585,44.93818721907575,293.96053222821956,300.21159627282515,1208.2747472696033,265.09873581098327,383.4849833208644,223.91933196709917,84.67333256346136,-7.21835969635468,499.48989643083985,2.034894145893677,35.01237285869397,13.805475996228456,75.36751161965476,17.650259229298296,36.60298411045372,0.0,78.65956275134016,47.79087563534846,121.1306301766083],\"type\":\"choropleth\"}],                        {\"template\":{\"data\":{\"histogram2dcontour\":[{\"type\":\"histogram2dcontour\",\"colorbar\":{\"outlinewidth\":0,\"ticks\":\"\"},\"colorscale\":[[0.0,\"#0d0887\"],[0.1111111111111111,\"#46039f\"],[0.2222222222222222,\"#7201a8\"],[0.3333333333333333,\"#9c179e\"],[0.4444444444444444,\"#bd3786\"],[0.5555555555555556,\"#d8576b\"],[0.6666666666666666,\"#ed7953\"],[0.7777777777777778,\"#fb9f3a\"],[0.8888888888888888,\"#fdca26\"],[1.0,\"#f0f921\"]]}],\"choropleth\":[{\"type\":\"choropleth\",\"colorbar\":{\"outlinewidth\":0,\"ticks\":\"\"}}],\"histogram2d\":[{\"type\":\"histogram2d\",\"colorbar\":{\"outlinewidth\":0,\"ticks\":\"\"},\"colorscale\":[[0.0,\"#0d0887\"],[0.1111111111111111,\"#46039f\"],[0.2222222222222222,\"#7201a8\"],[0.3333333333333333,\"#9c179e\"],[0.4444444444444444,\"#bd3786\"],[0.5555555555555556,\"#d8576b\"],[0.6666666666666666,\"#ed7953\"],[0.7777777777777778,\"#fb9f3a\"],[0.8888888888888888,\"#fdca26\"],[1.0,\"#f0f921\"]]}],\"heatmap\":[{\"type\":\"heatmap\",\"colorbar\":{\"outlinewidth\":0,\"ticks\":\"\"},\"colorscale\":[[0.0,\"#0d0887\"],[0.1111111111111111,\"#46039f\"],[0.2222222222222222,\"#7201a8\"],[0.3333333333333333,\"#9c179e\"],[0.4444444444444444,\"#bd3786\"],[0.5555555555555556,\"#d8576b\"],[0.6666666666666666,\"#ed7953\"],[0.7777777777777778,\"#fb9f3a\"],[0.8888888888888888,\"#fdca26\"],[1.0,\"#f0f921\"]]}],\"heatmapgl\":[{\"type\":\"heatmapgl\",\"colorbar\":{\"outlinewidth\":0,\"ticks\":\"\"},\"colorscale\":[[0.0,\"#0d0887\"],[0.1111111111111111,\"#46039f\"],[0.2222222222222222,\"#7201a8\"],[0.3333333333333333,\"#9c179e\"],[0.4444444444444444,\"#bd3786\"],[0.5555555555555556,\"#d8576b\"],[0.6666666666666666,\"#ed7953\"],[0.7777777777777778,\"#fb9f3a\"],[0.8888888888888888,\"#fdca26\"],[1.0,\"#f0f921\"]]}],\"contourcarpet\":[{\"type\":\"contourcarpet\",\"colorbar\":{\"outlinewidth\":0,\"ticks\":\"\"}}],\"contour\":[{\"type\":\"contour\",\"colorbar\":{\"outlinewidth\":0,\"ticks\":\"\"},\"colorscale\":[[0.0,\"#0d0887\"],[0.1111111111111111,\"#46039f\"],[0.2222222222222222,\"#7201a8\"],[0.3333333333333333,\"#9c179e\"],[0.4444444444444444,\"#bd3786\"],[0.5555555555555556,\"#d8576b\"],[0.6666666666666666,\"#ed7953\"],[0.7777777777777778,\"#fb9f3a\"],[0.8888888888888888,\"#fdca26\"],[1.0,\"#f0f921\"]]}],\"surface\":[{\"type\":\"surface\",\"colorbar\":{\"outlinewidth\":0,\"ticks\":\"\"},\"colorscale\":[[0.0,\"#0d0887\"],[0.1111111111111111,\"#46039f\"],[0.2222222222222222,\"#7201a8\"],[0.3333333333333333,\"#9c179e\"],[0.4444444444444444,\"#bd3786\"],[0.5555555555555556,\"#d8576b\"],[0.6666666666666666,\"#ed7953\"],[0.7777777777777778,\"#fb9f3a\"],[0.8888888888888888,\"#fdca26\"],[1.0,\"#f0f921\"]]}],\"mesh3d\":[{\"type\":\"mesh3d\",\"colorbar\":{\"outlinewidth\":0,\"ticks\":\"\"}}],\"scatter\":[{\"fillpattern\":{\"fillmode\":\"overlay\",\"size\":10,\"solidity\":0.2},\"type\":\"scatter\"}],\"parcoords\":[{\"type\":\"parcoords\",\"line\":{\"colorbar\":{\"outlinewidth\":0,\"ticks\":\"\"}}}],\"scatterpolargl\":[{\"type\":\"scatterpolargl\",\"marker\":{\"colorbar\":{\"outlinewidth\":0,\"ticks\":\"\"}}}],\"bar\":[{\"error_x\":{\"color\":\"#2a3f5f\"},\"error_y\":{\"color\":\"#2a3f5f\"},\"marker\":{\"line\":{\"color\":\"#E5ECF6\",\"width\":0.5},\"pattern\":{\"fillmode\":\"overlay\",\"size\":10,\"solidity\":0.2}},\"type\":\"bar\"}],\"scattergeo\":[{\"type\":\"scattergeo\",\"marker\":{\"colorbar\":{\"outlinewidth\":0,\"ticks\":\"\"}}}],\"scatterpolar\":[{\"type\":\"scatterpolar\",\"marker\":{\"colorbar\":{\"outlinewidth\":0,\"ticks\":\"\"}}}],\"histogram\":[{\"marker\":{\"pattern\":{\"fillmode\":\"overlay\",\"size\":10,\"solidity\":0.2}},\"type\":\"histogram\"}],\"scattergl\":[{\"type\":\"scattergl\",\"marker\":{\"colorbar\":{\"outlinewidth\":0,\"ticks\":\"\"}}}],\"scatter3d\":[{\"type\":\"scatter3d\",\"line\":{\"colorbar\":{\"outlinewidth\":0,\"ticks\":\"\"}},\"marker\":{\"colorbar\":{\"outlinewidth\":0,\"ticks\":\"\"}}}],\"scattermapbox\":[{\"type\":\"scattermapbox\",\"marker\":{\"colorbar\":{\"outlinewidth\":0,\"ticks\":\"\"}}}],\"scatterternary\":[{\"type\":\"scatterternary\",\"marker\":{\"colorbar\":{\"outlinewidth\":0,\"ticks\":\"\"}}}],\"scattercarpet\":[{\"type\":\"scattercarpet\",\"marker\":{\"colorbar\":{\"outlinewidth\":0,\"ticks\":\"\"}}}],\"carpet\":[{\"aaxis\":{\"endlinecolor\":\"#2a3f5f\",\"gridcolor\":\"white\",\"linecolor\":\"white\",\"minorgridcolor\":\"white\",\"startlinecolor\":\"#2a3f5f\"},\"baxis\":{\"endlinecolor\":\"#2a3f5f\",\"gridcolor\":\"white\",\"linecolor\":\"white\",\"minorgridcolor\":\"white\",\"startlinecolor\":\"#2a3f5f\"},\"type\":\"carpet\"}],\"table\":[{\"cells\":{\"fill\":{\"color\":\"#EBF0F8\"},\"line\":{\"color\":\"white\"}},\"header\":{\"fill\":{\"color\":\"#C8D4E3\"},\"line\":{\"color\":\"white\"}},\"type\":\"table\"}],\"barpolar\":[{\"marker\":{\"line\":{\"color\":\"#E5ECF6\",\"width\":0.5},\"pattern\":{\"fillmode\":\"overlay\",\"size\":10,\"solidity\":0.2}},\"type\":\"barpolar\"}],\"pie\":[{\"automargin\":true,\"type\":\"pie\"}]},\"layout\":{\"autotypenumbers\":\"strict\",\"colorway\":[\"#636efa\",\"#EF553B\",\"#00cc96\",\"#ab63fa\",\"#FFA15A\",\"#19d3f3\",\"#FF6692\",\"#B6E880\",\"#FF97FF\",\"#FECB52\"],\"font\":{\"color\":\"#2a3f5f\"},\"hovermode\":\"closest\",\"hoverlabel\":{\"align\":\"left\"},\"paper_bgcolor\":\"white\",\"plot_bgcolor\":\"#E5ECF6\",\"polar\":{\"bgcolor\":\"#E5ECF6\",\"angularaxis\":{\"gridcolor\":\"white\",\"linecolor\":\"white\",\"ticks\":\"\"},\"radialaxis\":{\"gridcolor\":\"white\",\"linecolor\":\"white\",\"ticks\":\"\"}},\"ternary\":{\"bgcolor\":\"#E5ECF6\",\"aaxis\":{\"gridcolor\":\"white\",\"linecolor\":\"white\",\"ticks\":\"\"},\"baxis\":{\"gridcolor\":\"white\",\"linecolor\":\"white\",\"ticks\":\"\"},\"caxis\":{\"gridcolor\":\"white\",\"linecolor\":\"white\",\"ticks\":\"\"}},\"coloraxis\":{\"colorbar\":{\"outlinewidth\":0,\"ticks\":\"\"}},\"colorscale\":{\"sequential\":[[0.0,\"#0d0887\"],[0.1111111111111111,\"#46039f\"],[0.2222222222222222,\"#7201a8\"],[0.3333333333333333,\"#9c179e\"],[0.4444444444444444,\"#bd3786\"],[0.5555555555555556,\"#d8576b\"],[0.6666666666666666,\"#ed7953\"],[0.7777777777777778,\"#fb9f3a\"],[0.8888888888888888,\"#fdca26\"],[1.0,\"#f0f921\"]],\"sequentialminus\":[[0.0,\"#0d0887\"],[0.1111111111111111,\"#46039f\"],[0.2222222222222222,\"#7201a8\"],[0.3333333333333333,\"#9c179e\"],[0.4444444444444444,\"#bd3786\"],[0.5555555555555556,\"#d8576b\"],[0.6666666666666666,\"#ed7953\"],[0.7777777777777778,\"#fb9f3a\"],[0.8888888888888888,\"#fdca26\"],[1.0,\"#f0f921\"]],\"diverging\":[[0,\"#8e0152\"],[0.1,\"#c51b7d\"],[0.2,\"#de77ae\"],[0.3,\"#f1b6da\"],[0.4,\"#fde0ef\"],[0.5,\"#f7f7f7\"],[0.6,\"#e6f5d0\"],[0.7,\"#b8e186\"],[0.8,\"#7fbc41\"],[0.9,\"#4d9221\"],[1,\"#276419\"]]},\"xaxis\":{\"gridcolor\":\"white\",\"linecolor\":\"white\",\"ticks\":\"\",\"title\":{\"standoff\":15},\"zerolinecolor\":\"white\",\"automargin\":true,\"zerolinewidth\":2},\"yaxis\":{\"gridcolor\":\"white\",\"linecolor\":\"white\",\"ticks\":\"\",\"title\":{\"standoff\":15},\"zerolinecolor\":\"white\",\"automargin\":true,\"zerolinewidth\":2},\"scene\":{\"xaxis\":{\"backgroundcolor\":\"#E5ECF6\",\"gridcolor\":\"white\",\"linecolor\":\"white\",\"showbackground\":true,\"ticks\":\"\",\"zerolinecolor\":\"white\",\"gridwidth\":2},\"yaxis\":{\"backgroundcolor\":\"#E5ECF6\",\"gridcolor\":\"white\",\"linecolor\":\"white\",\"showbackground\":true,\"ticks\":\"\",\"zerolinecolor\":\"white\",\"gridwidth\":2},\"zaxis\":{\"backgroundcolor\":\"#E5ECF6\",\"gridcolor\":\"white\",\"linecolor\":\"white\",\"showbackground\":true,\"ticks\":\"\",\"zerolinecolor\":\"white\",\"gridwidth\":2}},\"shapedefaults\":{\"line\":{\"color\":\"#2a3f5f\"}},\"annotationdefaults\":{\"arrowcolor\":\"#2a3f5f\",\"arrowhead\":0,\"arrowwidth\":1},\"geo\":{\"bgcolor\":\"white\",\"landcolor\":\"#E5ECF6\",\"subunitcolor\":\"white\",\"showland\":true,\"showlakes\":true,\"lakecolor\":\"white\"},\"title\":{\"x\":0.05},\"mapbox\":{\"style\":\"light\"}}},\"geo\":{\"domain\":{\"x\":[0.0,1.0],\"y\":[0.0,1.0]},\"center\":{}},\"coloraxis\":{\"colorbar\":{\"title\":{\"text\":\"% Change from Reference\"}},\"colorscale\":[[0.0,\"rgb(255,255,255)\"],[0.3333333333333333,\"rgb(255,210,0)\"],[0.6666666666666666,\"rgb(230,0,0)\"],[1.0,\"rgb(0,0,0)\"]],\"cmin\":0,\"cmax\":100},\"legend\":{\"tracegroupgap\":0},\"margin\":{\"t\":60},\"autosize\":false,\"width\":1000,\"height\":600,\"showlegend\":false},                        {\"responsive\": true}                    ).then(function(){\n",
       "                            \n",
       "var gd = document.getElementById('dc5a6f2e-31c0-459f-8f0f-e8ee60457c43');\n",
       "var x = new MutationObserver(function (mutations, observer) {{\n",
       "        var display = window.getComputedStyle(gd).display;\n",
       "        if (!display || display === 'none') {{\n",
       "            console.log([gd, 'removed!']);\n",
       "            Plotly.purge(gd);\n",
       "            observer.disconnect();\n",
       "        }}\n",
       "}});\n",
       "\n",
       "// Listen for the removal of the full notebook cells\n",
       "var notebookContainer = gd.closest('#notebook-container');\n",
       "if (notebookContainer) {{\n",
       "    x.observe(notebookContainer, {childList: true});\n",
       "}}\n",
       "\n",
       "// Listen for the clearing of the current output cell\n",
       "var outputEl = gd.closest('.output');\n",
       "if (outputEl) {{\n",
       "    x.observe(outputEl, {childList: true});\n",
       "}}\n",
       "\n",
       "                        })                };                });            </script>        </div>"
      ]
     },
     "metadata": {},
     "output_type": "display_data"
    }
   ],
   "source": [
    "import plotly.express as px\n",
    "\n",
    "fig = px.choropleth(merged_df, locations=\"ISO\",\n",
    "                    color=\"% Change from Reference\", # lifeExp is a column of gapminder\n",
    "                    hover_name=\"ISO\", # column to add to hover information\n",
    "                    color_continuous_scale=px.colors.sequential.Hot_r,\n",
    "                   range_color=(0, 100),)\n",
    "# Update layout for the entire figure\n",
    "fig.update_layout(\n",
    "    #title_text='Deforestation Attribution by Commodity',\n",
    "    autosize=False,\n",
    "    width=1000,\n",
    "    height=600,\n",
    "    showlegend=False,\n",
    ")\n",
    "fig.show()"
   ]
  },
  {
   "cell_type": "code",
   "execution_count": null,
   "id": "cba6df02-94a0-45c8-a4ea-7a764fa19dfc",
   "metadata": {},
   "outputs": [],
   "source": []
  },
  {
   "cell_type": "code",
   "execution_count": 43,
   "id": "e21cdb56-36b8-4ef2-be1c-e424ef301033",
   "metadata": {},
   "outputs": [
    {
     "name": "stderr",
     "output_type": "stream",
     "text": [
      "/tmp/user/1011/ipykernel_2508806/1154939791.py:1: FutureWarning:\n",
      "\n",
      "The default value of numeric_only in DataFrameGroupBy.sum is deprecated. In a future version, numeric_only will default to False. Either specify numeric_only or select only columns which should be valid for the function.\n",
      "\n"
     ]
    },
    {
     "data": {
      "text/html": [
       "<div>\n",
       "<style scoped>\n",
       "    .dataframe tbody tr th:only-of-type {\n",
       "        vertical-align: middle;\n",
       "    }\n",
       "\n",
       "    .dataframe tbody tr th {\n",
       "        vertical-align: top;\n",
       "    }\n",
       "\n",
       "    .dataframe thead th {\n",
       "        text-align: right;\n",
       "    }\n",
       "</style>\n",
       "<table border=\"1\" class=\"dataframe\">\n",
       "  <thead>\n",
       "    <tr style=\"text-align: right;\">\n",
       "      <th></th>\n",
       "      <th>Deforestation attribution, unamortized (ha)</th>\n",
       "      <th>Deforestation risk, amortized (ha)</th>\n",
       "      <th>Deforestation emissions excl. peat drainage, unamortized (MtCO2)</th>\n",
       "      <th>Deforestation emissions excl. peat drainage, amortized (MtCO2)</th>\n",
       "      <th>Peatland drainage emissions (MtCO2)</th>\n",
       "      <th>Deforestation emissions incl. peat drainage, amortized (MtCO2)</th>\n",
       "      <th>Quality Index</th>\n",
       "      <th>Group</th>\n",
       "    </tr>\n",
       "    <tr>\n",
       "      <th>Year</th>\n",
       "      <th></th>\n",
       "      <th></th>\n",
       "      <th></th>\n",
       "      <th></th>\n",
       "      <th></th>\n",
       "      <th></th>\n",
       "      <th></th>\n",
       "      <th></th>\n",
       "    </tr>\n",
       "  </thead>\n",
       "  <tbody>\n",
       "    <tr>\n",
       "      <th>2001</th>\n",
       "      <td>387900.0</td>\n",
       "      <td>0.0</td>\n",
       "      <td>-31.299991</td>\n",
       "      <td>0.000000</td>\n",
       "      <td>0.053244</td>\n",
       "      <td>0.053244</td>\n",
       "      <td>0.254013</td>\n",
       "      <td>1</td>\n",
       "    </tr>\n",
       "    <tr>\n",
       "      <th>2002</th>\n",
       "      <td>387900.0</td>\n",
       "      <td>0.0</td>\n",
       "      <td>-25.268163</td>\n",
       "      <td>0.000000</td>\n",
       "      <td>0.102375</td>\n",
       "      <td>0.102375</td>\n",
       "      <td>0.253915</td>\n",
       "      <td>1</td>\n",
       "    </tr>\n",
       "    <tr>\n",
       "      <th>2003</th>\n",
       "      <td>387900.0</td>\n",
       "      <td>0.0</td>\n",
       "      <td>-23.552014</td>\n",
       "      <td>0.000000</td>\n",
       "      <td>0.135713</td>\n",
       "      <td>0.135713</td>\n",
       "      <td>0.253846</td>\n",
       "      <td>1</td>\n",
       "    </tr>\n",
       "    <tr>\n",
       "      <th>2004</th>\n",
       "      <td>387900.0</td>\n",
       "      <td>0.0</td>\n",
       "      <td>-24.297128</td>\n",
       "      <td>0.000000</td>\n",
       "      <td>0.196922</td>\n",
       "      <td>0.196922</td>\n",
       "      <td>0.254115</td>\n",
       "      <td>1</td>\n",
       "    </tr>\n",
       "    <tr>\n",
       "      <th>2005</th>\n",
       "      <td>387900.0</td>\n",
       "      <td>387900.0</td>\n",
       "      <td>-28.381042</td>\n",
       "      <td>-26.559668</td>\n",
       "      <td>0.255887</td>\n",
       "      <td>-26.303781</td>\n",
       "      <td>0.254301</td>\n",
       "      <td>1</td>\n",
       "    </tr>\n",
       "    <tr>\n",
       "      <th>2006</th>\n",
       "      <td>387900.0</td>\n",
       "      <td>387900.0</td>\n",
       "      <td>-26.910656</td>\n",
       "      <td>-25.681801</td>\n",
       "      <td>0.316925</td>\n",
       "      <td>-25.364875</td>\n",
       "      <td>0.254541</td>\n",
       "      <td>1</td>\n",
       "    </tr>\n",
       "    <tr>\n",
       "      <th>2007</th>\n",
       "      <td>387900.0</td>\n",
       "      <td>387900.0</td>\n",
       "      <td>-32.079136</td>\n",
       "      <td>-27.043995</td>\n",
       "      <td>0.382984</td>\n",
       "      <td>-26.661012</td>\n",
       "      <td>0.337275</td>\n",
       "      <td>1</td>\n",
       "    </tr>\n",
       "    <tr>\n",
       "      <th>2008</th>\n",
       "      <td>294800.0</td>\n",
       "      <td>369280.0</td>\n",
       "      <td>-22.848889</td>\n",
       "      <td>-26.903370</td>\n",
       "      <td>0.454877</td>\n",
       "      <td>-26.448493</td>\n",
       "      <td>0.256703</td>\n",
       "      <td>1</td>\n",
       "    </tr>\n",
       "    <tr>\n",
       "      <th>2009</th>\n",
       "      <td>201700.0</td>\n",
       "      <td>332040.0</td>\n",
       "      <td>-17.170348</td>\n",
       "      <td>-25.478014</td>\n",
       "      <td>0.513910</td>\n",
       "      <td>-24.964104</td>\n",
       "      <td>0.257256</td>\n",
       "      <td>1</td>\n",
       "    </tr>\n",
       "    <tr>\n",
       "      <th>2010</th>\n",
       "      <td>108600.0</td>\n",
       "      <td>276180.0</td>\n",
       "      <td>-9.775085</td>\n",
       "      <td>-21.756823</td>\n",
       "      <td>0.569182</td>\n",
       "      <td>-21.187641</td>\n",
       "      <td>0.343106</td>\n",
       "      <td>1</td>\n",
       "    </tr>\n",
       "    <tr>\n",
       "      <th>2011</th>\n",
       "      <td>108600.0</td>\n",
       "      <td>220320.0</td>\n",
       "      <td>-9.244885</td>\n",
       "      <td>-18.223669</td>\n",
       "      <td>0.624484</td>\n",
       "      <td>-17.599185</td>\n",
       "      <td>0.258553</td>\n",
       "      <td>1</td>\n",
       "    </tr>\n",
       "    <tr>\n",
       "      <th>2012</th>\n",
       "      <td>108600.0</td>\n",
       "      <td>164460.0</td>\n",
       "      <td>-10.973503</td>\n",
       "      <td>-14.002542</td>\n",
       "      <td>0.699652</td>\n",
       "      <td>-13.302890</td>\n",
       "      <td>0.335144</td>\n",
       "      <td>1</td>\n",
       "    </tr>\n",
       "    <tr>\n",
       "      <th>2013</th>\n",
       "      <td>72400.0</td>\n",
       "      <td>119980.0</td>\n",
       "      <td>-8.257920</td>\n",
       "      <td>-11.084348</td>\n",
       "      <td>0.762811</td>\n",
       "      <td>-10.321537</td>\n",
       "      <td>0.335449</td>\n",
       "      <td>1</td>\n",
       "    </tr>\n",
       "    <tr>\n",
       "      <th>2014</th>\n",
       "      <td>331200.0</td>\n",
       "      <td>145880.0</td>\n",
       "      <td>-35.148683</td>\n",
       "      <td>-14.680015</td>\n",
       "      <td>0.835188</td>\n",
       "      <td>-13.844827</td>\n",
       "      <td>0.334835</td>\n",
       "      <td>1</td>\n",
       "    </tr>\n",
       "    <tr>\n",
       "      <th>2015</th>\n",
       "      <td>295000.0</td>\n",
       "      <td>183160.0</td>\n",
       "      <td>-34.362425</td>\n",
       "      <td>-19.597483</td>\n",
       "      <td>0.906398</td>\n",
       "      <td>-18.691086</td>\n",
       "      <td>0.334423</td>\n",
       "      <td>1</td>\n",
       "    </tr>\n",
       "    <tr>\n",
       "      <th>2016</th>\n",
       "      <td>295000.0</td>\n",
       "      <td>220440.0</td>\n",
       "      <td>-27.699299</td>\n",
       "      <td>-23.288366</td>\n",
       "      <td>0.986240</td>\n",
       "      <td>-22.302126</td>\n",
       "      <td>0.334685</td>\n",
       "      <td>1</td>\n",
       "    </tr>\n",
       "    <tr>\n",
       "      <th>2017</th>\n",
       "      <td>0.0</td>\n",
       "      <td>198720.0</td>\n",
       "      <td>0.000000</td>\n",
       "      <td>-21.093665</td>\n",
       "      <td>0.986240</td>\n",
       "      <td>-20.107426</td>\n",
       "      <td>0.000000</td>\n",
       "      <td>1</td>\n",
       "    </tr>\n",
       "    <tr>\n",
       "      <th>2018</th>\n",
       "      <td>0.0</td>\n",
       "      <td>184240.0</td>\n",
       "      <td>0.000000</td>\n",
       "      <td>-19.442081</td>\n",
       "      <td>0.986240</td>\n",
       "      <td>-18.455842</td>\n",
       "      <td>0.000000</td>\n",
       "      <td>1</td>\n",
       "    </tr>\n",
       "    <tr>\n",
       "      <th>2019</th>\n",
       "      <td>0.0</td>\n",
       "      <td>118000.0</td>\n",
       "      <td>0.000000</td>\n",
       "      <td>-12.412345</td>\n",
       "      <td>0.986240</td>\n",
       "      <td>-11.426105</td>\n",
       "      <td>0.000000</td>\n",
       "      <td>1</td>\n",
       "    </tr>\n",
       "    <tr>\n",
       "      <th>2020</th>\n",
       "      <td>0.0</td>\n",
       "      <td>59000.0</td>\n",
       "      <td>0.000000</td>\n",
       "      <td>-5.539860</td>\n",
       "      <td>0.986240</td>\n",
       "      <td>-4.553620</td>\n",
       "      <td>0.000000</td>\n",
       "      <td>1</td>\n",
       "    </tr>\n",
       "    <tr>\n",
       "      <th>2021</th>\n",
       "      <td>0.0</td>\n",
       "      <td>0.0</td>\n",
       "      <td>0.000000</td>\n",
       "      <td>0.000000</td>\n",
       "      <td>0.986240</td>\n",
       "      <td>0.986240</td>\n",
       "      <td>0.000000</td>\n",
       "      <td>1</td>\n",
       "    </tr>\n",
       "    <tr>\n",
       "      <th>2022</th>\n",
       "      <td>0.0</td>\n",
       "      <td>0.0</td>\n",
       "      <td>0.000000</td>\n",
       "      <td>0.000000</td>\n",
       "      <td>0.986240</td>\n",
       "      <td>0.986240</td>\n",
       "      <td>0.000000</td>\n",
       "      <td>1</td>\n",
       "    </tr>\n",
       "  </tbody>\n",
       "</table>\n",
       "</div>"
      ],
      "text/plain": [
       "      Deforestation attribution, unamortized (ha)  \\\n",
       "Year                                                \n",
       "2001                                     387900.0   \n",
       "2002                                     387900.0   \n",
       "2003                                     387900.0   \n",
       "2004                                     387900.0   \n",
       "2005                                     387900.0   \n",
       "2006                                     387900.0   \n",
       "2007                                     387900.0   \n",
       "2008                                     294800.0   \n",
       "2009                                     201700.0   \n",
       "2010                                     108600.0   \n",
       "2011                                     108600.0   \n",
       "2012                                     108600.0   \n",
       "2013                                      72400.0   \n",
       "2014                                     331200.0   \n",
       "2015                                     295000.0   \n",
       "2016                                     295000.0   \n",
       "2017                                          0.0   \n",
       "2018                                          0.0   \n",
       "2019                                          0.0   \n",
       "2020                                          0.0   \n",
       "2021                                          0.0   \n",
       "2022                                          0.0   \n",
       "\n",
       "      Deforestation risk, amortized (ha)  \\\n",
       "Year                                       \n",
       "2001                                 0.0   \n",
       "2002                                 0.0   \n",
       "2003                                 0.0   \n",
       "2004                                 0.0   \n",
       "2005                            387900.0   \n",
       "2006                            387900.0   \n",
       "2007                            387900.0   \n",
       "2008                            369280.0   \n",
       "2009                            332040.0   \n",
       "2010                            276180.0   \n",
       "2011                            220320.0   \n",
       "2012                            164460.0   \n",
       "2013                            119980.0   \n",
       "2014                            145880.0   \n",
       "2015                            183160.0   \n",
       "2016                            220440.0   \n",
       "2017                            198720.0   \n",
       "2018                            184240.0   \n",
       "2019                            118000.0   \n",
       "2020                             59000.0   \n",
       "2021                                 0.0   \n",
       "2022                                 0.0   \n",
       "\n",
       "      Deforestation emissions excl. peat drainage, unamortized (MtCO2)  \\\n",
       "Year                                                                     \n",
       "2001                                         -31.299991                  \n",
       "2002                                         -25.268163                  \n",
       "2003                                         -23.552014                  \n",
       "2004                                         -24.297128                  \n",
       "2005                                         -28.381042                  \n",
       "2006                                         -26.910656                  \n",
       "2007                                         -32.079136                  \n",
       "2008                                         -22.848889                  \n",
       "2009                                         -17.170348                  \n",
       "2010                                          -9.775085                  \n",
       "2011                                          -9.244885                  \n",
       "2012                                         -10.973503                  \n",
       "2013                                          -8.257920                  \n",
       "2014                                         -35.148683                  \n",
       "2015                                         -34.362425                  \n",
       "2016                                         -27.699299                  \n",
       "2017                                           0.000000                  \n",
       "2018                                           0.000000                  \n",
       "2019                                           0.000000                  \n",
       "2020                                           0.000000                  \n",
       "2021                                           0.000000                  \n",
       "2022                                           0.000000                  \n",
       "\n",
       "      Deforestation emissions excl. peat drainage, amortized (MtCO2)  \\\n",
       "Year                                                                   \n",
       "2001                                           0.000000                \n",
       "2002                                           0.000000                \n",
       "2003                                           0.000000                \n",
       "2004                                           0.000000                \n",
       "2005                                         -26.559668                \n",
       "2006                                         -25.681801                \n",
       "2007                                         -27.043995                \n",
       "2008                                         -26.903370                \n",
       "2009                                         -25.478014                \n",
       "2010                                         -21.756823                \n",
       "2011                                         -18.223669                \n",
       "2012                                         -14.002542                \n",
       "2013                                         -11.084348                \n",
       "2014                                         -14.680015                \n",
       "2015                                         -19.597483                \n",
       "2016                                         -23.288366                \n",
       "2017                                         -21.093665                \n",
       "2018                                         -19.442081                \n",
       "2019                                         -12.412345                \n",
       "2020                                          -5.539860                \n",
       "2021                                           0.000000                \n",
       "2022                                           0.000000                \n",
       "\n",
       "      Peatland drainage emissions (MtCO2)  \\\n",
       "Year                                        \n",
       "2001                             0.053244   \n",
       "2002                             0.102375   \n",
       "2003                             0.135713   \n",
       "2004                             0.196922   \n",
       "2005                             0.255887   \n",
       "2006                             0.316925   \n",
       "2007                             0.382984   \n",
       "2008                             0.454877   \n",
       "2009                             0.513910   \n",
       "2010                             0.569182   \n",
       "2011                             0.624484   \n",
       "2012                             0.699652   \n",
       "2013                             0.762811   \n",
       "2014                             0.835188   \n",
       "2015                             0.906398   \n",
       "2016                             0.986240   \n",
       "2017                             0.986240   \n",
       "2018                             0.986240   \n",
       "2019                             0.986240   \n",
       "2020                             0.986240   \n",
       "2021                             0.986240   \n",
       "2022                             0.986240   \n",
       "\n",
       "      Deforestation emissions incl. peat drainage, amortized (MtCO2)  \\\n",
       "Year                                                                   \n",
       "2001                                           0.053244                \n",
       "2002                                           0.102375                \n",
       "2003                                           0.135713                \n",
       "2004                                           0.196922                \n",
       "2005                                         -26.303781                \n",
       "2006                                         -25.364875                \n",
       "2007                                         -26.661012                \n",
       "2008                                         -26.448493                \n",
       "2009                                         -24.964104                \n",
       "2010                                         -21.187641                \n",
       "2011                                         -17.599185                \n",
       "2012                                         -13.302890                \n",
       "2013                                         -10.321537                \n",
       "2014                                         -13.844827                \n",
       "2015                                         -18.691086                \n",
       "2016                                         -22.302126                \n",
       "2017                                         -20.107426                \n",
       "2018                                         -18.455842                \n",
       "2019                                         -11.426105                \n",
       "2020                                          -4.553620                \n",
       "2021                                           0.986240                \n",
       "2022                                           0.986240                \n",
       "\n",
       "      Quality Index  Group  \n",
       "Year                        \n",
       "2001       0.254013      1  \n",
       "2002       0.253915      1  \n",
       "2003       0.253846      1  \n",
       "2004       0.254115      1  \n",
       "2005       0.254301      1  \n",
       "2006       0.254541      1  \n",
       "2007       0.337275      1  \n",
       "2008       0.256703      1  \n",
       "2009       0.257256      1  \n",
       "2010       0.343106      1  \n",
       "2011       0.258553      1  \n",
       "2012       0.335144      1  \n",
       "2013       0.335449      1  \n",
       "2014       0.334835      1  \n",
       "2015       0.334423      1  \n",
       "2016       0.334685      1  \n",
       "2017       0.000000      1  \n",
       "2018       0.000000      1  \n",
       "2019       0.000000      1  \n",
       "2020       0.000000      1  \n",
       "2021       0.000000      1  \n",
       "2022       0.000000      1  "
      ]
     },
     "execution_count": 43,
     "metadata": {},
     "output_type": "execute_result"
    }
   ],
   "source": [
    "Reference.loc[(Reference['Producer country'].isin(['United States'])) & (Reference['Commodity group'] == 'Forest plantation')].groupby('Year').sum()"
   ]
  },
  {
   "cell_type": "code",
   "execution_count": 38,
   "id": "7b52af5e-6510-4473-b89a-c1b5e255c615",
   "metadata": {},
   "outputs": [
    {
     "name": "stderr",
     "output_type": "stream",
     "text": [
      "/tmp/user/1011/ipykernel_2508806/285795567.py:1: FutureWarning:\n",
      "\n",
      "The default value of numeric_only in DataFrameGroupBy.sum is deprecated. In a future version, numeric_only will default to False. Either specify numeric_only or select only columns which should be valid for the function.\n",
      "\n"
     ]
    },
    {
     "data": {
      "text/html": [
       "<div>\n",
       "<style scoped>\n",
       "    .dataframe tbody tr th:only-of-type {\n",
       "        vertical-align: middle;\n",
       "    }\n",
       "\n",
       "    .dataframe tbody tr th {\n",
       "        vertical-align: top;\n",
       "    }\n",
       "\n",
       "    .dataframe thead th {\n",
       "        text-align: right;\n",
       "    }\n",
       "</style>\n",
       "<table border=\"1\" class=\"dataframe\">\n",
       "  <thead>\n",
       "    <tr style=\"text-align: right;\">\n",
       "      <th></th>\n",
       "      <th>Year</th>\n",
       "      <th>Deforestation attribution, unamortized (ha)</th>\n",
       "      <th>Deforestation risk, amortized (ha)</th>\n",
       "      <th>Deforestation emissions excl. peat drainage, unamortized (MtCO2)</th>\n",
       "      <th>Deforestation emissions excl. peat drainage, amortized (MtCO2)</th>\n",
       "      <th>Peatland drainage emissions (MtCO2)</th>\n",
       "      <th>Deforestation emissions incl. peat drainage, amortized (MtCO2)</th>\n",
       "      <th>Quality Index</th>\n",
       "      <th>Group</th>\n",
       "    </tr>\n",
       "    <tr>\n",
       "      <th>Producer country</th>\n",
       "      <th></th>\n",
       "      <th></th>\n",
       "      <th></th>\n",
       "      <th></th>\n",
       "      <th></th>\n",
       "      <th></th>\n",
       "      <th></th>\n",
       "      <th></th>\n",
       "      <th></th>\n",
       "    </tr>\n",
       "  </thead>\n",
       "  <tbody>\n",
       "    <tr>\n",
       "      <th>China</th>\n",
       "      <td>44253</td>\n",
       "      <td>6.620158e+06</td>\n",
       "      <td>5.445368e+06</td>\n",
       "      <td>-309.194618</td>\n",
       "      <td>-232.071747</td>\n",
       "      <td>0.501394</td>\n",
       "      <td>-231.570352</td>\n",
       "      <td>6.277621</td>\n",
       "      <td>22</td>\n",
       "    </tr>\n",
       "    <tr>\n",
       "      <th>United States</th>\n",
       "      <td>44253</td>\n",
       "      <td>4.531200e+06</td>\n",
       "      <td>3.755400e+06</td>\n",
       "      <td>-367.269168</td>\n",
       "      <td>-312.788046</td>\n",
       "      <td>13.714231</td>\n",
       "      <td>-299.073816</td>\n",
       "      <td>4.652159</td>\n",
       "      <td>22</td>\n",
       "    </tr>\n",
       "  </tbody>\n",
       "</table>\n",
       "</div>"
      ],
      "text/plain": [
       "                   Year  Deforestation attribution, unamortized (ha)  \\\n",
       "Producer country                                                       \n",
       "China             44253                                 6.620158e+06   \n",
       "United States     44253                                 4.531200e+06   \n",
       "\n",
       "                  Deforestation risk, amortized (ha)  \\\n",
       "Producer country                                       \n",
       "China                                   5.445368e+06   \n",
       "United States                           3.755400e+06   \n",
       "\n",
       "                  Deforestation emissions excl. peat drainage, unamortized (MtCO2)  \\\n",
       "Producer country                                                                     \n",
       "China                                                   -309.194618                  \n",
       "United States                                           -367.269168                  \n",
       "\n",
       "                  Deforestation emissions excl. peat drainage, amortized (MtCO2)  \\\n",
       "Producer country                                                                   \n",
       "China                                                   -232.071747                \n",
       "United States                                           -312.788046                \n",
       "\n",
       "                  Peatland drainage emissions (MtCO2)  \\\n",
       "Producer country                                        \n",
       "China                                        0.501394   \n",
       "United States                               13.714231   \n",
       "\n",
       "                  Deforestation emissions incl. peat drainage, amortized (MtCO2)  \\\n",
       "Producer country                                                                   \n",
       "China                                                   -231.570352                \n",
       "United States                                           -299.073816                \n",
       "\n",
       "                  Quality Index  Group  \n",
       "Producer country                        \n",
       "China                  6.277621     22  \n",
       "United States          4.652159     22  "
      ]
     },
     "execution_count": 38,
     "metadata": {},
     "output_type": "execute_result"
    }
   ],
   "source": [
    "S5.loc[(S5['Producer country'].isin(['United States', 'China'])) & (S5['Commodity group'] == 'Forest plantation')].groupby('Producer country').sum()"
   ]
  },
  {
   "cell_type": "code",
   "execution_count": 41,
   "id": "5ebf7312-2847-44a7-8f54-5cdcdfe44c3f",
   "metadata": {},
   "outputs": [
    {
     "data": {
      "text/plain": [
       "-0.0024772208965062425"
      ]
     },
     "execution_count": 41,
     "metadata": {},
     "output_type": "execute_result"
    }
   ],
   "source": [
    "(6.620158e+06-6.620322e+06)*100/6.620322e+06\t"
   ]
  },
  {
   "cell_type": "code",
   "execution_count": null,
   "id": "c050bb7b-c6cf-4097-86cf-51037c605e59",
   "metadata": {},
   "outputs": [],
   "source": [
    "(6.620322e+06-6.620158e+06)*100/6.620158e+06"
   ]
  },
  {
   "cell_type": "code",
   "execution_count": 26,
   "id": "c355f05d-9385-4c7a-96ba-6a9ec821c009",
   "metadata": {},
   "outputs": [
    {
     "name": "stderr",
     "output_type": "stream",
     "text": [
      "/tmp/user/1011/ipykernel_2508806/3565625139.py:4: FutureWarning:\n",
      "\n",
      "The default value of numeric_only in DataFrameGroupBy.sum is deprecated. In a future version, numeric_only will default to False. Either specify numeric_only or select only columns which should be valid for the function.\n",
      "\n",
      "/tmp/user/1011/ipykernel_2508806/3565625139.py:5: FutureWarning:\n",
      "\n",
      "The default value of numeric_only in DataFrameGroupBy.sum is deprecated. In a future version, numeric_only will default to False. Either specify numeric_only or select only columns which should be valid for the function.\n",
      "\n"
     ]
    }
   ],
   "source": [
    "import pandas as pd\n",
    "\n",
    "# Assuming you have your dataframes named as reference_df and s15_df\n",
    "reference_df = Reference.groupby(['ISO']).sum().reset_index()[['ISO', 'Deforestation attribution, unamortized (ha)']]\n",
    "s5_df = S5.groupby(['ISO']).sum().reset_index()[['ISO', 'Deforestation attribution, unamortized (ha)']]\n",
    "\n",
    "# Rename columns to avoid confusion during merge\n",
    "reference_df.rename(columns={'Deforestation attribution, unamortized (ha)': 'Reference Deforestation (ha)'}, inplace=True)\n",
    "s5_df.rename(columns={'Deforestation attribution, unamortized (ha)': 'S15 Deforestation (ha)'}, inplace=True)\n",
    "\n",
    "# Merge the dataframes on 'ISO'\n",
    "merged_df = pd.merge(reference_df, s5_df, on='ISO', how='inner')\n",
    "\n",
    "# Calculate the percentage change\n",
    "merged_df['% Change from Reference'] = ((merged_df['S15 Deforestation (ha)'] - merged_df['Reference Deforestation (ha)']) / merged_df['Reference Deforestation (ha)']) * 100\n",
    "\n",
    "# Handle cases where Reference Deforestation is 0 to avoid division by zero\n",
    "merged_df['% Change from Reference'] = merged_df['% Change from Reference'].replace([float('inf'), -float('inf')], None)\n"
   ]
  },
  {
   "cell_type": "code",
   "execution_count": 27,
   "id": "a7f274d8-f890-4597-8c31-87604f200e7d",
   "metadata": {},
   "outputs": [
    {
     "data": {
      "application/vnd.plotly.v1+json": {
       "config": {
        "plotlyServerURL": "https://plot.ly"
       },
       "data": [
        {
         "coloraxis": "coloraxis",
         "geo": "geo",
         "hovertemplate": "<b>%{hovertext}</b><br><br>ISO=%{location}<br>% Change from Reference=%{z}<extra></extra>",
         "hovertext": [
          "AFG",
          "AGO",
          "ALB",
          "ARG",
          "ARM",
          "ATG",
          "AUS",
          "AUT",
          "AZE",
          "BDI",
          "BEL",
          "BEN",
          "BFA",
          "BGD",
          "BGR",
          "BHS",
          "BIH",
          "BLR",
          "BLZ",
          "BOL",
          "BRA",
          "BRB",
          "BRN",
          "BTN",
          "BWA",
          "CAF",
          "CAN",
          "CHE",
          "CHL",
          "CHN",
          "CIV",
          "CMR",
          "COD",
          "COG",
          "COL",
          "COM",
          "CPV",
          "CRI",
          "CUB",
          "CYP",
          "CZE",
          "DEU",
          "DMA",
          "DNK",
          "DOM",
          "DZA",
          "ECU",
          "EGY",
          "ERI",
          "ESP",
          "EST",
          "ETH",
          "FIN",
          "FJI",
          "FRA",
          "FSM",
          "GAB",
          "GBR",
          "GEO",
          "GHA",
          "GIN",
          "GMB",
          "GNB",
          "GNQ",
          "GRC",
          "GRD",
          "GTM",
          "GUY",
          "HND",
          "HRV",
          "HTI",
          "HUN",
          "IDN",
          "IND",
          "IRL",
          "IRN",
          "IRQ",
          "ISR",
          "ITA",
          "JAM",
          "JOR",
          "JPN",
          "KAZ",
          "KEN",
          "KGZ",
          "KHM",
          "KNA",
          "KOR",
          "LAO",
          "LBN",
          "LBR",
          "LBY",
          "LCA",
          "LKA",
          "LSO",
          "LTU",
          "LUX",
          "LVA",
          "MAR",
          "MDA",
          "MDG",
          "MDV",
          "MEX",
          "MKD",
          "MLI",
          "MLT",
          "MMR",
          "MNE",
          "MNG",
          "MOZ",
          "MRT",
          "MUS",
          "MWI",
          "MYS",
          "NAM",
          "NCL",
          "NER",
          "NGA",
          "NIC",
          "NLD",
          "NOR",
          "NPL",
          "NZL",
          "OMN",
          "PAK",
          "PAN",
          "PER",
          "PHL",
          "PNG",
          "POL",
          "PRI",
          "PRK",
          "PRT",
          "PRY",
          "PSE",
          "ROU",
          "RUS",
          "RWA",
          "SDN",
          "SDN and SSD",
          "SEN",
          "SGP",
          "SLB",
          "SLE",
          "SLV",
          "SOM",
          "SRB",
          "SRB and MNE",
          "SSD",
          "STP",
          "SUR",
          "SVK",
          "SVN",
          "SWE",
          "SWZ",
          "SYC",
          "SYR",
          "TCD",
          "TGO",
          "THA",
          "TJK",
          "TKM",
          "TLS",
          "TTO",
          "TUN",
          "TUR",
          "TWN",
          "TZA",
          "UGA",
          "UKR",
          "URY",
          "USA",
          "UZB",
          "VCT",
          "VEN",
          "VNM",
          "VUT",
          "YEM",
          "ZAF",
          "ZMB",
          "ZWE"
         ],
         "locations": [
          "AFG",
          "AGO",
          "ALB",
          "ARG",
          "ARM",
          "ATG",
          "AUS",
          "AUT",
          "AZE",
          "BDI",
          "BEL",
          "BEN",
          "BFA",
          "BGD",
          "BGR",
          "BHS",
          "BIH",
          "BLR",
          "BLZ",
          "BOL",
          "BRA",
          "BRB",
          "BRN",
          "BTN",
          "BWA",
          "CAF",
          "CAN",
          "CHE",
          "CHL",
          "CHN",
          "CIV",
          "CMR",
          "COD",
          "COG",
          "COL",
          "COM",
          "CPV",
          "CRI",
          "CUB",
          "CYP",
          "CZE",
          "DEU",
          "DMA",
          "DNK",
          "DOM",
          "DZA",
          "ECU",
          "EGY",
          "ERI",
          "ESP",
          "EST",
          "ETH",
          "FIN",
          "FJI",
          "FRA",
          "FSM",
          "GAB",
          "GBR",
          "GEO",
          "GHA",
          "GIN",
          "GMB",
          "GNB",
          "GNQ",
          "GRC",
          "GRD",
          "GTM",
          "GUY",
          "HND",
          "HRV",
          "HTI",
          "HUN",
          "IDN",
          "IND",
          "IRL",
          "IRN",
          "IRQ",
          "ISR",
          "ITA",
          "JAM",
          "JOR",
          "JPN",
          "KAZ",
          "KEN",
          "KGZ",
          "KHM",
          "KNA",
          "KOR",
          "LAO",
          "LBN",
          "LBR",
          "LBY",
          "LCA",
          "LKA",
          "LSO",
          "LTU",
          "LUX",
          "LVA",
          "MAR",
          "MDA",
          "MDG",
          "MDV",
          "MEX",
          "MKD",
          "MLI",
          "MLT",
          "MMR",
          "MNE",
          "MNG",
          "MOZ",
          "MRT",
          "MUS",
          "MWI",
          "MYS",
          "NAM",
          "NCL",
          "NER",
          "NGA",
          "NIC",
          "NLD",
          "NOR",
          "NPL",
          "NZL",
          "OMN",
          "PAK",
          "PAN",
          "PER",
          "PHL",
          "PNG",
          "POL",
          "PRI",
          "PRK",
          "PRT",
          "PRY",
          "PSE",
          "ROU",
          "RUS",
          "RWA",
          "SDN",
          "SDN and SSD",
          "SEN",
          "SGP",
          "SLB",
          "SLE",
          "SLV",
          "SOM",
          "SRB",
          "SRB and MNE",
          "SSD",
          "STP",
          "SUR",
          "SVK",
          "SVN",
          "SWE",
          "SWZ",
          "SYC",
          "SYR",
          "TCD",
          "TGO",
          "THA",
          "TJK",
          "TKM",
          "TLS",
          "TTO",
          "TUN",
          "TUR",
          "TWN",
          "TZA",
          "UGA",
          "UKR",
          "URY",
          "USA",
          "UZB",
          "VCT",
          "VEN",
          "VNM",
          "VUT",
          "YEM",
          "ZAF",
          "ZMB",
          "ZWE"
         ],
         "name": "",
         "type": "choropleth",
         "z": [
          0,
          0,
          0,
          -4.4048248727579476e-05,
          0,
          0,
          0,
          0,
          0,
          0,
          0,
          -0.09660369188959672,
          0,
          -0.000720915470273096,
          0,
          0,
          0,
          0,
          0,
          0,
          3.413044552450587e-07,
          0,
          0,
          0,
          0,
          0,
          0,
          0,
          -0.373373957484268,
          -0.002268014705764965,
          -0.009732825578484068,
          -0.30217351669832687,
          -0.021657632156863404,
          -0.003485556423761078,
          -0.00025368053403727685,
          0,
          0,
          -0.0005108003305602087,
          0,
          0,
          0,
          0,
          0,
          0,
          0,
          0,
          -0.014606645535516681,
          0,
          0,
          0,
          0,
          0,
          0,
          0,
          0,
          0,
          -0.000770892109579646,
          0,
          0,
          -0.006526258288224483,
          -0.0011098795640277271,
          0,
          -0.002456963804914832,
          -0.001355552246310422,
          0,
          0,
          0,
          0,
          -0.002242839601374013,
          0,
          0,
          0,
          -0.027242873891469243,
          -0.3171439821763559,
          0,
          0,
          0,
          0,
          0,
          0,
          0,
          0,
          0,
          -0.010490138418058608,
          0,
          -0.004712860106245259,
          0,
          0,
          0,
          0,
          -2.9939750942547327,
          0,
          0,
          -0.0001879379880917381,
          0,
          0,
          0,
          0,
          0,
          0,
          0,
          0,
          0,
          0,
          0,
          0,
          -0.044062549493052515,
          0,
          0,
          0,
          0,
          0,
          0,
          0,
          0,
          0,
          0,
          -0.07697403037549991,
          -0.004044451181918615,
          0,
          0,
          0,
          -2.6867071254287125,
          0,
          0,
          0,
          0,
          -0.07860131056228985,
          0,
          0,
          0,
          0,
          0,
          0,
          0,
          0,
          0,
          -0.0002469743268958532,
          0,
          0,
          0,
          0,
          -0.14283967660359925,
          -0.13587843139285674,
          0,
          0,
          0,
          0,
          0,
          0,
          0,
          0,
          0,
          0,
          0,
          0,
          0,
          0,
          -0.011936386616730138,
          -9.136026592070172e-05,
          0,
          0,
          0,
          0,
          0,
          0,
          0,
          0,
          -0.012221411586326586,
          0,
          0,
          0,
          0,
          0,
          0,
          -3.333014774851974e-05,
          0,
          0,
          0,
          0,
          0
         ]
        }
       ],
       "layout": {
        "autosize": false,
        "coloraxis": {
         "cmax": 100,
         "cmin": 0,
         "colorbar": {
          "title": {
           "text": "% Change from Reference"
          }
         },
         "colorscale": [
          [
           0,
           "rgb(255,255,255)"
          ],
          [
           0.3333333333333333,
           "rgb(255,210,0)"
          ],
          [
           0.6666666666666666,
           "rgb(230,0,0)"
          ],
          [
           1,
           "rgb(0, 0, 0)"
          ]
         ]
        },
        "geo": {
         "center": {},
         "domain": {
          "x": [
           0,
           1
          ],
          "y": [
           0,
           1
          ]
         }
        },
        "height": 600,
        "legend": {
         "tracegroupgap": 0
        },
        "margin": {
         "t": 60
        },
        "showlegend": false,
        "template": {
         "data": {
          "bar": [
           {
            "error_x": {
             "color": "#2a3f5f"
            },
            "error_y": {
             "color": "#2a3f5f"
            },
            "marker": {
             "line": {
              "color": "#E5ECF6",
              "width": 0.5
             },
             "pattern": {
              "fillmode": "overlay",
              "size": 10,
              "solidity": 0.2
             }
            },
            "type": "bar"
           }
          ],
          "barpolar": [
           {
            "marker": {
             "line": {
              "color": "#E5ECF6",
              "width": 0.5
             },
             "pattern": {
              "fillmode": "overlay",
              "size": 10,
              "solidity": 0.2
             }
            },
            "type": "barpolar"
           }
          ],
          "carpet": [
           {
            "aaxis": {
             "endlinecolor": "#2a3f5f",
             "gridcolor": "white",
             "linecolor": "white",
             "minorgridcolor": "white",
             "startlinecolor": "#2a3f5f"
            },
            "baxis": {
             "endlinecolor": "#2a3f5f",
             "gridcolor": "white",
             "linecolor": "white",
             "minorgridcolor": "white",
             "startlinecolor": "#2a3f5f"
            },
            "type": "carpet"
           }
          ],
          "choropleth": [
           {
            "colorbar": {
             "outlinewidth": 0,
             "ticks": ""
            },
            "type": "choropleth"
           }
          ],
          "contour": [
           {
            "colorbar": {
             "outlinewidth": 0,
             "ticks": ""
            },
            "colorscale": [
             [
              0,
              "#0d0887"
             ],
             [
              0.1111111111111111,
              "#46039f"
             ],
             [
              0.2222222222222222,
              "#7201a8"
             ],
             [
              0.3333333333333333,
              "#9c179e"
             ],
             [
              0.4444444444444444,
              "#bd3786"
             ],
             [
              0.5555555555555556,
              "#d8576b"
             ],
             [
              0.6666666666666666,
              "#ed7953"
             ],
             [
              0.7777777777777778,
              "#fb9f3a"
             ],
             [
              0.8888888888888888,
              "#fdca26"
             ],
             [
              1,
              "#f0f921"
             ]
            ],
            "type": "contour"
           }
          ],
          "contourcarpet": [
           {
            "colorbar": {
             "outlinewidth": 0,
             "ticks": ""
            },
            "type": "contourcarpet"
           }
          ],
          "heatmap": [
           {
            "colorbar": {
             "outlinewidth": 0,
             "ticks": ""
            },
            "colorscale": [
             [
              0,
              "#0d0887"
             ],
             [
              0.1111111111111111,
              "#46039f"
             ],
             [
              0.2222222222222222,
              "#7201a8"
             ],
             [
              0.3333333333333333,
              "#9c179e"
             ],
             [
              0.4444444444444444,
              "#bd3786"
             ],
             [
              0.5555555555555556,
              "#d8576b"
             ],
             [
              0.6666666666666666,
              "#ed7953"
             ],
             [
              0.7777777777777778,
              "#fb9f3a"
             ],
             [
              0.8888888888888888,
              "#fdca26"
             ],
             [
              1,
              "#f0f921"
             ]
            ],
            "type": "heatmap"
           }
          ],
          "heatmapgl": [
           {
            "colorbar": {
             "outlinewidth": 0,
             "ticks": ""
            },
            "colorscale": [
             [
              0,
              "#0d0887"
             ],
             [
              0.1111111111111111,
              "#46039f"
             ],
             [
              0.2222222222222222,
              "#7201a8"
             ],
             [
              0.3333333333333333,
              "#9c179e"
             ],
             [
              0.4444444444444444,
              "#bd3786"
             ],
             [
              0.5555555555555556,
              "#d8576b"
             ],
             [
              0.6666666666666666,
              "#ed7953"
             ],
             [
              0.7777777777777778,
              "#fb9f3a"
             ],
             [
              0.8888888888888888,
              "#fdca26"
             ],
             [
              1,
              "#f0f921"
             ]
            ],
            "type": "heatmapgl"
           }
          ],
          "histogram": [
           {
            "marker": {
             "pattern": {
              "fillmode": "overlay",
              "size": 10,
              "solidity": 0.2
             }
            },
            "type": "histogram"
           }
          ],
          "histogram2d": [
           {
            "colorbar": {
             "outlinewidth": 0,
             "ticks": ""
            },
            "colorscale": [
             [
              0,
              "#0d0887"
             ],
             [
              0.1111111111111111,
              "#46039f"
             ],
             [
              0.2222222222222222,
              "#7201a8"
             ],
             [
              0.3333333333333333,
              "#9c179e"
             ],
             [
              0.4444444444444444,
              "#bd3786"
             ],
             [
              0.5555555555555556,
              "#d8576b"
             ],
             [
              0.6666666666666666,
              "#ed7953"
             ],
             [
              0.7777777777777778,
              "#fb9f3a"
             ],
             [
              0.8888888888888888,
              "#fdca26"
             ],
             [
              1,
              "#f0f921"
             ]
            ],
            "type": "histogram2d"
           }
          ],
          "histogram2dcontour": [
           {
            "colorbar": {
             "outlinewidth": 0,
             "ticks": ""
            },
            "colorscale": [
             [
              0,
              "#0d0887"
             ],
             [
              0.1111111111111111,
              "#46039f"
             ],
             [
              0.2222222222222222,
              "#7201a8"
             ],
             [
              0.3333333333333333,
              "#9c179e"
             ],
             [
              0.4444444444444444,
              "#bd3786"
             ],
             [
              0.5555555555555556,
              "#d8576b"
             ],
             [
              0.6666666666666666,
              "#ed7953"
             ],
             [
              0.7777777777777778,
              "#fb9f3a"
             ],
             [
              0.8888888888888888,
              "#fdca26"
             ],
             [
              1,
              "#f0f921"
             ]
            ],
            "type": "histogram2dcontour"
           }
          ],
          "mesh3d": [
           {
            "colorbar": {
             "outlinewidth": 0,
             "ticks": ""
            },
            "type": "mesh3d"
           }
          ],
          "parcoords": [
           {
            "line": {
             "colorbar": {
              "outlinewidth": 0,
              "ticks": ""
             }
            },
            "type": "parcoords"
           }
          ],
          "pie": [
           {
            "automargin": true,
            "type": "pie"
           }
          ],
          "scatter": [
           {
            "fillpattern": {
             "fillmode": "overlay",
             "size": 10,
             "solidity": 0.2
            },
            "type": "scatter"
           }
          ],
          "scatter3d": [
           {
            "line": {
             "colorbar": {
              "outlinewidth": 0,
              "ticks": ""
             }
            },
            "marker": {
             "colorbar": {
              "outlinewidth": 0,
              "ticks": ""
             }
            },
            "type": "scatter3d"
           }
          ],
          "scattercarpet": [
           {
            "marker": {
             "colorbar": {
              "outlinewidth": 0,
              "ticks": ""
             }
            },
            "type": "scattercarpet"
           }
          ],
          "scattergeo": [
           {
            "marker": {
             "colorbar": {
              "outlinewidth": 0,
              "ticks": ""
             }
            },
            "type": "scattergeo"
           }
          ],
          "scattergl": [
           {
            "marker": {
             "colorbar": {
              "outlinewidth": 0,
              "ticks": ""
             }
            },
            "type": "scattergl"
           }
          ],
          "scattermapbox": [
           {
            "marker": {
             "colorbar": {
              "outlinewidth": 0,
              "ticks": ""
             }
            },
            "type": "scattermapbox"
           }
          ],
          "scatterpolar": [
           {
            "marker": {
             "colorbar": {
              "outlinewidth": 0,
              "ticks": ""
             }
            },
            "type": "scatterpolar"
           }
          ],
          "scatterpolargl": [
           {
            "marker": {
             "colorbar": {
              "outlinewidth": 0,
              "ticks": ""
             }
            },
            "type": "scatterpolargl"
           }
          ],
          "scatterternary": [
           {
            "marker": {
             "colorbar": {
              "outlinewidth": 0,
              "ticks": ""
             }
            },
            "type": "scatterternary"
           }
          ],
          "surface": [
           {
            "colorbar": {
             "outlinewidth": 0,
             "ticks": ""
            },
            "colorscale": [
             [
              0,
              "#0d0887"
             ],
             [
              0.1111111111111111,
              "#46039f"
             ],
             [
              0.2222222222222222,
              "#7201a8"
             ],
             [
              0.3333333333333333,
              "#9c179e"
             ],
             [
              0.4444444444444444,
              "#bd3786"
             ],
             [
              0.5555555555555556,
              "#d8576b"
             ],
             [
              0.6666666666666666,
              "#ed7953"
             ],
             [
              0.7777777777777778,
              "#fb9f3a"
             ],
             [
              0.8888888888888888,
              "#fdca26"
             ],
             [
              1,
              "#f0f921"
             ]
            ],
            "type": "surface"
           }
          ],
          "table": [
           {
            "cells": {
             "fill": {
              "color": "#EBF0F8"
             },
             "line": {
              "color": "white"
             }
            },
            "header": {
             "fill": {
              "color": "#C8D4E3"
             },
             "line": {
              "color": "white"
             }
            },
            "type": "table"
           }
          ]
         },
         "layout": {
          "annotationdefaults": {
           "arrowcolor": "#2a3f5f",
           "arrowhead": 0,
           "arrowwidth": 1
          },
          "autotypenumbers": "strict",
          "coloraxis": {
           "colorbar": {
            "outlinewidth": 0,
            "ticks": ""
           }
          },
          "colorscale": {
           "diverging": [
            [
             0,
             "#8e0152"
            ],
            [
             0.1,
             "#c51b7d"
            ],
            [
             0.2,
             "#de77ae"
            ],
            [
             0.3,
             "#f1b6da"
            ],
            [
             0.4,
             "#fde0ef"
            ],
            [
             0.5,
             "#f7f7f7"
            ],
            [
             0.6,
             "#e6f5d0"
            ],
            [
             0.7,
             "#b8e186"
            ],
            [
             0.8,
             "#7fbc41"
            ],
            [
             0.9,
             "#4d9221"
            ],
            [
             1,
             "#276419"
            ]
           ],
           "sequential": [
            [
             0,
             "#0d0887"
            ],
            [
             0.1111111111111111,
             "#46039f"
            ],
            [
             0.2222222222222222,
             "#7201a8"
            ],
            [
             0.3333333333333333,
             "#9c179e"
            ],
            [
             0.4444444444444444,
             "#bd3786"
            ],
            [
             0.5555555555555556,
             "#d8576b"
            ],
            [
             0.6666666666666666,
             "#ed7953"
            ],
            [
             0.7777777777777778,
             "#fb9f3a"
            ],
            [
             0.8888888888888888,
             "#fdca26"
            ],
            [
             1,
             "#f0f921"
            ]
           ],
           "sequentialminus": [
            [
             0,
             "#0d0887"
            ],
            [
             0.1111111111111111,
             "#46039f"
            ],
            [
             0.2222222222222222,
             "#7201a8"
            ],
            [
             0.3333333333333333,
             "#9c179e"
            ],
            [
             0.4444444444444444,
             "#bd3786"
            ],
            [
             0.5555555555555556,
             "#d8576b"
            ],
            [
             0.6666666666666666,
             "#ed7953"
            ],
            [
             0.7777777777777778,
             "#fb9f3a"
            ],
            [
             0.8888888888888888,
             "#fdca26"
            ],
            [
             1,
             "#f0f921"
            ]
           ]
          },
          "colorway": [
           "#636efa",
           "#EF553B",
           "#00cc96",
           "#ab63fa",
           "#FFA15A",
           "#19d3f3",
           "#FF6692",
           "#B6E880",
           "#FF97FF",
           "#FECB52"
          ],
          "font": {
           "color": "#2a3f5f"
          },
          "geo": {
           "bgcolor": "white",
           "lakecolor": "white",
           "landcolor": "#E5ECF6",
           "showlakes": true,
           "showland": true,
           "subunitcolor": "white"
          },
          "hoverlabel": {
           "align": "left"
          },
          "hovermode": "closest",
          "mapbox": {
           "style": "light"
          },
          "paper_bgcolor": "white",
          "plot_bgcolor": "#E5ECF6",
          "polar": {
           "angularaxis": {
            "gridcolor": "white",
            "linecolor": "white",
            "ticks": ""
           },
           "bgcolor": "#E5ECF6",
           "radialaxis": {
            "gridcolor": "white",
            "linecolor": "white",
            "ticks": ""
           }
          },
          "scene": {
           "xaxis": {
            "backgroundcolor": "#E5ECF6",
            "gridcolor": "white",
            "gridwidth": 2,
            "linecolor": "white",
            "showbackground": true,
            "ticks": "",
            "zerolinecolor": "white"
           },
           "yaxis": {
            "backgroundcolor": "#E5ECF6",
            "gridcolor": "white",
            "gridwidth": 2,
            "linecolor": "white",
            "showbackground": true,
            "ticks": "",
            "zerolinecolor": "white"
           },
           "zaxis": {
            "backgroundcolor": "#E5ECF6",
            "gridcolor": "white",
            "gridwidth": 2,
            "linecolor": "white",
            "showbackground": true,
            "ticks": "",
            "zerolinecolor": "white"
           }
          },
          "shapedefaults": {
           "line": {
            "color": "#2a3f5f"
           }
          },
          "ternary": {
           "aaxis": {
            "gridcolor": "white",
            "linecolor": "white",
            "ticks": ""
           },
           "baxis": {
            "gridcolor": "white",
            "linecolor": "white",
            "ticks": ""
           },
           "bgcolor": "#E5ECF6",
           "caxis": {
            "gridcolor": "white",
            "linecolor": "white",
            "ticks": ""
           }
          },
          "title": {
           "x": 0.05
          },
          "xaxis": {
           "automargin": true,
           "gridcolor": "white",
           "linecolor": "white",
           "ticks": "",
           "title": {
            "standoff": 15
           },
           "zerolinecolor": "white",
           "zerolinewidth": 2
          },
          "yaxis": {
           "automargin": true,
           "gridcolor": "white",
           "linecolor": "white",
           "ticks": "",
           "title": {
            "standoff": 15
           },
           "zerolinecolor": "white",
           "zerolinewidth": 2
          }
         }
        },
        "width": 1000
       }
      },
      "image/png": "[encoded data removed]",
      "text/html": [
       "<div>                            <div id=\"8432471b-9cc7-478e-9a23-90fb325e75d3\" class=\"plotly-graph-div\" style=\"height:600px; width:1000px;\"></div>            <script type=\"text/javascript\">                require([\"plotly\"], function(Plotly) {                    window.PLOTLYENV=window.PLOTLYENV || {};                                    if (document.getElementById(\"8432471b-9cc7-478e-9a23-90fb325e75d3\")) {                    Plotly.newPlot(                        \"8432471b-9cc7-478e-9a23-90fb325e75d3\",                        [{\"coloraxis\":\"coloraxis\",\"geo\":\"geo\",\"hovertemplate\":\"<b>%{hovertext}</b><br><br>ISO=%{location}<br>% Change from Reference=%{z}<extra></extra>\",\"hovertext\":[\"AFG\",\"AGO\",\"ALB\",\"ARG\",\"ARM\",\"ATG\",\"AUS\",\"AUT\",\"AZE\",\"BDI\",\"BEL\",\"BEN\",\"BFA\",\"BGD\",\"BGR\",\"BHS\",\"BIH\",\"BLR\",\"BLZ\",\"BOL\",\"BRA\",\"BRB\",\"BRN\",\"BTN\",\"BWA\",\"CAF\",\"CAN\",\"CHE\",\"CHL\",\"CHN\",\"CIV\",\"CMR\",\"COD\",\"COG\",\"COL\",\"COM\",\"CPV\",\"CRI\",\"CUB\",\"CYP\",\"CZE\",\"DEU\",\"DMA\",\"DNK\",\"DOM\",\"DZA\",\"ECU\",\"EGY\",\"ERI\",\"ESP\",\"EST\",\"ETH\",\"FIN\",\"FJI\",\"FRA\",\"FSM\",\"GAB\",\"GBR\",\"GEO\",\"GHA\",\"GIN\",\"GMB\",\"GNB\",\"GNQ\",\"GRC\",\"GRD\",\"GTM\",\"GUY\",\"HND\",\"HRV\",\"HTI\",\"HUN\",\"IDN\",\"IND\",\"IRL\",\"IRN\",\"IRQ\",\"ISR\",\"ITA\",\"JAM\",\"JOR\",\"JPN\",\"KAZ\",\"KEN\",\"KGZ\",\"KHM\",\"KNA\",\"KOR\",\"LAO\",\"LBN\",\"LBR\",\"LBY\",\"LCA\",\"LKA\",\"LSO\",\"LTU\",\"LUX\",\"LVA\",\"MAR\",\"MDA\",\"MDG\",\"MDV\",\"MEX\",\"MKD\",\"MLI\",\"MLT\",\"MMR\",\"MNE\",\"MNG\",\"MOZ\",\"MRT\",\"MUS\",\"MWI\",\"MYS\",\"NAM\",\"NCL\",\"NER\",\"NGA\",\"NIC\",\"NLD\",\"NOR\",\"NPL\",\"NZL\",\"OMN\",\"PAK\",\"PAN\",\"PER\",\"PHL\",\"PNG\",\"POL\",\"PRI\",\"PRK\",\"PRT\",\"PRY\",\"PSE\",\"ROU\",\"RUS\",\"RWA\",\"SDN\",\"SDN and SSD\",\"SEN\",\"SGP\",\"SLB\",\"SLE\",\"SLV\",\"SOM\",\"SRB\",\"SRB and MNE\",\"SSD\",\"STP\",\"SUR\",\"SVK\",\"SVN\",\"SWE\",\"SWZ\",\"SYC\",\"SYR\",\"TCD\",\"TGO\",\"THA\",\"TJK\",\"TKM\",\"TLS\",\"TTO\",\"TUN\",\"TUR\",\"TWN\",\"TZA\",\"UGA\",\"UKR\",\"URY\",\"USA\",\"UZB\",\"VCT\",\"VEN\",\"VNM\",\"VUT\",\"YEM\",\"ZAF\",\"ZMB\",\"ZWE\"],\"locations\":[\"AFG\",\"AGO\",\"ALB\",\"ARG\",\"ARM\",\"ATG\",\"AUS\",\"AUT\",\"AZE\",\"BDI\",\"BEL\",\"BEN\",\"BFA\",\"BGD\",\"BGR\",\"BHS\",\"BIH\",\"BLR\",\"BLZ\",\"BOL\",\"BRA\",\"BRB\",\"BRN\",\"BTN\",\"BWA\",\"CAF\",\"CAN\",\"CHE\",\"CHL\",\"CHN\",\"CIV\",\"CMR\",\"COD\",\"COG\",\"COL\",\"COM\",\"CPV\",\"CRI\",\"CUB\",\"CYP\",\"CZE\",\"DEU\",\"DMA\",\"DNK\",\"DOM\",\"DZA\",\"ECU\",\"EGY\",\"ERI\",\"ESP\",\"EST\",\"ETH\",\"FIN\",\"FJI\",\"FRA\",\"FSM\",\"GAB\",\"GBR\",\"GEO\",\"GHA\",\"GIN\",\"GMB\",\"GNB\",\"GNQ\",\"GRC\",\"GRD\",\"GTM\",\"GUY\",\"HND\",\"HRV\",\"HTI\",\"HUN\",\"IDN\",\"IND\",\"IRL\",\"IRN\",\"IRQ\",\"ISR\",\"ITA\",\"JAM\",\"JOR\",\"JPN\",\"KAZ\",\"KEN\",\"KGZ\",\"KHM\",\"KNA\",\"KOR\",\"LAO\",\"LBN\",\"LBR\",\"LBY\",\"LCA\",\"LKA\",\"LSO\",\"LTU\",\"LUX\",\"LVA\",\"MAR\",\"MDA\",\"MDG\",\"MDV\",\"MEX\",\"MKD\",\"MLI\",\"MLT\",\"MMR\",\"MNE\",\"MNG\",\"MOZ\",\"MRT\",\"MUS\",\"MWI\",\"MYS\",\"NAM\",\"NCL\",\"NER\",\"NGA\",\"NIC\",\"NLD\",\"NOR\",\"NPL\",\"NZL\",\"OMN\",\"PAK\",\"PAN\",\"PER\",\"PHL\",\"PNG\",\"POL\",\"PRI\",\"PRK\",\"PRT\",\"PRY\",\"PSE\",\"ROU\",\"RUS\",\"RWA\",\"SDN\",\"SDN and SSD\",\"SEN\",\"SGP\",\"SLB\",\"SLE\",\"SLV\",\"SOM\",\"SRB\",\"SRB and MNE\",\"SSD\",\"STP\",\"SUR\",\"SVK\",\"SVN\",\"SWE\",\"SWZ\",\"SYC\",\"SYR\",\"TCD\",\"TGO\",\"THA\",\"TJK\",\"TKM\",\"TLS\",\"TTO\",\"TUN\",\"TUR\",\"TWN\",\"TZA\",\"UGA\",\"UKR\",\"URY\",\"USA\",\"UZB\",\"VCT\",\"VEN\",\"VNM\",\"VUT\",\"YEM\",\"ZAF\",\"ZMB\",\"ZWE\"],\"name\":\"\",\"z\":[0.0,0.0,0.0,-4.4048248727579476e-05,0.0,0.0,0.0,0.0,0.0,0.0,0.0,-0.09660369188959672,0.0,-0.000720915470273096,0.0,0.0,0.0,0.0,0.0,0.0,3.413044552450587e-07,0.0,0.0,0.0,0.0,0.0,0.0,0.0,-0.373373957484268,-0.002268014705764965,-0.009732825578484068,-0.30217351669832687,-0.021657632156863404,-0.003485556423761078,-0.00025368053403727685,0.0,0.0,-0.0005108003305602087,0.0,0.0,0.0,0.0,0.0,0.0,0.0,0.0,-0.014606645535516681,0.0,0.0,0.0,0.0,0.0,0.0,0.0,0.0,0.0,-0.000770892109579646,0.0,0.0,-0.006526258288224483,-0.0011098795640277271,0.0,-0.002456963804914832,-0.001355552246310422,0.0,0.0,0.0,0.0,-0.002242839601374013,0.0,0.0,0.0,-0.027242873891469243,-0.3171439821763559,0.0,0.0,0.0,0.0,0.0,0.0,0.0,0.0,0.0,-0.010490138418058608,0.0,-0.004712860106245259,0.0,0.0,0.0,0.0,-2.9939750942547327,0.0,0.0,-0.0001879379880917381,0.0,0.0,0.0,0.0,0.0,0.0,0.0,0.0,0.0,0.0,0.0,0.0,-0.044062549493052515,0.0,0.0,0.0,0.0,0.0,0.0,0.0,0.0,0.0,0.0,-0.07697403037549991,-0.004044451181918615,0.0,0.0,0.0,-2.6867071254287125,0.0,0.0,0.0,0.0,-0.07860131056228985,0.0,0.0,0.0,0.0,0.0,0.0,0.0,0.0,0.0,-0.0002469743268958532,0.0,0.0,0.0,0.0,-0.14283967660359925,-0.13587843139285674,0.0,0.0,0.0,0.0,0.0,0.0,0.0,0.0,0.0,0.0,0.0,0.0,0.0,0.0,-0.011936386616730138,-9.136026592070172e-05,0.0,0.0,0.0,0.0,0.0,0.0,0.0,0.0,-0.012221411586326586,0.0,0.0,0.0,0.0,0.0,0.0,-3.333014774851974e-05,0.0,0.0,0.0,0.0,0.0],\"type\":\"choropleth\"}],                        {\"template\":{\"data\":{\"histogram2dcontour\":[{\"type\":\"histogram2dcontour\",\"colorbar\":{\"outlinewidth\":0,\"ticks\":\"\"},\"colorscale\":[[0.0,\"#0d0887\"],[0.1111111111111111,\"#46039f\"],[0.2222222222222222,\"#7201a8\"],[0.3333333333333333,\"#9c179e\"],[0.4444444444444444,\"#bd3786\"],[0.5555555555555556,\"#d8576b\"],[0.6666666666666666,\"#ed7953\"],[0.7777777777777778,\"#fb9f3a\"],[0.8888888888888888,\"#fdca26\"],[1.0,\"#f0f921\"]]}],\"choropleth\":[{\"type\":\"choropleth\",\"colorbar\":{\"outlinewidth\":0,\"ticks\":\"\"}}],\"histogram2d\":[{\"type\":\"histogram2d\",\"colorbar\":{\"outlinewidth\":0,\"ticks\":\"\"},\"colorscale\":[[0.0,\"#0d0887\"],[0.1111111111111111,\"#46039f\"],[0.2222222222222222,\"#7201a8\"],[0.3333333333333333,\"#9c179e\"],[0.4444444444444444,\"#bd3786\"],[0.5555555555555556,\"#d8576b\"],[0.6666666666666666,\"#ed7953\"],[0.7777777777777778,\"#fb9f3a\"],[0.8888888888888888,\"#fdca26\"],[1.0,\"#f0f921\"]]}],\"heatmap\":[{\"type\":\"heatmap\",\"colorbar\":{\"outlinewidth\":0,\"ticks\":\"\"},\"colorscale\":[[0.0,\"#0d0887\"],[0.1111111111111111,\"#46039f\"],[0.2222222222222222,\"#7201a8\"],[0.3333333333333333,\"#9c179e\"],[0.4444444444444444,\"#bd3786\"],[0.5555555555555556,\"#d8576b\"],[0.6666666666666666,\"#ed7953\"],[0.7777777777777778,\"#fb9f3a\"],[0.8888888888888888,\"#fdca26\"],[1.0,\"#f0f921\"]]}],\"heatmapgl\":[{\"type\":\"heatmapgl\",\"colorbar\":{\"outlinewidth\":0,\"ticks\":\"\"},\"colorscale\":[[0.0,\"#0d0887\"],[0.1111111111111111,\"#46039f\"],[0.2222222222222222,\"#7201a8\"],[0.3333333333333333,\"#9c179e\"],[0.4444444444444444,\"#bd3786\"],[0.5555555555555556,\"#d8576b\"],[0.6666666666666666,\"#ed7953\"],[0.7777777777777778,\"#fb9f3a\"],[0.8888888888888888,\"#fdca26\"],[1.0,\"#f0f921\"]]}],\"contourcarpet\":[{\"type\":\"contourcarpet\",\"colorbar\":{\"outlinewidth\":0,\"ticks\":\"\"}}],\"contour\":[{\"type\":\"contour\",\"colorbar\":{\"outlinewidth\":0,\"ticks\":\"\"},\"colorscale\":[[0.0,\"#0d0887\"],[0.1111111111111111,\"#46039f\"],[0.2222222222222222,\"#7201a8\"],[0.3333333333333333,\"#9c179e\"],[0.4444444444444444,\"#bd3786\"],[0.5555555555555556,\"#d8576b\"],[0.6666666666666666,\"#ed7953\"],[0.7777777777777778,\"#fb9f3a\"],[0.8888888888888888,\"#fdca26\"],[1.0,\"#f0f921\"]]}],\"surface\":[{\"type\":\"surface\",\"colorbar\":{\"outlinewidth\":0,\"ticks\":\"\"},\"colorscale\":[[0.0,\"#0d0887\"],[0.1111111111111111,\"#46039f\"],[0.2222222222222222,\"#7201a8\"],[0.3333333333333333,\"#9c179e\"],[0.4444444444444444,\"#bd3786\"],[0.5555555555555556,\"#d8576b\"],[0.6666666666666666,\"#ed7953\"],[0.7777777777777778,\"#fb9f3a\"],[0.8888888888888888,\"#fdca26\"],[1.0,\"#f0f921\"]]}],\"mesh3d\":[{\"type\":\"mesh3d\",\"colorbar\":{\"outlinewidth\":0,\"ticks\":\"\"}}],\"scatter\":[{\"fillpattern\":{\"fillmode\":\"overlay\",\"size\":10,\"solidity\":0.2},\"type\":\"scatter\"}],\"parcoords\":[{\"type\":\"parcoords\",\"line\":{\"colorbar\":{\"outlinewidth\":0,\"ticks\":\"\"}}}],\"scatterpolargl\":[{\"type\":\"scatterpolargl\",\"marker\":{\"colorbar\":{\"outlinewidth\":0,\"ticks\":\"\"}}}],\"bar\":[{\"error_x\":{\"color\":\"#2a3f5f\"},\"error_y\":{\"color\":\"#2a3f5f\"},\"marker\":{\"line\":{\"color\":\"#E5ECF6\",\"width\":0.5},\"pattern\":{\"fillmode\":\"overlay\",\"size\":10,\"solidity\":0.2}},\"type\":\"bar\"}],\"scattergeo\":[{\"type\":\"scattergeo\",\"marker\":{\"colorbar\":{\"outlinewidth\":0,\"ticks\":\"\"}}}],\"scatterpolar\":[{\"type\":\"scatterpolar\",\"marker\":{\"colorbar\":{\"outlinewidth\":0,\"ticks\":\"\"}}}],\"histogram\":[{\"marker\":{\"pattern\":{\"fillmode\":\"overlay\",\"size\":10,\"solidity\":0.2}},\"type\":\"histogram\"}],\"scattergl\":[{\"type\":\"scattergl\",\"marker\":{\"colorbar\":{\"outlinewidth\":0,\"ticks\":\"\"}}}],\"scatter3d\":[{\"type\":\"scatter3d\",\"line\":{\"colorbar\":{\"outlinewidth\":0,\"ticks\":\"\"}},\"marker\":{\"colorbar\":{\"outlinewidth\":0,\"ticks\":\"\"}}}],\"scattermapbox\":[{\"type\":\"scattermapbox\",\"marker\":{\"colorbar\":{\"outlinewidth\":0,\"ticks\":\"\"}}}],\"scatterternary\":[{\"type\":\"scatterternary\",\"marker\":{\"colorbar\":{\"outlinewidth\":0,\"ticks\":\"\"}}}],\"scattercarpet\":[{\"type\":\"scattercarpet\",\"marker\":{\"colorbar\":{\"outlinewidth\":0,\"ticks\":\"\"}}}],\"carpet\":[{\"aaxis\":{\"endlinecolor\":\"#2a3f5f\",\"gridcolor\":\"white\",\"linecolor\":\"white\",\"minorgridcolor\":\"white\",\"startlinecolor\":\"#2a3f5f\"},\"baxis\":{\"endlinecolor\":\"#2a3f5f\",\"gridcolor\":\"white\",\"linecolor\":\"white\",\"minorgridcolor\":\"white\",\"startlinecolor\":\"#2a3f5f\"},\"type\":\"carpet\"}],\"table\":[{\"cells\":{\"fill\":{\"color\":\"#EBF0F8\"},\"line\":{\"color\":\"white\"}},\"header\":{\"fill\":{\"color\":\"#C8D4E3\"},\"line\":{\"color\":\"white\"}},\"type\":\"table\"}],\"barpolar\":[{\"marker\":{\"line\":{\"color\":\"#E5ECF6\",\"width\":0.5},\"pattern\":{\"fillmode\":\"overlay\",\"size\":10,\"solidity\":0.2}},\"type\":\"barpolar\"}],\"pie\":[{\"automargin\":true,\"type\":\"pie\"}]},\"layout\":{\"autotypenumbers\":\"strict\",\"colorway\":[\"#636efa\",\"#EF553B\",\"#00cc96\",\"#ab63fa\",\"#FFA15A\",\"#19d3f3\",\"#FF6692\",\"#B6E880\",\"#FF97FF\",\"#FECB52\"],\"font\":{\"color\":\"#2a3f5f\"},\"hovermode\":\"closest\",\"hoverlabel\":{\"align\":\"left\"},\"paper_bgcolor\":\"white\",\"plot_bgcolor\":\"#E5ECF6\",\"polar\":{\"bgcolor\":\"#E5ECF6\",\"angularaxis\":{\"gridcolor\":\"white\",\"linecolor\":\"white\",\"ticks\":\"\"},\"radialaxis\":{\"gridcolor\":\"white\",\"linecolor\":\"white\",\"ticks\":\"\"}},\"ternary\":{\"bgcolor\":\"#E5ECF6\",\"aaxis\":{\"gridcolor\":\"white\",\"linecolor\":\"white\",\"ticks\":\"\"},\"baxis\":{\"gridcolor\":\"white\",\"linecolor\":\"white\",\"ticks\":\"\"},\"caxis\":{\"gridcolor\":\"white\",\"linecolor\":\"white\",\"ticks\":\"\"}},\"coloraxis\":{\"colorbar\":{\"outlinewidth\":0,\"ticks\":\"\"}},\"colorscale\":{\"sequential\":[[0.0,\"#0d0887\"],[0.1111111111111111,\"#46039f\"],[0.2222222222222222,\"#7201a8\"],[0.3333333333333333,\"#9c179e\"],[0.4444444444444444,\"#bd3786\"],[0.5555555555555556,\"#d8576b\"],[0.6666666666666666,\"#ed7953\"],[0.7777777777777778,\"#fb9f3a\"],[0.8888888888888888,\"#fdca26\"],[1.0,\"#f0f921\"]],\"sequentialminus\":[[0.0,\"#0d0887\"],[0.1111111111111111,\"#46039f\"],[0.2222222222222222,\"#7201a8\"],[0.3333333333333333,\"#9c179e\"],[0.4444444444444444,\"#bd3786\"],[0.5555555555555556,\"#d8576b\"],[0.6666666666666666,\"#ed7953\"],[0.7777777777777778,\"#fb9f3a\"],[0.8888888888888888,\"#fdca26\"],[1.0,\"#f0f921\"]],\"diverging\":[[0,\"#8e0152\"],[0.1,\"#c51b7d\"],[0.2,\"#de77ae\"],[0.3,\"#f1b6da\"],[0.4,\"#fde0ef\"],[0.5,\"#f7f7f7\"],[0.6,\"#e6f5d0\"],[0.7,\"#b8e186\"],[0.8,\"#7fbc41\"],[0.9,\"#4d9221\"],[1,\"#276419\"]]},\"xaxis\":{\"gridcolor\":\"white\",\"linecolor\":\"white\",\"ticks\":\"\",\"title\":{\"standoff\":15},\"zerolinecolor\":\"white\",\"automargin\":true,\"zerolinewidth\":2},\"yaxis\":{\"gridcolor\":\"white\",\"linecolor\":\"white\",\"ticks\":\"\",\"title\":{\"standoff\":15},\"zerolinecolor\":\"white\",\"automargin\":true,\"zerolinewidth\":2},\"scene\":{\"xaxis\":{\"backgroundcolor\":\"#E5ECF6\",\"gridcolor\":\"white\",\"linecolor\":\"white\",\"showbackground\":true,\"ticks\":\"\",\"zerolinecolor\":\"white\",\"gridwidth\":2},\"yaxis\":{\"backgroundcolor\":\"#E5ECF6\",\"gridcolor\":\"white\",\"linecolor\":\"white\",\"showbackground\":true,\"ticks\":\"\",\"zerolinecolor\":\"white\",\"gridwidth\":2},\"zaxis\":{\"backgroundcolor\":\"#E5ECF6\",\"gridcolor\":\"white\",\"linecolor\":\"white\",\"showbackground\":true,\"ticks\":\"\",\"zerolinecolor\":\"white\",\"gridwidth\":2}},\"shapedefaults\":{\"line\":{\"color\":\"#2a3f5f\"}},\"annotationdefaults\":{\"arrowcolor\":\"#2a3f5f\",\"arrowhead\":0,\"arrowwidth\":1},\"geo\":{\"bgcolor\":\"white\",\"landcolor\":\"#E5ECF6\",\"subunitcolor\":\"white\",\"showland\":true,\"showlakes\":true,\"lakecolor\":\"white\"},\"title\":{\"x\":0.05},\"mapbox\":{\"style\":\"light\"}}},\"geo\":{\"domain\":{\"x\":[0.0,1.0],\"y\":[0.0,1.0]},\"center\":{}},\"coloraxis\":{\"colorbar\":{\"title\":{\"text\":\"% Change from Reference\"}},\"colorscale\":[[0.0,\"rgb(255,255,255)\"],[0.3333333333333333,\"rgb(255,210,0)\"],[0.6666666666666666,\"rgb(230,0,0)\"],[1.0,\"rgb(0,0,0)\"]],\"cmin\":0,\"cmax\":100},\"legend\":{\"tracegroupgap\":0},\"margin\":{\"t\":60},\"autosize\":false,\"width\":1000,\"height\":600,\"showlegend\":false},                        {\"responsive\": true}                    ).then(function(){\n",
       "                            \n",
       "var gd = document.getElementById('8432471b-9cc7-478e-9a23-90fb325e75d3');\n",
       "var x = new MutationObserver(function (mutations, observer) {{\n",
       "        var display = window.getComputedStyle(gd).display;\n",
       "        if (!display || display === 'none') {{\n",
       "            console.log([gd, 'removed!']);\n",
       "            Plotly.purge(gd);\n",
       "            observer.disconnect();\n",
       "        }}\n",
       "}});\n",
       "\n",
       "// Listen for the removal of the full notebook cells\n",
       "var notebookContainer = gd.closest('#notebook-container');\n",
       "if (notebookContainer) {{\n",
       "    x.observe(notebookContainer, {childList: true});\n",
       "}}\n",
       "\n",
       "// Listen for the clearing of the current output cell\n",
       "var outputEl = gd.closest('.output');\n",
       "if (outputEl) {{\n",
       "    x.observe(outputEl, {childList: true});\n",
       "}}\n",
       "\n",
       "                        })                };                });            </script>        </div>"
      ]
     },
     "metadata": {},
     "output_type": "display_data"
    }
   ],
   "source": [
    "import plotly.express as px\n",
    "\n",
    "fig = px.choropleth(merged_df, locations=\"ISO\",\n",
    "                    color=\"% Change from Reference\", # lifeExp is a column of gapminder\n",
    "                    hover_name=\"ISO\", # column to add to hover information\n",
    "                    color_continuous_scale=px.colors.sequential.Hot_r,\n",
    "                   range_color=(0, 100),)\n",
    "# Update layout for the entire figure\n",
    "fig.update_layout(\n",
    "    #title_text='Deforestation Attribution by Commodity',\n",
    "    autosize=False,\n",
    "    width=1000,\n",
    "    height=600,\n",
    "    showlegend=False,\n",
    ")\n",
    "fig.show()"
   ]
  },
  {
   "cell_type": "code",
   "execution_count": null,
   "id": "0985489a-1574-47f9-9fd2-2cf9c7048441",
   "metadata": {},
   "outputs": [],
   "source": []
  }
 ],
 "metadata": {
  "kernelspec": {
   "display_name": "Python 3 (ipykernel)",
   "language": "python",
   "name": "python3"
  },
  "language_info": {
   "codemirror_mode": {
    "name": "ipython",
    "version": 3
   },
   "file_extension": ".py",
   "mimetype": "text/x-python",
   "name": "python",
   "nbconvert_exporter": "python",
   "pygments_lexer": "ipython3",
   "version": "3.10.12"
  }
 },
 "nbformat": 4,
 "nbformat_minor": 5
}
